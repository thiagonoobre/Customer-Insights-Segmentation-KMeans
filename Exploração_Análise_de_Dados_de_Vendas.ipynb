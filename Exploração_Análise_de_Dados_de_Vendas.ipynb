{
  "nbformat": 4,
  "nbformat_minor": 0,
  "metadata": {
    "colab": {
      "provenance": [],
      "toc_visible": true,
      "authorship_tag": "ABX9TyM6Kc1BXJX6CYGrEMxGINM4",
      "include_colab_link": true
    },
    "kernelspec": {
      "name": "python3",
      "display_name": "Python 3"
    },
    "language_info": {
      "name": "python"
    }
  },
  "cells": [
    {
      "cell_type": "markdown",
      "metadata": {
        "id": "view-in-github",
        "colab_type": "text"
      },
      "source": [
        "<a href=\"https://colab.research.google.com/github/thiagonoobre/Projeto_Analise_de_Vendas/blob/main/Explora%C3%A7%C3%A3o_An%C3%A1lise_de_Dados_de_Vendas.ipynb\" target=\"_parent\"><img src=\"https://colab.research.google.com/assets/colab-badge.svg\" alt=\"Open In Colab\"/></a>"
      ]
    },
    {
      "cell_type": "markdown",
      "source": [
        "## PROJETO EXPLORAÇÃO E ANÁLISE DE DADOS DE VENDAS"
      ],
      "metadata": {
        "id": "fN0JE96ULe2S"
      }
    },
    {
      "cell_type": "markdown",
      "source": [
        "Nesse projeto estaremos trabalhando com conjunto de dados da ***Contoso Corporation***, que é uma empresa fictícia da **Microsoft**, no qual eles disponibilizaram um Banco de dados, que simula uma multinacional no setor de varejo ([link](https://www.microsoft.com/en-us/download/details.aspx?id=18279)). Seu banco de dados contém informações relacionadas a vendas, produtos, clientes e transações financeiras, oferecendo um cenário realista para explorar técnicas de análise de dados e gerar insights de negócios.\n",
        "\n",
        "Neste notebook, realizaremos uma análise exploratória das vendas da Contoso, utilizando SQL para consultar e combinar tabelas, a fim de extrair informações valiosas e compreender melhor os padrões de vendas e o comportamento dos clientes.\n",
        "\n"
      ],
      "metadata": {
        "id": "k_KOZ8MOUfXq"
      }
    },
    {
      "cell_type": "markdown",
      "source": [
        "![](https://learn.microsoft.com/pt-br/microsoft-365/media/contoso-overview/contoso-overview-fig1.png?view=o365-worldwide)"
      ],
      "metadata": {
        "id": "cOnTEr1Qpcww"
      }
    },
    {
      "cell_type": "markdown",
      "source": [
        "### 1\\. Entendendos os Dados"
      ],
      "metadata": {
        "id": "zy7nkPlNpXKv"
      }
    },
    {
      "cell_type": "markdown",
      "source": [
        "Nosso foco será nas tabelas de vendas (`FactOnlineSales`), produtos (`DimProduct`) e clientes (`DimCustomer`). Através da análise desses dados e de suas relações com outras tabelas, buscaremos um entendimento mais completo do nosso banco de dados.\n",
        "\n",
        "A análise não abrangerá todas as colunas das tabelas, no entanto, essa amostra nos permite ter uma ideia da dimensão do banco de dados e da complexidade dos dados que ele contém.\n",
        "\n",
        "Apresentaremos as consultas (`queries`) utilizadas para extrair os nomes das colunas."
      ],
      "metadata": {
        "id": "7dwHfsWip5Bo"
      }
    },
    {
      "cell_type": "markdown",
      "source": [
        "#### **1\\.1 FactOnlineSales**"
      ],
      "metadata": {
        "id": "2G_MEEf6uidE"
      }
    },
    {
      "cell_type": "markdown",
      "source": [
        "* Query para extrair os nomes das colunas"
      ],
      "metadata": {
        "id": "eLsJXq8lub2z"
      }
    },
    {
      "cell_type": "markdown",
      "source": [
        "\n",
        "```sql\n",
        "SELECT COLUMN_NAME\n",
        "FROM INFORMATION_SCHEMA.COLUMNS\n",
        "WHERE TABLE_NAME = 'FactOnlineSales'\n",
        "\n"
      ],
      "metadata": {
        "id": "gso8NZH6uLbr"
      }
    },
    {
      "cell_type": "markdown",
      "source": [
        "Os dados replesentam as informações de vendas contendo as seguintes colunas:\n",
        "\n",
        "* OnlineSalesKey = Id das vendas\n",
        "* DateKey = Data da venda\n",
        "* StoreKey = Id da Loja\n",
        "* ProductKey = Id do Produto\n",
        "* PromotionKey = Id da Promoção\n",
        "* CurrencyKey = Id da Moeda\n",
        "* CustomerKey = Id do Cliente\n",
        "* SalesOrderNumber = Número do pedido de venda\n",
        "* SalesOrderLineNumber = Número da linha do pedido de vendas\n",
        "* SalesQuantity = Quantidade de vendas\n",
        "* SalesAmount = Valor das vendas\n",
        "* ReturnQuantity = Quantidade de devolução\n",
        "* ReturnAmount = Valor da devolução\n",
        "* DiscountQuantity = Quantidade do desconto\n",
        "* DiscountAmount = Valor do desconto\n",
        "* TotalCost = Custo total\n",
        "* UnitCost = Custo unitário\n",
        "* UnitPrice = Preço unitário"
      ],
      "metadata": {
        "id": "ty7BBXSzuuUC"
      }
    },
    {
      "cell_type": "markdown",
      "source": [
        "#### **1\\.2 DimProduct**"
      ],
      "metadata": {
        "id": "SaCFFLfZzKCq"
      }
    },
    {
      "cell_type": "markdown",
      "source": [
        "* Query para extrair os nomes das colunas\n"
      ],
      "metadata": {
        "id": "PVV-qIak0EGT"
      }
    },
    {
      "cell_type": "markdown",
      "source": [
        "\n",
        "```sql\n",
        "SELECT COLUMN_NAME\n",
        "FROM INFORMATION_SCHEMA.COLUMNS\n",
        "WHERE TABLE_NAME = 'DimProduct'\n",
        "\n"
      ],
      "metadata": {
        "id": "l0upQYZi0QhM"
      }
    },
    {
      "cell_type": "markdown",
      "source": [
        "Os dados replesentam as informações dos produtos contendo as seguintes colunas:\n",
        "\n",
        "* ProductKey = Id do Produto\n",
        "* ProductLabel = Rótulo do produto\n",
        "* ProductName = Nome do produto\n",
        "* ProductDescription = Descrição do produto\n",
        "* ProductSubcategoryKey = Is da subcategoria do produto\n",
        "* Manufacturer = Fabricante\n",
        "* BrandName = Nome da marca\n",
        "* ClassID = ClassID\n",
        "* ClassName = Nome da classe\n",
        "* StyleID = ID do estilo\n",
        "* StyleName = Nome do estilo\n",
        "* ColorID = ID da cor\n",
        "* ColorName = Nome da cor\n",
        "* Size = Tamanho\n",
        "* SizeRange = Faixa de tamanho\n",
        "* SizeUnitMeasureID = ID da unidade de medida de tamanho\n",
        "* Weight = Peso\n",
        "* WeightUnitMeasureID = ID da unidade de medida de peso\n",
        "* UnitOfMeasureID = ID da unidade de medida\n",
        "* UnitOfMeasureName = Nome da unidade de medida\n",
        "* StockTypeID = ID do tipo de estoque\n",
        "* StockTypeName = Nome do tipo de estoque\n",
        "* UnitCost = Custo unitário\n",
        "* UnitPrice = Preço unitário\n",
        "* AvailableForSaleDate = Data de disponibilidade para venda\n",
        "* StopSaleDate = Data de término da venda\n",
        "* Status = Status"
      ],
      "metadata": {
        "id": "p1fAa2cZzPZf"
      }
    },
    {
      "cell_type": "markdown",
      "source": [
        "#### **1\\.2 DimCustomer**"
      ],
      "metadata": {
        "id": "kcAaBI_D1woI"
      }
    },
    {
      "cell_type": "markdown",
      "source": [
        "* Query para extrair os nomes das colunas\n"
      ],
      "metadata": {
        "id": "icHl1v0f2w88"
      }
    },
    {
      "cell_type": "markdown",
      "source": [
        "\n",
        "```sql\n",
        "SELECT COLUMN_NAME\n",
        "FROM INFORMATION_SCHEMA.COLUMNS\n",
        "WHERE TABLE_NAME = 'DimCustomer'\n",
        "\n"
      ],
      "metadata": {
        "id": "xIety7FB2zQf"
      }
    },
    {
      "cell_type": "markdown",
      "source": [
        "Os dados replesentam as informações dos Clientes contendo as seguintes colunas:\n",
        "\n",
        "* CustomerKey = Id do Cliente\n",
        "* GeographyKey = Id da Geografia\n",
        "* CustomerLabel = Rótulo do Cliente\n",
        "* Title = Título\n",
        "* FirstName = Primeiro Nome\n",
        "* MiddleName = Nome do Meio\n",
        "* LastName = Sobrenome\n",
        "* NameStyle = Estilo do Nome\n",
        "* BirthDate = Data de Nascimento\n",
        "* MaritalStatus = Estado Civil\n",
        "* Suffix = Sufixo\n",
        "* Gender = Gênero\n",
        "* EmailAddress = Endereço de Email\n",
        "* YearlyIncome = Renda Anual\n",
        "* TotalChildren = Total de Filhos\n",
        "* NumberChildrenAtHome = Número de Filhos em Casa\n",
        "* Education = Educação\n",
        "* Occupation = Ocupação\n",
        "* HouseOwnerFlag = Indicador de Proprietário de Casa\n",
        "* NumberCarsOwned = Número de Carros Possuídos\n",
        "* AddressLine1 = Endereço Linha 1\n",
        "* AddressLine2 = Endereço Linha 2\n",
        "* Phone = Telefone\n",
        "* DateFirstPurchase = Data da Primeira Compra\n",
        "* CustomerType = Tipo de Cliente\n",
        "* CompanyName = Nome da Empresa"
      ],
      "metadata": {
        "id": "DmAImvw313VK"
      }
    },
    {
      "cell_type": "markdown",
      "source": [
        "### 2\\. Exploração de Dados"
      ],
      "metadata": {
        "id": "d3VhoVop4Bxz"
      }
    },
    {
      "cell_type": "markdown",
      "source": [
        "#### **2\\.1 Coleta**"
      ],
      "metadata": {
        "id": "29r0w2iuIMh-"
      }
    },
    {
      "cell_type": "markdown",
      "source": [
        "Para iniciar a análise dos dados, realizei uma consulta SELECT TOP(5) em cada uma das tabelas principais: `DimProduct`, `DimCustomer` e `FactOnlineSales`. Essa consulta me permitiu obter uma amostra dos 5 primeiros registros de cada tabela, o que me deu uma visão geral rápida da estrutura e dos dados contidos em cada uma delas. Essa abordagem é útil para validar a integridade dos dados e identificar possíveis inconsistências antes de realizar análises mais aprofundadas."
      ],
      "metadata": {
        "id": "GnZm_DsFZSQZ"
      }
    },
    {
      "cell_type": "markdown",
      "source": [
        "- FactOnlineSales"
      ],
      "metadata": {
        "id": "6XAP2fFIZafn"
      }
    },
    {
      "cell_type": "markdown",
      "source": [
        "```sql\n",
        "SELECT TOP(5) * FROM FactOnlineSales\n",
        " ```"
      ],
      "metadata": {
        "id": "6Qdox4BQZnZf"
      }
    },
    {
      "cell_type": "markdown",
      "source": [
        "![image.png](data:image/png;base64,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)"
      ],
      "metadata": {
        "id": "W01zNPV0copi"
      }
    },
    {
      "cell_type": "markdown",
      "source": [
        "- DimCustomer"
      ],
      "metadata": {
        "id": "XffH-SG2Z_su"
      }
    },
    {
      "cell_type": "markdown",
      "source": [
        "```sql\n",
        "SELECT TOP(5) * FROM DimCustomer\n",
        " ```"
      ],
      "metadata": {
        "id": "wW_SmPp3aB9R"
      }
    },
    {
      "cell_type": "markdown",
      "source": [
        "![image.png](data:image/png;base64,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)"
      ],
      "metadata": {
        "id": "bQiDn2W0dZG4"
      }
    },
    {
      "cell_type": "markdown",
      "source": [
        "- DimProduct"
      ],
      "metadata": {
        "id": "-Jqh35n_aTvR"
      }
    },
    {
      "cell_type": "markdown",
      "source": [
        "```sql\n",
        "SELECT TOP(5) * FROM DimProduct\n",
        "```"
      ],
      "metadata": {
        "id": "hw7mfr2PaL6a"
      }
    },
    {
      "cell_type": "markdown",
      "source": [
        "![image.png](data:image/png;base64,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)"
      ],
      "metadata": {
        "id": "uBP3Ja7zeJQF"
      }
    },
    {
      "cell_type": "markdown",
      "source": [
        ">As queries a seguir dara uma visão da quantidade de registros que temos em cada tabela."
      ],
      "metadata": {
        "id": "keDwN6XtfYT7"
      }
    },
    {
      "cell_type": "markdown",
      "source": [
        "- FactOnlineSales"
      ],
      "metadata": {
        "id": "tJfXKtBbg8cG"
      }
    },
    {
      "cell_type": "markdown",
      "source": [
        "```sql\n",
        "SELECT COUNT(*) FROM FactOnlineSales\n",
        " ```"
      ],
      "metadata": {
        "id": "Nd57UtmTg8cH"
      }
    },
    {
      "cell_type": "markdown",
      "source": [
        "![image.png](data:image/png;base64,iVBORw0KGgoAAAANSUhEUgAAAJEAAAAoCAIAAABxf4/JAAAE10lEQVR4Ae1aPZLqMAz2ZWgpKVJyBWpmqHIDuAIdk4Ir0FGlyDVygNT0cIK8kWTJSuxkzd8+sph58xCOJMvf5082u2vatr1cLm16TQSBy+ViEmcTIcuWmTibFl9QbeLsr3FW5XnRNEVmsqLhtTVFpj7xaOg93jMU/XtjL6nzqSRNkedV9ILHdNYUGWQCzoxjLb64eM/oct/i+JI6n0xS5ZFCGO+NVW6QfKymyJG/FimMTP/kMt7CTyjpS+p8NokVSKi+/tiwzpgy0FmGHZKokuKaIgcBGpPl0DlhPHdDJNDACHdZlzbPMVFWVBie5ZU04lBa3DcyNbQUnDqcpFekXj4/yjLu/TxiV9RxruyMhstTzlyDQkk2tw9L27aSDLLZaQRvPW3QHuSMIIUYtiqSmv3Io+KAx56Fu8otzbJCGRGNUgI5LLUhPpS8lwQKMjQRWTiAMf0kXpEOA5WkyrHz/+RMm60hbxWO1ViUVA430q/fFWF9cECHKo+AeQdnuD14K0HN+gUicXcTml9X8eOIOItB1eqP9ybxixQBB9PqBbkD3O1ah18wXHcjvZVlC0oUaJTx46fy0M0yYN3FGW6LXDQkssbcek6y7xoRZzGoYv2R7JEReSSedCT7ixdPDW6M83hVwbTMCqsKlUr9X/kr0y+3MzLIWSv9tZOsyu0dEpuDbRfdA0+jECgXD7+2bXrdUmYRYwgdWLrXG2kiibWGV6RbezcJhP/kHNMbETVx7NwDBBbtU1BbhrIEb1fjgDXMmSQRIDAFrMwCxCepu4NQtdxMdCDbEA6vDC4eupmwA29GrlfG3ZohP99BcEbxCRjdIjkrvLtSMtvVYR/Z6nglHCCP5HAaqMFl7S1Q1e9C5foD1XT7Fs/sv49wdk8aP3EauQsBe8GLihnjDPRqO1lUruT0KAKv+znIoxWkuPciMK6z986dsj+GQOLsMdz+ZxRwdsWXMWCk/z8fgbZt4ffU1+v1VN/Sv89HwBjgy3JmjPn8ilOF1+vVcZbgmAQCH6mzsj6UqUsPIhCts3K/NJsdH3i71YJ+Aj7b1nZvHjczHJqtzjTS8zlsbQgFGsoWjlrMjJE8hy1lXixlLi5jErJ4eZExOqvXc8KZOTtuzGp/AODg0fJ4O9XnpSGjXq/QCPiojVPukRIvqtzP5pJ5sS5vp3I/M5sdGOelwZHvJuxU36J1BqwwZwq1w3YBUjtujMVaEcNu1oc/nurbboXo+1HAtMgUuXcs3na0G1Sel2/hSSSM0RnREOTM6gz6HmPtLVu0yHQyDX6UZpftej0nwZ2X88Cm8abjWf4utU/pDEBHeQG+q80SW6icQ4Sm+Ai4h+0C2+nNj2KeAHdnA8eL2dxGSZ6vNR7XGWDK/RAVI+cQHWyMO/swxE4ufpTjSThjUeLZmc4zQPVBnfXVc9zIBVJw7/tgs5KnQKEf5Z1n2l/bvAP+fif0V/qQzugu1zkw8LSDL1V8egV86KnWSijK6pKPMXdP4cydeb+Rs0d0tlvxVyx8twrrftMK+5Tn9dZeC+326UbRldKYzvcz9z1v8JrzXczF6+wXcUk/BxntJfE6+0XORiv2+/u3jXykzhJnowgknU2vfySdTY8zqzP624L0hwVTQcD+zvN//klKmvt+BOBvC9JrWgj8A+n2K342zoo9AAAAAElFTkSuQmCC)"
      ],
      "metadata": {
        "id": "6iNYOQDdhN4w"
      }
    },
    {
      "cell_type": "markdown",
      "source": [
        "- DimCustomer"
      ],
      "metadata": {
        "id": "pyXkLAOog8cI"
      }
    },
    {
      "cell_type": "markdown",
      "source": [
        "```sql\n",
        "SELECT COUNT(*) FROM DimCustomer\n",
        " ```"
      ],
      "metadata": {
        "id": "XjJvG3Pcg8cJ"
      }
    },
    {
      "cell_type": "markdown",
      "source": [
        "![image.png](data:image/png;base64,iVBORw0KGgoAAAANSUhEUgAAAJUAAAApCAIAAACzyPwWAAAEe0lEQVR4Ae1aQY7qMAzNoUoXvUuFuslBkJBY9hRI6PNXX+oZWCBxgK5HYoNUcYF+OY4dtw0zoR3+EP2g0RCM47z4+TmBGdWnR8wZUL9+/0k/8WZAYfF9fHzEXIX/F3ZJVuIvPu4Tf/FxJhEn/mQ24huH89doXbdtXaiibmmfbV2IV2T1PYd7+mb/O9u34FwUpK21boI3HMpfWxcQFfhTjsFwoOGewdBf4vgtOBcGaXSgKPq+D+Sv0coUhUFWa8Nlb+gMXGrhll7ClS/ot+BcGsSKxYdvbAvjj+gD/RWmiyJtDLStNQhTqUJDdwW7diYUrsdCndiF1doEKurGTC90w83aF9bUEC8Nbccs7Q8yAilTQW8VBZ0PZLE7Gjg3dkVF8IQzYRBZ4kKfpqXvew4G0ewynG+5rHccxB+mF+bTqEEJ2pdkZQdzTNrUN9pSzrtlC2sXA/DhKgfsg8FHQQCQwoVwZAxmzjjIBKTLhwjSaHM6fOWMhdeit5hu0NgsiRjOMsbvQFgfY5BThYdnOJM/UzZUYoBfPkA87l6DWCSiLy3szANELl8+G2QKkoXtDSs35A58V8Eul97pskvJsuZy5FmgXcofvctvulUejGbzZ8pFs7ZY+mYduT6On7KwMw8QvXyJ408s/BZ74hE+TQR7ykSHOH+OyhuWGCK1GQXjGSH8xXAKd2AJ4q/nfjwI3Gh7FzUNxLaU4QEpM+KBbg7Lvm9HHZVX4cGjTEEaJv0TF+K5djAB6fIwDALTv3IO6Z8ma+w4uDdwWqRPja0bYHG+HcYHozD+OCAnxYSDXdpk0Sns7i+InBqOnEhjmA6PAi4tsuGQAxUpYWe72z/Ep/uLWZF9PIMhSIoKzw5KYTs/1JRFRzuhCfwWH2YPMLioow0K/G4qX50AzbCf0crT50D+ngk5XSRZnsqAvRwGzQnlDzRtu11Q3OQ0NwOv+f5lLpo077UZCNffa3Gk6PMykPibl7d3mTXgr6OHUqrruvT7/TMg68j+/b3ruuvtnn7ePwNKWcqQRcefUur90SeEXdcl/UXcaZL+IibvervP0t95V6pqTwfkaVtl8DVTXm4v2NCmlusBfVS2PqLPfp2b76by8hB3Bn+2hz+rv8tmZdLO/J13mar25/v1fCxVvoHBxHI7lkoZni6btRkcKrXanW44y5XCz+YixtVn6Q/4oKSfdxkycbvvkZuphdlyks0zJ9Ykwfkd6Fn94UqCv9tls0LZHcsVkjq2nLa5orZpa9wxCopkLmNUwM9iXqw/6IG7bJVnKyGjoeW0zbN1VZrGOz7/VlW5dlr82VzEuPpi/bluybLjjmotRn/mtAOx4kHoOsY+6Y+OlRkFtFR/oC1xkmXby9QCl8+hjwDqYVS862hORm8GFutPnmSorakF7zvn+5X1d6jUGhR5OlSKr0ILytC7t//BuFR/V7h24ie56Wc7Z0mf/15UTPP0l9rau2Rgnv7eBf2LijqisEl/cddi0l/c/CX9xc3fWH/07xPw/P7/OpAQ+vUn/6SbxhFl4C/qXkykr8xffgAAAABJRU5ErkJggg==)"
      ],
      "metadata": {
        "id": "HtqgNH59hUvL"
      }
    },
    {
      "cell_type": "markdown",
      "source": [
        "- DimProduct"
      ],
      "metadata": {
        "id": "bLX2aBUVg8cJ"
      }
    },
    {
      "cell_type": "markdown",
      "source": [
        "```sql\n",
        "SELECT COUNT(*) FROM DimProduct\n",
        "```"
      ],
      "metadata": {
        "id": "U1UNB2pwg8cJ"
      }
    },
    {
      "cell_type": "markdown",
      "source": [
        "![image.png](data:image/png;base64,iVBORw0KGgoAAAANSUhEUgAAAJQAAAAqCAIAAADanuWGAAAEaklEQVR4Ae1aQWrrMBDVodIsfJcQutFBAoEsfYpA+f6rDz5DFoYcwOtCNgWTC/gzM5qRbCuN7CTFphNKI8uj0fN7eiOljWn1tVgGzJ+///RnoQwYWXafn5/S1sbMGSCxVLyZyxSHp+LFeVlEr4q3CJniIBPFK63N6zrPTJbXnKjOs+CKe2Pv6ZGx0T/X9xScDyWpc2vL5AdOEq/OM0gJ4hkvXzrK9Mhk3C8JfArOB5OUNtERbdumiFdag8sBYeUWhWxRy8R5HnyelwgVS/oUnI8mcU6J4ev3JYjH2oHzMiyepJmgrHMLljQms1BUod/6LrJspIcLsE9rLSbK8hKHZ7aUGh1LiwtIpoZqg1PHk/RAhjzwrSzjbYF73BN1gks3o2F4QTBjCFiSVT6kpW1bSQbZ3DTCdzhttH1fPOIWBnOrJPO5S+6VANwaHe+ldXrLo0qPuJYSyIYaNiSGkveSACBDE1ELO3BMP8kApCcjSFJa3BTuBdOqqyk6GI5oHEtBDt/Tx+9BuBjsCIcGEZHmFPFwwfDiAvDhC2zjDzIEJIRzt0eCpUGww8uxSYYgxdLRtOED+U3eL19PZHR4WJ/CNS1rUUaBa5k/vis3/Sw3WtPEw4VixVXieJwknJzao3okWBoEPbyk9jc9cksiadsesiCRIcspwd+jiqZledhn6F3aGoL4oDmE2+m5L14rNbiTtbTu5Il1w1WS7qYY0hHBjRtk29a9QiqzSOMWTcDBoGzSRDLWNQYgPQndJDD8XnBK2UTWJLBzVhBawpicKjbAEr49xhutBPEkmzCCueARHVO87foDC8HmOhMO5DYMh1cGp5SwznAAL08GLv3+4SE/H1hwRomJNLogOSu8eyiZK/iwoBw6fhIeILdkA7uBwWftPWCA3w+VsxKg6VYynnn4niLemHzDGbRnFAPuNJg0Jkk8sLIrcklJNWgqAy/4C8tUKDrutQwkOu+1IDT7NAZUvGm8zWKUE68JXsaYpmn09/wZoBXk/5PeNM3l66o/82fAGKdaRzxjzPyhK8KmadR5Sy0z6rylKnf5uo5z3nG7pr+2r/ZnrFrFhq7h93pXMRHVYWPej7hxnvZuCAe6fi16jzMwxnkf72Z7OIEk592b2XxcL1+FiMRQ4Ba+YiJVh9W24EhWWg9HUxkY5zzh/bRfg/mqw+qN5OwpMRQVAo7bwJ1TEQsGbYxxnqebnVcdVma9QqtxISUVY+LdVLonvF6mMjDFebCNkeFQj2N1vVTFxhXSm+Kd9mustKnI1Fh3GRjtPCiYsVLpCqlz59B5xeYttgt6N6uooxkY5zzvuQHp34vXvTsa5d01+DsDxjgPdriOe0DLbQHnz6rYhB8V+qfQ8+5NjyrPX7IjnHfc8kc1fMcTypk/+a037pMfQeyWzarY7fUTwvPFG+O8Qan8ncVqPk89wnnzAa1IiAF13vOr2Y+tLXXegsVT5y1YPO+84FsQ0Jz/NwAUYcR59M9Z/b0gBvzXIBYEWqESA/8B/sHiLJWhFvcAAAAASUVORK5CYII=)"
      ],
      "metadata": {
        "id": "LzZd2V8Khayf"
      }
    },
    {
      "cell_type": "markdown",
      "source": [
        ">Como podemos ver temos grande quantidade de registro de vendas. O próximo passo é investigar a qualidade dos dados nas suas tabelas `DimProduct`, `DimCustomer` e `FactOnlineSales`. Para isso, utilizaremos consultas SQL específicas para identificar dados nulos e verificar os tipos de dados em cada coluna. Considerando que você já possui familiaridade com essas tabelas, apresentarei a seguir as consultas e seus objetivos.\n"
      ],
      "metadata": {
        "id": "YYoc8OdOhcAv"
      }
    },
    {
      "cell_type": "markdown",
      "source": [
        "#### **2\\.2 Estrutura**"
      ],
      "metadata": {
        "id": "KgzI5PCqAp1P"
      }
    },
    {
      "cell_type": "markdown",
      "source": [
        "```sql\n",
        "SELECT\n",
        "    COLUMN_NAME AS ColumnName,\n",
        "    DATA_TYPE AS DataType,\n",
        "    IS_NULLABLE AS IsNullable\n",
        "FROM INFORMATION_SCHEMA.COLUMNS\n",
        "WHERE TABLE_NAME = 'TableName';\n"
      ],
      "metadata": {
        "id": "3yaXU8I-ik9P"
      }
    },
    {
      "cell_type": "markdown",
      "source": [
        "- FactOnlineSales"
      ],
      "metadata": {
        "id": "z6A-_A4R7vow"
      }
    },
    {
      "cell_type": "markdown",
      "source": [
        "![image.png](data:image/png;base64,iVBORw0KGgoAAAANSUhEUgAAAP0AAAGmCAIAAAA4aRUrAAAgAElEQVR4Ae19TY7ENg5uHSrJou4SDLLpgwQYYJZ9igDBy1s9oM+QxQBzgF4PkE2AxlygH0iKnyiZcvlHtqwqFRpVsiySn8jPslwtlm7/5//+v/E3PPBqHrh9j1cLD/z3v/9tYbaOzScAP3hfhwprtTwBddZ2+SLtxfOD923CMXjfxu/f34P3rTxPdgfvW3m/yPvP97f7jV/3+9vHp4Pv8/1+f/dOOG2LVZ/v95vRUkVn0djlTji8J4fgVfD8o358vEGDFt4+HgmtPu+DN8GMGhdGWaJf4sC0floTTT4o+bwXnIHtnx9vlppQuMMqdHxLmOGsKjqj9quXHlDn8yMdFUx3Fjnq4+12AN8VxQPw2ow+F0ZZOlXq2rR+WmONzpZd3i/Tt6zVrHX2yP39/e0e4lNF5wOTFzr9mDolh5Tqk85difdLoiydKnVtWj+tSbo/d+DxvqQOUx9hqTSzjWPN2xvPku7vHzxd4vs1nX3T2VNKdChB4UNnWTduybKOTh5LQtP72+5Z15ynjjj3mPffyt3EITJ+3sJtODllYaqsDLg69FPtO8UCfgtzIBPfJZ6cAQ98ISQSVgQ3O5Qbwv39M6vP+kVnA6+EFHQbkZnCSuR4skq/z4E660O+V8lEn3r19hGs2sZSptMMxxakV4SXnwg+3oBYCh8y5FttYn1eZ+x6uHXsfd5Iunz4wQx11PbEI3AIJofa1DqD6yLvQ/Solis5hELuEE0rPLEJC7ZQBq92VTV0J1G2VmynbL3Yw1nlT1AcWhoBU7RQp2UBv4D3VqOU7XuGT6/ChNxTDbjQSfzjDVd8GMX1AS+tz3Xqkxt/Trkw7fKFasrUAcjIobe755CpryCKewXXBEXyMY0FUcm+HnuyDJ510c3941PGoWjORDlW6pglNainUVxBWQ6ANmhvgbvPotEnoeTxHpenbQ00U6twEXBs4T1bfZP7AD9Jy53hoc4jH92sA44ol6mj1oLbyw4hct/fra9UNAztOGTGM++UZ3IKHl7pyQfgP2WKy7Or0AuyR0WJsqkMjAMS4s+kXzPtVyIvzHMYHJz5Hb7PkXsLXb/pXYbcGe6YMnsBvqyAQ1w5tkA+4e/fQp9V5zt/mQTZvMBYcMPGFYhgX7vwmDo8oxQGay9Th/CgnpyKXQ5DvFbwfBlDEqIms1aJqioKN1WVdD/L4JmygSlsD1EjRV6ULXNCY8MrcCDDHFpu4YCAT+c53Es8Ktx0UvWNKvhOOyVzDHrosPcj9FYKOLR0t5V6vX1SQR+67vywgGZOQR9/nua5Nt619XFo6pBv+orzxuNc7qtI0oz3MoTyzIPceFcXC9m/aYCTacUyT5Z5b8LnXUjE0xnmaIjzfrFYmPikDFyLvDjeR9eN0pEecKhzoLnwVEkWlFt7rJ0Lfg9SR7Y43jttR1VtD5xHHUwupAuD97wS1pnn1A7x0Od44DzeO8b3Vj0B+MH7vSTYJv8E1NnW8eZS4vnB+zaBGLxv43ddCUvfIHx9fY338z3wNV4tPCDX2+2vv/83/s73wO3W8Z326+tL2NPdO5DTeH9+1IdFBKA76nx/f/cLHsgH6dvc7sZ43+SCj7wf432Tmw8C0CT8O432Cx7Ii+P9n7//8oP82/zHX379d2FQ/Pe/fvjxX3+ufUL4979U80+//u5pXq42afmfX3+8/fDP/zTh8VqjzzneYx2CXFjmf2RYCXFbthRi55VZEo+898f733+53X75TehONP3Jp77QLiGfx+PkwvjjZ2gjzb/8lpxl8eUKTcvf/nG7/eOPtfxr1R4BSCJkiLKoPml03oEPXhZB3DQnxq6JoP8Za6p2dm2ch5osAbk73v/n1x9Tov/+i08pQ7ulBFoisqSNXC3a8s9//nTbcOeZXnJn1awb70vXw7mkgTWwBzWhwDgnuaMT9PmquVzNccdA7n2fMx2GpYZI9suv//iJpz8//fz7//4S2sX39Ozf1ODnH7l5nCzRbOTnf/7xp507YU51M2o9ceI3vX76WeYzYlruTqBsapRE9D7w2z9uBBst2xUQgCTGwhB6t2mZNELSS5YiJgJtDnzwGODBc3QnWyVPHdLcx3N7AOTeeC9kSjjxx8807aEJz8+/8wT6919oZh8Zz+Xs7N/mvmF1/vsPXDz59MkqdMQZBl8PYYJEkG63H3/64QZCT4zGy1jFk661uQz88T4SRdch2+Xp51JkxhrYk7dRxhezCoNAswEfyGkcyce/SBTlhNQk3OUnWktT9yyPU/qWzp3+/t+fv/8SJic0QstAfqMaqFVJ/vzp13/TveL240/xdkHAWK1RFR6agyydDcN8abbW4jJAABLqgPcY2qc1iUCbAx88xnsClWYVZqP7Rcd7O9AKJ4QxLrMtTTHDjsT1Hlsjz2QA5idduY1AUNT6T71yu2DNEZJ+mTO9aP/+31+M/7d/5BdefsFHYHrBH1bzYLzvnve8zj/kjupdABdps+HePNc6470QRb/P+fN3HVMjyaYzex2khSihpUzleV6ksjzbDl996nhP7JcJz5//5DtAURzfBelkRtUSg8PY7xj96+8/6DEDl+VhbF5+IflD5nR0n9aAPe0KPvhkvLdZhZJgGL7PmflFrBM6BOSTSY5ywvn+PiNZNtJPzxIXmXA0Bcc/Af7zW3gypkr5qvTPf4b/FfzwI38tA1UT8djSPtcCszzCTqT++pumOpf6an/deG9yC08gx0MTYE/eMh3Z7TeWnXx/r0xaPoBdu+UfP/84P+M6fGKT+adInZxKVzzuFzyQF8f7LE4dH9K3nNca7P/6+3/+eH9FkjuYwB7n3LWrgJy+9eiY093elxCAa/PER9cveCAfpD97hiOjzBjv/Uvq4NrI+zHeN7ndIQAHB/oQ9f2CB/KRZNjSA1/jdboHZCToONtNOtDpOwaeHvH3Cx7IB+/bEA8BaGN+n9V+wQP54P0+CmyVRgC2Kmgp1y94IB+8b0MgBKCN+X1W+wUP5AXe65JvXtSoa2LXOiv5r7X9p/VaRU/YHgEo9i3xXrFVkxNF8FmQTRcut07Bd5xB/D2zksg2myoyZyXRbNrkZWuK1IFHjPdQR4VSvT010ybRtfGgCF6Gy2wxaViidrE8Q7/rmeOyQ8iU6qWBns1GAUi/cqFIHThFvYeKUCjVW97nMpWPi+AZWx95hr5LcufqimndH0C2hEjy3+KP9evugqIkG+rTZnRJaMaZ2vARPVntDHVkC4a7bHshKRwhh4YmnGWfm1PieXr3tpfkK2TVRg+Z82fAO9t/2BiLomlNZuCwQyAvz+9xtyIQ+XUQKmJ1LMW2EggKILg9aRZd8FK0jwkQaYjFHbxRDrbMQQtxXnRhLOXhQMu4uwiHM0hMBGFiWQHsyZur4g7yDHPocqwd0LNKShqtvY3mhOJhWNIUaKpkdyOEXrOgWi2oxSf/9Klj3Y7ycp9/xF1dnXEXw5cXhVXu9sFDP+m6fJ6h32E4XU6Hw/JGc+RKna9AY1SiV4DbjBkfdtuD7LMXfOpEj+EWu8bnEJdCdgheulFY43AfPPSzKjJ+5TxDv79wGXWGNhJjUhNDdbuubG899qWeC3viJUpk7Pea0dhwoR/J8B1Su7ZAHaGkbh1JN8s1PofDpZAdRl66UVjRwwJ4XKuiymwwZH43aubbwRUItjYF8vL83kxa9Csos1tdeOqKe+s5O8vB74xSQuo04/TL5Glia686kkMAcszkJnrd3+4yfMQvAh77XMPxgPerNzDMQM6BN4GkruhhJ9/fZx099tDstnesoQtpL1LnQhiLUPoFD+SF8b7Y5donzM2wtupL60MALo2yAK5f8EDemvcFzz59NQLQY0/7BQ/kg/dtiIcAtDG/z2q/4IF88H4fBbZKIwBbFbSU6xc8kFOW3XgND7yOB775NcZ78cPZ7xh4zjZcw16/4IF88L4GEdbrQADWi7aX6Bc8kA/et6ERAtDG/D6r/YIH8sH7fRTYKo0AbFXQUq5f8EBe5r3+w/x2v79/7PByslrB/ut6h87+RRGAHrtSBJ+F14S+l3UKWDrMi41oMzpd47o2UEYwS0FZq+mZ2vvUMb5KOluqTxqdd+CDl3Vvugid0AC2WZdGlVi1cx7kYAnIC+M9EAPZtAan5gsq2LS/8xAbnEUAFtlWHy5qfHyjInjG2XOeIV+Vb+8fn7QkFheyrhaOSwR5eTL1VvLZ6LaQJ7BJzLKhPm1Gl4Su3n+R/BOfOuIr9mf0Y5ZbeDytH1rwwWOAl17YQ0RXVNt4PzRWtQGQF8Z7Av0B19O6enRGLokPXSP+9hHuXFQTG8UidfJ2G9mGafwQgKRa/Md3xrD2e+xnmDho7wHcXua9mviUqT4ojYK9oGWZtVDcLNwPF8zINlRn4hMBQA0VwHtdtu7UJAJtDnzwwE+gOs0zTPzJUw/QHQX0EzXu/QtnKYZ8BbjN2MjrZBv61BFfRY95V0ISmjYHPnjwgUFRJ7rLM2RmStYgJUgRW2MwhLbpPCeMT0YO7VEQvwRdMWExJCW+WLahTx3xVeaxxPltiJ5Z9cGnvJdNDOVOT8mS9JUgqbl2nmFMB5RfyqE7F8/Tw4OsPrzytZHESX9h557+io56Loz1+DoXzV4s29CnTon31vnqyYafPvic97i/C90DZW4m4ud3Acgfz+/PAvda2YYIwFnurWmnX/BAfg3e030w3BJrxufCuhCAC2MsQusXPJBfg/dFDz/tCQSgxx72Cx7IB+/bEA8BaGN+n9V+wQP54P0+CmyVRgC2Kmgp1y94IB95hl/j9VIekAFjjPfih7PfMfCcbbiGvX7BA/ngfQ0irNeBAKwXbS/RL3ggH7xvQyMEoI35fVb7BQ/kg/f7KLBVGgHYqqClXL/ggbzAe1pOgNdd18Yv8LVds7CgeWiSSJFtrEdcrqOvlghAX7AFbRF8FjoTVixMufY6BYM4LIVdGB8rOC9iW5pylqAyr6Pfsz51jB+SrpXqk0bnHfjgw7pD8493wDbr0pJVO+dBDpaAvDzexyF3TQoUuvqwS7allrPx4qGOfhsgAIu6oP5Z1Pj4RkXwjLPnPEPjaLpDhaWwTjJh+KUFzRsMu/AZ8Xi7sLe6D1ndqWODtM+GetUpd0a6JHS+teZCPJ4Fmyz41BE/0Psbkt3yPQw3masr5IPHekxEH91B5ASHjWVdZI+0AXl5vDfT+5g2FZIJw2JqxS+fvCI/X6yvmRN8e9NNgrgRNiGL98cX2vkQAUgiFYmie8THQSekQyTtGx344MF7zraiMQrdiXMHQdxs4ALyMu8zrNlFLPinHVtSY2VRlkdZuWxwJeDa47PBW82cJljrvCMAibrl3kvEzj7wwRved5tnCJbDpahBAf1cWyM6p1JUT7cOuuL0VgL7VGDGP0cuok8d8cnUM7Ym8UibAx88+MCgCHJ3eYbhDmW9Gl1vZjVhzp3WEG2JoXJjDo8HQmRU3e7v2TwHt5fAfNYZ2uMnq55n50OfOuLk6OqZqYKNzdllH3zKex6l9PnNfJ9z7TxD63rxqq2JT5w66SSW0svswqcV4aI3e+jdZPKaJC5qli0Zk8sopjqazDTMg84OdW17PnVKvB95hpX8D7cX5veVzNRW8zy5iAhAbRedoa9f8EDeD+/pXvk8/8dFAM7gaW0b/YIH8n54Xzt4bfUhAG1hbLPeL3ggH7zfFvq9UgjAXkUt5PsFD+SD9y2I8/2NALQxv89qv+CBfOQZfo3XS3lALvkx3osfzn7HwHO24Rr2+gUP5IP3NYiwXgcCsF60vUS/4IF88L4NjRCANub3We0XPJAP3u+jwFZpBGCrgpZy/YIH8gLvdd1BWHywZz/D/QGySyR4EQPW8uzX3UoDAtAKwB67RfBEGxMcEzibfKGLW/ZA2CgL5GXeA79Bv9EaxKAKBZyaKZjGWWrKjNDFTyEACU7T00X1SaPzDnzwYWWV+ac6umPWpbUduIB8Ae9l+W8Vr8IRq7SpVDaarNJxtcYIwCJg6oFFjY9vVATPOF8mz5B6KymIvLyYfuBf04Xiys2w/xsv2jS7pyQNZNmtTbHjGErUs6HeCGbL9bvIS/GpIz1lf448wyOuX7i9PN7z1F7WFtOETAZbN88Q47At0DSJjmV7FylRhUyfQsFrgGtGUuzi3fOpshARgCS64H3mBPgtad3swAdv1t+HdbPoDubMAXKzoQnIy7zPsML1KKCfqMkKOCy1nGkAESnI0xJW39P1Yl+ENfiymUvXsRABSMTEIfNuSQTaHPjgbch63c/Qul58ixoU0E/UZAUcllrONICILeCZKNw+0qgz43vJQvSpIw6Zd0va6SZHPvgkUnxrf/I8Q8QpL3jTmIfzHNxncm0cYlIpv2qCREadO3W1I6JPHekyOg4m2ZomTE+N+uCBNjQ2CRPm+5wnyjNEVLxCsvMh8uVMy6QB6q0TbeWzZCH61JGe2v6GssnJTCnY5MgHb0PGsMIYJWXd5/LavxPYxJ17jfaUhVikzl4nnCHfL3ggLzzXnuG9qjbMTbWq3qOUIQBHGThSb7/ggfxZeH9kmI/QjQAcofxonf2CB/LB+6NJ4utHAPzT167tFzyQD963oRgC0Mb8Pqv9ggfykWf4NV4v5QG55Md4L344+x0Dz9mGa9jrFzyQD97XIMJ6HQjAetH2Ev2CB/LB+zY0QgDamN9ntV/wQD54v48CW6URgK0KWsr1Cx7Ii7zH+vbbXRfTn+Zq+496rEU7zfophhCAU6xVNlIEb1cmpMsW+sgzFPy02J7QY/lvZfcV1RneZ9kmRZHeTvjUMR1POlSqTxqdd+CDF6LbH+8FbLMure04BuTueA+857kysaT2s+EjadP5AQKwqB/qkEWNj29UBM84u80zdL1sK6VM7yG98BYKtPeerq/k/U64TayS32Ww97yPTyJ3tlGh6M+G+lSzI3V8vCta8KljHGucRn3lxLeGP0SQdN0Hj4mN9MIeIsCixgYvUXz4AZB74z1wWxi2EuGhfFpJJ+QCJxuE4Jg2kmpIy+NpbT13WhrJDIrW2ArxNVdKAk17gsJhxnzUnEpZtJcvIwAJ0tg1faYa+xkmDtp7ALfv432SRCJL49P0v+kmVobA6ESeIki8Z9V4spArIeqms7kU1PVQQAASsOC9ONYOmahJBNoc+OCBlkBx3hu6g+FL8PLQ1+Q3mYDc470dtuFYy1f0R4KBU9P+4BScYmugPEsRjG30Cphq7nx7QwQAPqCCdDx236tJBNoc+OCBn0FRJ7rLMxS6pd/nEDcxPdEdzLkixonpGRpx+l88pSGcznPoW6N0o8JM6ikSCzOG+tSRjmfdD5vFi1szNW0OffAp7/vcz5BYGh5Q8WM4RGp+vKKHWRuMJE6aTyabECanNBE2fa6V0GFGQ4dWio/oPgmpp9je0KeOdNx2P5RHnmGdKxxud+c5dWys0bItRXCb1Bpch7VFAA6zcKDifsED+QV4vy1FcJvUgWRYpxoBWCd2jdb9ggfyC/D+GrE8GQUCcLLdKub6BQ/kg/dVmLBaCQKwWvICAv2CB/LB+zY8QgDamN9ntV/wQD7yDL/G66U8IJf8GO/FD2e/Y+A523ANe/2CB/LB+xpEWK8DAVgv2l6iX/BAPnjfhkYIQBvz+6z2Cx7IB+/3UWCrNAKwVUFLuX7BA3mR93Gdwvl5hhJT++96XtVzpSWJe2mHAOxV1EK+CF7WdUmaXrreBKtMLv17yN66tEcOTmj6qPGS80ZhloKyRPribXzqmC4n+Ev1SaPzDnzwQvSXyzOsHhtVmA0i54X3SEtF6rhG1RXuyfMri+AZ57PnGcpKSVmh+S4LBnXvUkyS7pwSRe54vOEhLbSNLSllkVZ9ZkO90ay5WyGBIaShnM+CTRZ96kiX2Qm6HJYSr3Qh7FWWIvvgMbGRXtjDPvJOgNtG1FaGsjKN4qI0JZFwjFKcnGPoDhqMUilKA1n4T+Xb7UmzDX3qGCckyZnGTzYmrco+eBCd0ylowEN38iczZc7pHQBy77nW9bKtDGUm5v3+9v7xGYZqHpCmLVGTFYTZNnswy0t83mxDBCAJvfgHXgKTbE0i0ObABw+0BOqJ8wzF558ffEc2470NUhZInEL99A6IsQGNcb+g60RyyU28eezoZRtD4PapA7dkToiugIKWBR98wnse658zz5ASuyU+HJY4VAs96dusQFSELS/weZm1yik0SJ2ozJ+0p+inOYot+bDCtk+dkhOsW1YYOaqpDz4LGdFDn/fkIY2/37z2foZE2Ud5hqYN09/kwkHYXBfhOshrFuQlcvj0Ekrb8ylcf0fF+QC9PnVKvMc+kAcg2aDSB5/zXgcrNtDH9/cbfNFOpMtswyJ12vlxueV+wQO591y73AHNW5p7aXMsqwAgAKukLtK4X/BA3jnvL0KE9TAQgPWi7SX6BQ/kg/dtaIQAtDG/z2q/4IF88H4fBbZKIwBbFbSU6xc8kI88w6/xeikPyIAxxnvxw9nvGHjONlzDXr/ggXzwvgYR1utAANaLtpfoFzyQD963oREC0Mb8Pqv9ggfywft9FNgqjQBsVdBSrl/wQF7mPS0M4Nf9/u7+Rv+aRSNL/029RCcBk9UOHPslIpYka9tb2XplBKCeSk/TMZ0tgi+HZikBvE5UrAPyEu/NmpewMmZifblPzbKkZNHGRCWdNZSenqcauSDRbImIVbS2vZWtV0YA6qn0NB3T2SL4UmiWE8DrRMU6IC/wfom/lrQhyJN2M1kHk7ZOn7nNJJnNaehXLTHhS9asRQBqKp3qOqazRfB+aCYgZggw7ULVGiAv8J4H1ZBQAsO6FJJ3gjB8jqsvdUMUTYyj4+ntQmrIG5J8SGv3ZfEnJVfpgs3pvohvVKUL/eFMKeAQF1rUT7vPsQHeLM3U3yQNkkWK5tD9qgUEINHK2HQhrIDzbrxOIOBJnIudTRWGhdsyhdWsKBVP0BQPfPCJ500GUokARfUHngDyEu9pu2b4K8/rFJLJux3OQ41ezpHfmQJuQGexCyLRmfwWohwUkQNgKzTWmplkNisiiWByMZn6YC7kscyaOyYKCECinn2SZBhSNzEUTLJuTI9oY8kwWoV17iRHa8PTrRGtvVzcnpsr++ARrJnQBK3KkDkjh5wD8jLv1a5ykbz6RltrykjxThvPym4/ocqeoLzYmH+YJUll14NhnWG5Vcrxcyb0aTJb1gBqswIOESfCY1+pOfVD3U8EIFE7xQaQ6fjiBCK2NCoLCn1xIzdf9MEnANLQuASYt3HMWSB/zHsecd4+ZNxBxjf2txIST1Ei/9AGTJrJ1Y6QoADHTXVO27Aqqs4227JKdMoUnpVFyVTVvLlp12rUIACJsik2Oi21eOLnG8A0EGhoNToKy+JWcLbsg08BkOUu8wzDXB1zD2KrpgTyrTf4lFmjJ5hh9s7M1DOP8zHNLIZEeBfysfimPtEZGysNQmCwAN/Ay/Y6hqwUUt08EqVVuKRnY7/zpE8dQJ1y6I4vukxP320gRAZBEn7jaoHfZsSX9skHn2Lm4bK/PMP4fSvmh/rwyT/tYcmBtrrTYGypE3s0iT8Tl8WYJxr3Nw0vBGb2ReQwEWf54qICvfhhOYGnsY+85x8nQfYnBUwfB6fmlpJhXTufOplP7MwtTPLJSnSvfA2QSGlHJGzJqeCHOfFlnfDB57yn+xRQw8GRAMts1W0F5EvmOXVND23kAQSgR3f0Cx7IB+/bEA8BaGN+n9V+wQP54P0+CmyVRgC2Kmgp1y94IB+8b0MgBKCN+X1W+wUP5IP3+yiwVRoB2KqgpVy/4IF85Bl+jddLeUAGjDHeix/OfsfAc7bhGvb6BQ/kg/c1iLBeBwKwXrS9RL/ggXzwvg2NEIA25vdZ7Rc8kA/e76PAVmkEYKuClnL9ggfyMu/1//63C+YZ4h/4a6Nv/3U++b/6Y2X23/6PW8+1QADmGl31XAE8LUXUhSkMnY4/aN2uXe1KKRR8FvUlgh3QfSAv8R5ry3g9k0JNkCwngVmXlizaSNSpLx5yOrObHU512hrxNUyskt1wnVjTaRkBSKpLeEr1ifB5Bz548U+kilLIB69nc6ljewHkBd77WFNMS9qQxKQdrQh0M9WdtqlJPproc9qUqlj2CjmKCEAJaVK/p8uJojoHM+BpYAlJXLomzQXvVtZBN6cFyAu852H50nmG6J14kN7fkCCGO2mSPYhrEE6Psnp/jjXeBoxshdMdQ64loYjrG/kuH9uULm4SQgDQD1EVUnmSvuiEALepRKbBgQ8+ACG0tK4WvReX5jD5ApGd0fJTBx4DeYn3HeQZRj/LqmMsmJb19/Y+A9drIewVIYdaSQpRExc3M91MfZUcRQQgCfLECm1iZNdUJ62bHfjgAUfH/FChl61O8vWCmElkharaBSAv815NXjjPkCGCKxgOUaOe5k9DX5JLE+GmslIjquz1MG2ZWYn7fKkHvU8EIDkJ5FMrqEkE2hz44IEFTpOa7BDNtBAJpjXHfQL5Y95fOc+QHDTDleljhIkBFdvlKCIASYxn+vK8vFeCJZ446ABu93kvky/Oy794nmGZ9+ERRX5cIE25Ck5tmaOIACQBfhneewRLPHHQAdzu894k3vEDXCCPPiVm6W3IITstz9BOLe6cmmgG8jixnwCLp9iv5H0eR3UKel6OIgKQBLjE+172M5TO2FjIDdnGK+TcIjaRYIkrjjmA20u8P8bs0KoeQAC0oqfPfsED+eB9G8IhAG3M77PaL3ggH7zfR4Gt0gjAVgUt5foFD+SD920IhAC0Mb/Par/ggXzwfh8FtkojAFsVtJTrFzyQjzzDr/F6KQ/IgDHGe/HD2e8YeM42XMNev+CBfPC+BhHW60AA1ou2l+gXPJAP3rehEQLQxvw+q/2CB/LB+30U2CqNAGxV0FKuX/BAXua9/u/+1DzDltE81TYCcKrVSsaK4LHwQwyZBQtxWYIuZqmEZZ0aIC/xfkEamJNfJIgAACAASURBVOnVA+O0iDzsXsO/uL1jbSGMSgGHDxBc7jQCkCArdadUnwifd+CDx1IchBewlyeaHtwJIC/wHohncCxpQ+KTdiHpY0Z1+VSmLDssy13tDAKwCNjFulkEzzgnaZwT9DOJpovcsb0RkBd4HxbxfnzKWmQxhC0FKLPJ8DlLtOMzkupBiXeTXic5H6IZbRwTNntQ514hBSlk/IX9yzSPp51XV8QDAUhkxA/0Xuh10rrZgQ8eQxyiie5kiRAURo3WuZ0A8hLvj8wzlG7DO/CXdUF0mc6Qsow7NJC7anRlF7R/lF+b5UxaX1kvNSqDPbl9xVlM4wwCzWIE5GXea59iGhiN6/pTKEj61CFYl1iHXNdkP0NM+L4/P3CjUB+RHZRdE4JE2piWWeJp8GUzl6q/ln0iAEnzrI/wDHqdtG524IMHWsKVpnFmo3scpM7uApA/5r2mgfGT7nQbvVIf/P0M+Qn3je9yNpahXDAhzsk4kR2yq29vH+zvs725wR4CkMhOOzWtSQTaHPjgE97zUDb2MzTf52iOE20MqhskyhzG1uQ79ek9QXgAF+OQCMAPB/He0oYTC6361JmyfFqz0MCRzXzwCEowjTROHjnDzty0HXjc7e1IkK5uIC+N9/H7Vkw14+PrzjzDt0J2H3G7kMoYfUpuo5+aC4zXQ+6l+fLV7fWFKhGABNOU5V43E5EWBz74GKOAiaYCOgxFPl37+/tj3flB0/zqrz3fj1YH80BhkToP5C5xul/wQF4a7y/h3xUgzE11hVS7pghAOwjbLfcLHsifhffbg9hGEgFoY36f1X7BA/ng/T4KbJVGALYqaCnXL3ggH7xvQyAEoI35fVb7BQ/kI8/wa7xeygNyyY/xXvxw9jsGnrMN17DXL3ggH7yvQYT1OhCA9aLtJfoFD+SD921ohAC0Mb/Par/ggXzwfh8FtkojAFsVtJTrFzyQl3mPhZal7ebCv9AXB4D+taT/tl4s9KwNEYAeO1gEb1cmpMsWelmnYJa6FFdc6o/KLwsdrSJ4ezuE+GuvwGWAD21VpM6hVispL4KXsRIxRlxeMs9QnP35TklaxywThn8rxfUENUXqnGB7t4kieA7EyDM0S++E9kgwIQd5GwbyzVHXZHIqmuW0lFkWCzd5ZaZkNeqehLvjeoICnzrr3GJzERlyXM4aEjyR71E3G8cHj4kNQoZ4AYd4tjSDON7vQD4zv/8At3JCoT90R0MvdYk8L6On9Zame4H2aEKn+HZoC0FbWKkdpI36YIpFws8zZMmHxzuulgUEIFFovQH/lNyCBeIhe8F4CgEKhKtL+0KSJHjPmRAxA9vg0s5WxqNqH3/C7WXeq5K9eYakh+IZX8hRNJ6KnObLIQjZlmhs/YgAQ0phX/wTAUhwomtZAYfzToguvslXCIFftWnmgwc26tLIMxR3xPR5jiE2u0REpYBDOHFtTcKj6x741EFnswIO592STScOy730wQMbe50gv3ieoY1acE7wCOY9KMjshn69REqco5amI1p1UrY116V6gsynDjqSFyZuQYPINm4jU9J49pDcSx98RCI9NSkR5vuc18kzjEEIkacA6Vf5OGkK+lwbHiukOW17V9pu9mLb/SUELxz41DFOoF+LsEyKz6xpfdJGf37IfKFgvpAuQFlf7YO3SFgnBU7nn718f7/eGUNijQeK1FmjZEHbQ3IvzwK/oH8rmwD54+falZpH80UeQAAWtd7WyEw0tikoSZ0BvmR7Xz2QD97vc+RWaQRgq4KWcv2CB/LB+zYEQgDamN9ntV/wQD54v48CW6URgK0KWsr1Cx7IR57h13i9lAdkwBjjvfjh7HcMPGcbrmGvX/BAPnhfgwjrdSAA60XbS/QLHsgH79vQCAFoY36f1X7BA/ng/T4KbJVGALYqaCnXL3ggL/Be1wboCj/e2Keqqy/yj+uqfVqhDAFYIXOZpkXwdmVCumzhIuEG8jLvdWUF4Q8rvCeOx3qSyZkHFaTwpXc4RAASR5X8WapPhM878MEL0bHyyvLerEvj9YaGW+ehJktAvoj3sijS+enujfGYiO1ZRZIpyw7PdetyawjAIpGLdaoInnH2nGeYOjqO93FV4Nv7p06GitkhIZPwluzOhyXHNuImTUGqAUCXGNJ6zLA3ls2vyzB0s8OhTx3pNb0X+mh91q7sg8cAj9ihO1liAAUtJmSc2Q8gL4/3OrWnzzAnQYeUu6hAwXae9tfkPESVpyyc7CIBy+MWJlxlFaKNyJa0iQgEo3NrpxvVCBQCkChDF0p9TFo3O/DBI/Qd5xmCPdQZSo4KY629GGTb2GyZODoPDShMT1HgXnSHQ5864D0mwNOaZmyPhn3wiC81NDfwOACphmmNnjn6E8jL4z1cr+lqyICK4MBpFNB51KCAUyGXVtTwE+7r7XCIAERnwj9Tj9maRKDNgQ8e+BkUQe4uzzBhJnVDpgp8ndpMthgPahDOZJOZ2EZnRzIcxO9zkJYzUfK8Oxz61BFfTT1ma9pQPbHqg095z5zRrDrzfc618wxzR+sxvoYNmWxxO0G6JuRRIMsGVFHynClDU3jq5dtLroQkNOsw20QxalMMQbkecqSOyLJLKLD1wKeOdMF4ST2WdGqrzWpyPvgYkWCIoqmzhiTclEDZ5gXkhXnO6ahebYdDBOB0T1cw2C94IL8K7ytEI1NxWJZdZmfbIQKwTbytVL/ggfx5ed+WGo+sIwCPGl7xfL/ggXzwvg2xEIA25vdZ7Rc8kA/e76PAVmkEYKuClnL9ggfykWf4NV4v5QEZMMZ4L344+x0Dz9mGa9jrFzyQD97XIMJ6HQjAetH2Ev2CB/LB+zY0QgDamN9ntV/wQD54v48CW6URgK0KWsr1Cx7IC7zXBQO6/rJ+niHFjf61pP/IbhnHBrYRgAa2d5ssgP/8eA9rtIIFOv5AmoZySZfeg2OlDTN345wqAPIy7w0hY95JpsmuJMlOLTh85R0OEYAFfrpckyJ4ojISSnRtlE8SPSureqLUsZ0F8kW81/WYE0x+lybN/IqX3uEQAfB9c+3aGfDKfPoMI6dLErfy+F4D+SLex/E+Lo/ckWco3XvtHQ4RgCTWxIbl2zzaXERWk0SHlnJiGK2bcuaDDz1hxvPPBsQKM3fQ/jI6mgVpxSmfQF7mPaZj1fMMuYcvvsMhApCEG6OkLRBpmCUfZvsjbpBs6qhLlkmhjKYiRMd1aR9/lSABj4Nol6vo0L50IkSPA2HtumRuQMFxBbi9zHtco9XzDKlbqTNs0i3ugAheRMI7pKOBDfBMm+O8uEMzApDoQNeyAg7nu2zZxbOMwPfKtF/Ae4QDgJN+Jgdxw8yk+pADuH0B7zFeZNex7dJMYKanRFAv+zA6vdgOhwhAEl74KivgED53azCtgVJmfPVN4n3wMGqxATDOOoXa16VjIlQB+TLe184zdDzzYjscIgBJjOCXvCBDTjrPwZgaGnMbmwVKqs/dz1A6A/DuIVcarPSrZPoILAIHvsPtC3mvXUG62K48Q9WGDpIb9Kt8nDSFbB4ozbve4RABgA+oYLrc5X6G0hn0AofJBExIDibhV2oSTxx0ALcXeH+Q2aFWPYAAaMVBn3t+ia4I6SzwRQCbTwD54P1mH+4SRAB2aZkXPizT8gzw813behbIB++3unCfHAKwT00b6X7BA/ng/aDOag+APaslWwsA+eB9m1AgAG3M77PaL3ggH3mGX+P1Uh6QS36M9+KHs98x8JxtuIa9fsED+eB9DSKs14EArBdtL9EveCAfvG9DIwSgjfl9VvsFD+SD9/sosFUaAdiqoKVcv+CBvMB7XQnA/2DGL3af5+v4X+ywIOI80+dYQgDOMVfXSgH8k+UZ4hfLs3UXdX1plb/Aboc+dawTrHtL9bbNiWUfvKwvimtCdbmZD17P5lLHdgPIy+M9lvvZ9VLHoYreiaVgbc8ak0xZdnhcdx5pRgAeNeTzl4EtaGfA80JL2X9PF1m64N3KRb7Y1QjIl/Fe1iErVp0E6RTETko4J8js1sCr7FWQIEuZ3m2aHFTyLon2kiMZs1mS9BoKu93tEAFIwvjQOUnrZgc++ACHQnnvOM8wIR8HJKSGaJZAuLT5A1v80EUuJ2YXi4tz5CKZ2RdIXBn0cbIVahJ45nIq7QQYKcVYRSdp0+6EsJ304VMHIEu9OAndAzM+eAhF33IVHdqXJhxdPc+QwDM5JCqSIkjDNScFh0p0WikoFQgkaPqwJlH4tLsd+tR56Bzj5oZFHzwAJRFM+YA2pnDhvBMnHpIU/PaRdRIzGemYI/gwR9ZqfNrdDn3qLHGXYUyrog8eaGwAMz6gTVI475YL5Avm9/x9Dt2cQn/wJI4oma0M3XkO3y4wFcq3boYa3BOS73PwQyzknUSJVfvOuWrW45na7JD8fkgOXhLQ8gECkDSZgpzWJAJtDnzwwCKYS4dcz1MhCebV8gzjlEy/v9f+xJ9piTSU1rHlzsxA+6hMvzbBl4ROFPknZkKN2ultt0OfOlOWB593sp+hcF15EpivYQOhJHTJVxJn/YoO3F4Y73GxXqPwfLsdIgDXcPA6FP2CB/I+eL8uLEtaH5aDt8T49/ejn6BZqKVRM7Cnkf3tZoH8VXm/3XV1JBGAOurO1dIveCAfvD+XMmoNAdCKnj77BQ/kg/dtCIcAtDG/z2q/4IF85Bl+jddLeUAu+THeix/OfsfAc7bhGvb6BQ/kg/c1iLBeBwKwXrS9RL/ggXzwvg2NEIA25vdZ7Rc8kA/e76PAVmkEYKuClnL9ggfyAu+T/y3r6oOTXf3Uux0iACc7tYq5AviRZ7jBu9miDl41Rls9hcVLGzSWRSa2yk2POlOgzlHm6uotguflZh/BmK5f9L2tZ2XBZsxOrIs01wbk5fHeMs6HnivddZybePLdDhGAXU5rJDwDXplPn4FBeWQZtFt5fHeAfBnvk7wTSTzh3d4er8dcn2conX/23Q4RgCTWxIaxn2HikroHcPtC3vPleU6eIXf06Xc7RACSuGKUtAUaNmUYTVM3s1xETY8ghTKaihAdV07s8MGjJ9EuV9GhfY08Q/EUghRnVqmrnnG3Q5864goQFwXUz9dYdvEsI/C9Mu0fLSa1aAEYV8WkMPIM9RkWoz35iL34dLsdHsN7HUrBLWb82M8Q/oDbF8xzTs8zdMaLp9vtEAFASHCNh9mM3P2CL2TqkM5zcHu0bcITF3574pBcSh88euLET0c0bcP9CZUXG+/jTVO/v9f+HJxnqGbURzy5fbbdDn3qoOteQVMqmS5ooHdEviY0d09/2Uim9rhA4NGdBR88lFpsAi9yiUqMJ2aS4jkFCo4rAHlhvD/O8tDMHkAADvbHnt+aK0I7C3wRwOYTQD54v9mHuwQRgF1a5oUPy6U8A/x817aeBfLB+60u3CeHAOxT00a6X/BAPng/qLPaA2DPasnWAkA+eN8mFAhAG/P7rPYLHshHnuHXeL2UB+SSH+O9+OHsdww8ZxuuYa9f8EA+eF+DCOt1IADrRdtL9AseyAfv29AIAWhjfp/VfsED+eD9PgpslUYAtipoKdcveCD3ec//8Uj/uTxZ8jTnePOfaixquN11vcOc5KucQwB67HARPC27MasiLA10CcXNrKE4v+9A7vNeAc0uYDW90vb6qafED7Kdz9LfOVdZ1fWcnwhAj90rgqd460oqu3CIxtE3pUF6bZzbfyA/lPebKLxJ6FzvVbCGAFTQdbqKIniO3fvbPUwOQignEZ0dTg/tDZCv4T2mLNQvubT14sZdjBbXmXwfc9OL/Un0UDV0vb3LBgeqNso8WwkBSDpGDOk5z1AYDp7jMEsbp3ivmjcnTtpzALcv572ALSwBBxZ01SZJ4SwVJnqQBRfOYO14IvZkBwhA0i/ygKzSNQWqmDiNW4apg2wISW10mEEUAr0qD7A+eDOxCatAAUNxaWcr41G1jz+BfDHvjVeDh9Oat7tmUYLxtgEg2cpQphjSU29pg0TIPlEBAUj6BOdkBRyCW25N8k0EcS3wqzbNfPDARl0yWw7LNWv7Oa2xZ48sA3kV3vNvoeiOzWbbNhsc7Y2tS8rlDRJV9Jk+EYCkU3BIVsAhuOXWTCcPzPjz8gwNKiqGLDlTK72tfR0mPpw9gNsX89691Yb7F/VDE9ySfQX5bvyuD/LyU0FysZv5Eo1KoogdhFTa2Q70fhIBSDoChuSFidPQAFeCBEjDoFOec/MMLSoKqz6nme9zOGs1n/ckTjjyAG5fznuamSepbt9xk714ZrKvIE7dkE+GKu1+WhHVHumBxroRgAQHeOMVEuejQeT9N31TLJNN8x05BpXE0L4DH7xFwvpl1KMRzkDr4vv7fe4Z0mUPFKlTFtl0ZuQZJm6D2+fH+0RmHFT0AAJQUWeuykw08lP7js8Avw9hSRrIB+9LLjq2HgE41swx2vsFD+SD98dQ45FWBOBRwyue7xc8kA/etyEWAtDG/D6r/YIH8pFn+DVeL+UBueTHeC9+OPsdA8/ZhmvY6xc8kA/e1yDCeh0IwHrR9hL9ggfywfs2NEIA2pjfZ7Vf8EA+eL+PAlulEYCtClrK9QseyEu8z5YOZYdzTseig5FYOOMmBGCmzWVPFcA/wX6GuoJVXV/gvawSMWtFvIVoqqP0acRLTZ6vvkCdPjpaBC/L50IndGWQH189K6t6pitJj/EEkNcY72PHYmkF7E1CK/RfsikCcEl0D0DNgFfmmzVpbnzdygdmK5wG8jW8J6xvWJOp+YRvugbw/bPUGUx9TOIl50hQrknY9UvXZlboXA8qEIAELHtYHHp/l4QE/RGKzIfTWPDAqbGgZeFKQbJQuF8nxpcf+OCDPDP+jX48I1Y4wWV0kmm03PDulkC+kvdYSyy5bUJ00B2FBJ/4P1twz14JZ2J+XCL31AcIQNJL5gwtobcFIs3Eh9zgcnmG0hkBi47RoX3pBUGPA2HZtGQNQOK4Aty+kve4cC3jQXcULHBbGcrsiRdLLLQu+f4ubAkIX2UFHGKNu1tj2cWpPGGYrzval8CjhxYbAOPspHCl/a1ogAHHefhB1qzglvP2nepTKdvSKb9WYqE4AO8YeFBDBfgvK+AQbdya6dMhM/68PEPpjMUGwEk/s4Pa12Wm3hzC7aXxXmaEkivDv/gkPx2Ca0H6Zt9ZO99+R2Kh8XShiAAk58GYvCBTBzNXRINILG7TNs9QOmOxRXh5RzU1denviSXyWw/g9iLvafB5u4eXZM/a/kg51CSZgXgAG4mFM9FBAJI28LBXSCbDaGCJ1TzPUDpjsQm8ZAIWfilFcyIjTRJXHHMAt8/w/hjLQyt7AAE42B8jzzBxMNw+eJ/45bQDBOBAiyPPcOJcuH3wfuKbUyoQgFOsVTbSL3ggH7yvzImF6hCAhe0v1axf8EA+eN+GUQhAG/P7rPYLHshHnuHXeL2UB+SSH+O9+OHsdww8ZxuuYa9f8EA+eF+DCOt1IADrRdtL9AseyAfv29AIAWhjfp/VfsED+eD9PgpslUYAtipoKdcveCAv8T5bKpQdlp3OSy3139JxDXZZ4EXPIAA99r8A/oXzDOOKQrtuRGKbLdvoMeD1MBeoU8/AkZqK4GX5XDCtmYR+3PVsWMCji/KPhG2Xf9cY723HbLlyls/BLjlXfZE658LYZm0GvDKfPsPi3YQSatCt1JPHfQL5Gt4T1tk8w3SMp9WBYdV+2KNPtzXBUjwnie601JvjnLtEMwKQNGYPjzzDxCdVD+D2lbyfzzPMFp3Krhty5X9wrhyNADwihGXicrMz174pVu3v5ZQhAAkyjJK2AKfxfknsPtlGVUeN6+xnKJ0JELVndGhfOqV5njzDdLwP/QaVpYBDdQtfCNYvyG1BiycsFHkvvYeXpk6bqbFeHHmGHmvg9tJ4D8ez9Iyv3fxDaxKapkqkWTY8WNnnLSMASRczX2EcQf18zcgzTLzpHMDtJd5vzDNMvs8Ru4hZKDDN83mOJp2hsYP5qaoQgKRX6H5ekLFh5Bkm3tpwALcXeb8xzxABAyjUxML0uVZrzEZ8UPCUBQQg6V10kab1m5qRZ5j4atMB3D7D+02Kh9AyDyAAy5pvbjXyDBPXwe2D94lfTjtAAA60OPIMJ86F2wfvJ745pQIBOMVaZSP9ggfywfvKnFioDgFY2P5SzfoFD+SD920YhQC0Mb/Par/ggXzkGX6N10t5QC75Md6LH85+x8BztuEa9voFD+SD9zWIsF4HArBetL1Ev+CBfPC+DY0QgDbm91ntFzyQD97vo8BWaQRgq4KWcv2CB/IC7/O1o7Tiif8Nkiz5o1r8Ix2BmNbg1JICxG0hmtXFt0tUXbgNAnBhjEVoBfBPkGcIzjl9T3Ntpy2nNY6SchXEpwVajUi/Of4EK5V96qDLmXtK9Vmzsw598LJWNK4J1UxCH7yezaWO7QOQl8f7Irma8h4LcY/1z+HaEYBFlnzqLBI9otEMeF1UTp+BQS54t/IIrKlOID+F99gKAj+woOsv+Uf/GZq2ud/VYXANCqEP6YWXdqyXIwQgASw9pXebz6mTzuJIlOg44cAHHwwz43vdz1BdrfNqzQ2jvqW0y0lpNmkyjpCd90ir1RQHbznD68txA4RmFKLCy1AgQFr94VNHeirM4azC75ijfKHEYx88fJCFmQ7tSxlwxTzDnGro03reW1Uo8x5CwRmljC3T2O4xl194Flo/ZZ860mV0HOOCrblAH33wAJahzQ7RTAtX2s9wDuvK8d6qCmUe0mU8kxqnjblv2LOggnqt00+fOiVvZB5o3WcfPFBlaLNDNIuFlFGxvn4JyE+Y35s5TJjnUD9DpuH7Gz/+pG1kFgN/oUCkp+9z9E5Z3y+naUQAEovS06S/nHhlaxKBNgc+eGDJ0GaH3IzjHWZuFxvv7ZTsps/mBDq9OrPZm3yjb2W5JsmRkxRGbpM8xUoNbaLIHoG/EhNP/f29dBkdjze3ZMdIEKxVYTXvLR8Cl7D34tjPsFUYW9h9QJ0WkJbb7Bc8kBfmOct9MFpu8gACsEm6sVC/4IF88L4NhxCANub3We0XPJAP3u+jwFZpBGCrgpZy/YIH8sH7NgRCANqY32e1X/BAPvIMv8brpTwgl/wY78UPZ79j4DnbcA17/YIH8sH7GkRYrwMBWC/aXqJf8EA+eN+GRghAG/P7rPYLHsgH7/dRYKs0ArBVQUu5fsEDeYH39l/lGzwM8WdcYrDBH1MRBGB6KtTAh8UWzU4UwD95nuECdyNmKOiSMn/hvG22QP0TNClQx/Ss5JNSfVzMY5ayGn0Vi0XwvNzsI1jSRAofsJ4V2GctNQTy48d7y3TfBYfHqWLIa6lCAIoKN/iqJFK0sfHEDHhlPn2GyLuo3MqNcFaIAfli3mseIO3sJoZW5QoGbLqWM5HVyZAuw9TFm2Gt8opu9dMUAcghq5/jStWlvjJuFFbRe9hJ8v7+8U5u1dWsauW2aaONInjqDDO+4zxDO05zZ3blCobwTi7zGCFdkI/cqknbnCI9HxeoQ6QJfjYTgcR50S2xFH7NBRVSYAaSW22Bwop2G++0BfAaD+mEHrF1uxBZx80O8gyNo6LTVuUKBi/oeF+SJZfZV3LxwZNPUPCps8rPU199pLsDQVtWmApSYvOKlw8eCmBOarJDNNPCxfJOLOUs9FBemSuYuKAsmw0V6prn+/Sps8rPU19BXArZIR58p4Ir/euDhxLYlZrsEM1iQUfDWHNUCcgXzu/FVWY/Pc660qnJglxBcjpSBKmfiWx0DRvSc5jyHOWGdnoRgBRC6mcaetb4Cm6UQnYI3vPMAwHY4OQCeO0K7EpFdsiVJszfFxvv7XRjT65g1KMPVTSr1GfX8Gs5Jo8OCWibHrnU91f/LFKHGEGvu+ZbrvGVuvEB72kM0gBs+fKgCN4luvYIROCZBBDEh+0TYgbkhfH+BAivbQIB6NEN/YIH8sH7NsRDANqY32e1X/BAPni/jwJbpRGArQpayvULHsgH79sQCAFoY36f1X7BA/ng/T4KbJVGALYqaCnXL3ggH3mGX+P1Uh6QAWOM9+KHs98x8JxtuIa9fsED+eB9DSKs14EArBdtL9EveCAfvG9DIwSgjfl9VvsFD+SD9/sosFUaAdiqoKVcv+CBvMT7bKlQdug53VuG4bVL65J/YseFDGmjJzxCAIp92+bPorqaJwrgnyDPMPux7/zQc2IpTqV60WHPzuxVaJt5xrurK1DH9KPU5VJ9XHa2cVW9sf2gWATPy816zjPMib5jvJ+Jkw2VuLrUuFT/IEDXPV2kDiCXulyqnzoTqmoXZsAr8+kzrGR3AbuVtXFO9QH5mnkOYX3DOr5wWetywfV5cYwq779eYLpeUFbr6RpFXqCsFrflyE190aQGAcita+/W+1OnjNgvTOLFARt5huJnuH0l7+O6edltRy7vdB9CRFI4HZkdSzZpK13/bdqIniVKYLGfAgKQQt7nTzgPTpMxF4NvaIB2G2dEBfDaFemEHnWVZ+jOc4y7AnGnNXy3fbtrtiDGHrkLYwk2rzCn0dtqIE/peE/D3mIlcHE/BZ861hsoL3fFyDN8RAC4vTTew+usSY5sXamGiHt/d/cqzIYBgWh1xhnqSiWPenvB8whAgs16I5TXuALiUsgO4V43EAmOBwc+eAjBrtRkh2gWCzrYxZqjSkBe4r0MvCHfmDLBwoZtMT2Nf+pHXKj5h2vz4hAJ6eYrJSIiAGmE9/kTDJNCdhi9zVZ2JHMWwGtXYDeEVbPd9bwA0SnzpfIMCSLfX+/8ErZTf+76XCtu44kKz1425cVF8aBDbhRiW6qeNBGxSB3iJL02+XPkGZpryyvC7cXx3pHKrmOnxaha6gEEYKnAldr1Cx7IB+/bEAoBaGN+n9V+wQP5Gt7vc9aQth5AAGxlL+V+wQP54H0bsiEAbczvs9oveCAfvN9Hga3SCMBWBS3l+gUP5CPP8Gu8XscDEOCRJgAAACFJREFUGC3GeA9XjMILeWDw/oWCPboKDwzewxWj8EIe+P9bD2k00BT+fgAAAABJRU5ErkJggg==)"
      ],
      "metadata": {
        "id": "qEh99Zqu8B9p"
      }
    },
    {
      "cell_type": "markdown",
      "source": [
        "- DimCustomer"
      ],
      "metadata": {
        "id": "4MmMotSq7vox"
      }
    },
    {
      "cell_type": "markdown",
      "source": [
        "![image.png](data:image/png;base64,iVBORw0KGgoAAAANSUhEUgAAAQQAAAI/CAIAAAAePzCuAAAgAElEQVR4Ae19TY7sus12LSo3g95LEGTSCwkQIMNeRYAAd9xryCDAu4Aef0AmARrZwPlAUiQfyZItVVtlqUqFg9O0TFGP+CPJVaJ1+/Xr1//7f//v1/pcrYGprfAc4G8rGK6OgtD+c/jTIMpsgmGaX8HQpLeOzGaSjm10E/0c4FcwdHOQRsHP4U+NnR6C3TRfDIavj/e3G3/e3t4/vzKovz7e3j5yNzK8xaKvj7cbSDlFZrGxoW+YSRwlKcc+BSs4d576fDcJSrx/5ll/UJoHD4Z12ZUWF08o+cO2fFviTR5QBj4fDAI4hMDX5zv6q0n+QfMm45fY27R2ikyXPhNlJnHQqI2vz3jYcC7SoSkQimPy8/3WIQi0jQPwykZ/Ky0unSp1bVu+LcFGd2kDnw2GOsF1XLswWDVvHx/vb8FQp8g8aHLQ22YSx5doI7k0vlK5MRAxUjDUWFw6VeratnxbEnV/78I0nwuGklxbOYnrChsye8n7Oy+y3j4+ebXFUzzdfdfFV+z9JsSIT12k3ZiT62Zk8kgTWN/ef7xo21NZ73tmEm/ItBGK1KEj5chIewuTd3TLJWEwUAWdJEjiB9nFdBiWUGDrGq3ugDd8wTzSKetacilTx9vHV1Ke9IvuBh8TB/HpsRE5fptaHwyiQ3pGCNpM4GI3xDLEx/O3cRJwfsr4fA8zu9wiW5nTx8qHunQjkek6CJPMT59h0H8eS+/4kwJRZel16P2mmO6nhRpIbj+dLticovRgWaycyrG2I6IMXttV0SY7sji2IjT+j01ZufpSEBwkhD85DaCUiDbw1cEArUQ2KJWjPYRny4k8FA46HnD5+5s+PcblURSRJvBzvHaO1DDShZnEQaHGqNQdK6+crd5cltblknAhf7AVsxQqNfvE6JKJKoNnC9GS4PNLBipvDizuhRrGhkRMSuO9mhr9wVzI+BuRI/hcMFjwYocP4Saw7NKIrQS7xQ3R/XeZMfiRXeYQ66QqZRMMOuUj2gnpsj9pZ4ICy8qhaHn7QL1pVQ8kKeEwYGdU55Ny07YtpFzCHnUA/ktWy2yp0AuSRqRYHApzQ+2mXzv8jcgPg4HwmFZ/hW+TZDraLJN4uAqTrCx+DGhC2CXGABaSKFn7kq104uavsowtJRiVslZ8qbJn0WvvHftTWOqXlYO2+Ei+ApRZwLrIa3AbX1zb0kazVsvg2Y+D13B7ZkHCkrM4elFgznU5wRw4m5EfBwO7Kz7C8gznjybsfdorap8+/ESDU5gyRLEu5khuqY1IVNCYPtG9ccmW30v02eopH6B90tfHLRpQY+X8om9dbzwibm6pZjlO8PcFc1K2zptKlHHlF42AalUtMlEZohwMgDY3ZoHFtT2cK9TKab+4Wlg3WUgHog15VTBkeryKemog408dmwuPr9SCOtxPWnss+J8gzdQ18NlnhkyFVdRbA2aS3g352kRaWsGgu7ZXMHT3vcoGHhcMlYBa2J4D/AqGFpv35H0Of+qpoV6yTfMrGHqpuFWumaS14gj8zwH+9s2f242I9f+1GhBbrP8frIFf+qGZ4fv7+z///d/6d60GbjeyxaSf7+/vJ0AeguF2u13rCqv1ef1JxtPnCYbli5drYM0Ml4QTjkFrZhhlfYhWucQtftLovOAR+cEzw7/+9pc/yI6A3/74p3/+3wXD57///off/v6v8Ejzf3/97faHv10Bo/8z1XPODLbdQkINfuCzDR+3S/fRZIIh+8zwr7/98fbb3//xbx47//37n25//KvQO54R+e4Zgy4I/Mefb7c//35BQO7097xbaBUfpMF7vPCkPRSRwJ9d5MELzrD5khuw7tAOPU2tTwLmZ0haayPynZnh//76W4X3J94AvnuO16pAiUydIs4IswT51ZdtM4N5Vavx+/CjS0UtMM5NWu8GfbKnNhLR9wKRl58Z1Asjn8ZCpclN6fPHP/3t97/+xqQsbP799z+Fy7/847//+w/x/+VPfybmP/zt978SoUsv4KTJxzn/8g9p5Z9/ud1YiLhszE8AdMb4x59vf/rnlKGCVnH7i9vQ/5gxS2MpfWSfpnNfRuXB2wxmzm/dSbIOqEPX5KUg8vLMoL5+FAy//0nc9N9//8NNfZdcltb38pgRnJUYeKpBgsIGpiBpVBjkEYXo2+23P/7hZl6e5ZdQUTBXD/OR0urA5GcG9x7dwo3b/S9z/rRhdKnonoZBMckzcF82NSDyn88M5PS332ha+FcY1Pl5F2PJXFxnjPBMbOU8zOl/f/zrP+Gh2SLnn3+5WXVl5b8UYGFC+OdfbIq4wx2vrYJWcX+yYLBJYFvi3JdRefA2MxCuOMkzmQdGnxlwwLaxbevicuvfsuyBmWHLaSUJQe4OS6CwoNJvkIyZpxr6KmnL/9///YfD4B9/bn/Isa5dTRzMDNMHA+dNhLRenS8seC+bGGj7haEozwz//Z88s8bfJtE6RL5T+tc//8IDvH3LxKsXH9RzyyQb2iOCOeULU3F9DwB5foDAoIXWhp/8+Hd6PhGxV7v1fTMMWsXMU0wS3LiTV7mCyoOPZgZM8pR8z/Bt0s7r0R7QFURefmZgl/LfGfRh1x+X/yzB8D/j4V8A5Bk6PDHrA3S8cDJfd4JdmZ4NONKsPJklJD7//Pt//h3zM9R//HnunyDaZgZI9XyAxxw2gS4VMcdBi1+iTvY7w30j3EW1fv/Tb/Faa7b5oehPkXMNejEveER+MDNc5NmN343SF69zTwv/+e//8jPDoM6fwkKXSu+NfY3I954Z5oiE2WaAklbRKmP7TwbdvOAR+VPMDE8RD2tmyARZ/6JMMGT3JpXGsFXeQwNolf4+cHIL84JH5CHtc+V8DqKB7/V5uAZsYAjLJLtexFUawCHqKgx3tzsveES+guFuBzi5IlrlZNH9xc0LHpGvYOjvKXUtoFXqagzENS94RL6CYRSXQquMgqkax7zgEflBMPhv5vSW7Zr3MVfrb4cx/g0/zxjx4M/8efbxS9Eq46NNEBbBJ5YBq7lrPc6xEtR0ich3g4G2zmtuHr8JPdl4m5F9ShGorCgPeCSFsMg5yQ20ikOGbnphugEuunPJRR684MQkJOvOyGmfOQ0a8NzNrmU1LStPMvR0xdVVeNGfsq1q97M3H19YBM84J0v7zKhvR91+dISunKBkc1yknTYixzO+f+ppErTy+rTDjDhRRw4BpaYxy5E2MtukFLa+C7xkUgAYH1+5Wpl+jlKU9yfpZqoQ0gd9LMnh6k7kwdsMJr3ASzOnIEcDP7YviLy8TLIO6EZ01T7cCKR0BU64Cn4Yzvuh06WIRY8bs95Kda5tp7qQlpg5OhdUWqCKmgZCJbfbG53eosmzG2DbWtb0eARaxdG5inTButI+XTsnUKj2umCQRt0wPCyF/+isZz9MzXhs0MqVVJ3ciI1aEGgsSMBQCNl5TBIeDo0QBHardYL2eolAq3gbOe2FwcU07NyXUXnwNhUQrnnSPnNaFDvAHTOMjcVyExmNx0yVllSf3JgIZ4cOB1RGWqYgoNZ8HgDMSS24MxqZ96dUe3rqFOp8gJ7kwUdmIvvoaa4b9NeNVoi8PDNIMOvkzGd+yiKVnc6WNe6GhWVSOq1Tv7W2nuTpJfxsgLpymh81khgTPwjhsAUmfRhobb3jt2gVZ5PuuxImDgaexNUW8G3ScGmfrv2Yir4MtuWQldo3xP7kKn7ONpMVS3JcJ93RgyT9Vnza5Nb2jMoWRHSFPNIaPWzos7kBg2VU3LPhrtqCYaV9nmRAVPvuzHBGe3SKtD7h5uXFbp3noVI4oLLMtLlzX62NmP4FaJX+rZ3cwrzgEXmvYNAhuuKH65pgoFm1/YvE+2qd7Ce14tAqtXWG4ZsXPCLvFQzDmGkaIGiVaUAr0HnBI/IVDGrPq/+iVa7G0tz+vOAR+QqGZsN3qoBW6dREP7Hzgkfknvb5vT5LAy+pgV/6WTODauLqvzhEXY2luf15wSPyFQzNhu9UAa3SqYl+YucFj8hXMPTzkDbJaJW2mgNwzwseka9gGMCVGAJaZRRM1TjmBY/ID4LBtk7cMOetWkcnMB7+JHfIsNm7cQKqDiLQKh3Eq8gadSlv/d8i+LBtTCVB67Z15oH5xAoD/iLyvWCQjnxyVgJv1LNdciAsIaG3yZ07Lw8FHjKsYEDV16gL+etodKmoBvkQ7B2w1mGjnu/Gj2o+6AKR7wSDAW+BdVelvQYOBR4yrGBA/daoC/nraHSpqAY396Rpn6hKpSX4eRPSZ5SOaGssSOZ85x2rlBBEhG4QB07a9UqSNUdUW3EV47YnyxqVjbDSEHu/7ozl7eJbIS5uFCrvT6wK2+bLOx5h8y6pPpRJHmiUSUsqeP/E5cgnZ33EKbXU/6JK97dYuury4G0YMv0LYbBNwLbEbnUmEHl5ZrAOIBosDLTuSpX+OEO4FoWQyaiAF1pIhHQIXYBJdWGQ9ZkLRBxMA7PkiEqT0fZu49EWNlJGKUCrOCZWRZQBC5vStb/OHna2uwKZJaSPSFoVWSER6PVNXdscXWfKUHnwFgy25djkp+ZQL8rI7luEyH8eDKRuerz++PwKgzrrXrotHUlUYLes3HM1eYFpiROgTVcJTSM2DnJ2tWm2RqALGotCqzgy0xWqIhTCvZJOgCXIxBKjS9UdxwGVB4+Yny3tM+pbNP7++pJlz/sn6LeYGJ3wbMc3Y0haJIvUZY0mKRQo8MCsl93O+xMid1ooSz0v68SraL+wJNDl6lrp8G8efGw+am2K0z6zvfXJlnrFKuNUHZt12d2lXPvtg7r4OOSCmhlSgjmDUDawMahU+UKLQVZkjfKCzFJLB0yfz2o7708FVVDxm402OZ2E2RJ1K05vIWTD2U71LNJMYR58aj7IL4Fvk+ZJ+9RnN3vYJe3Sh59wWeP+9EsOLc/Q/OAV3wjLWVSQWdoe8iRd08qFGRdRNPfos7FljcobY6Kv8PSRcCswY8ohivL+lKgCF4SQ7JTRiXOqKuRRISdwr3qdbvLg0dYsh5xHgZnN5/idoU4Pi+scDRT96RzxfaXMCx6Rlx+g+2pvSU81gFZJ7w1/PS94RL6CYRRHQ6uMgqkax7zgEfkKhmqDd2ZEq3Ru6nzx84JH5CsYzveM+ySiVe6TcGGtecEj8pX2+b0+L64BG0TWzGCquJjAIepiKO3Nzwseka9gaLd8nxpolT4tdJQ6L3hEvoKho4s0iUarNFUcgXle8Ih8BcMIvkQY0CqjYKrGMS94RL4XDLyVBPdC+CE5QUv423614hZjVgNolSzDOYV9TFYAT/s3ZdNZAE/Xn3yMU+RXIW1Ct/rc3t4+wmlo53R6Rwoi3wsGFQF7zUWVplAjlHX9vVsDaJW7hRxX7GOyInjeKKiOrXs68xj0btiQVptXdNzlXQ5E3hgMItc6Y8Rue+tmjQbQKjX8d/L0MdkOeA0H2KSXxZAtvLOTDdUQeWMwEGLJ3OQsb+uA73uMp8UGVK/OilZxXbDCbZ8uj5a5EdR2puIBqiOkfVJPOAz4SPHQL3Mb76dOB5IiFpX3vUC13xEMkFwWegWdA7JvJ55OOlrFOyeOJBmwciDYXGmf0hOdHUK/6BI/uiIKKWK4F9810YlCtZ8RDGnfdMd6J/hPKhat4l3EwcXoQNg1Db75VFhgCTKxxOhSdcdxQOXBWyVrSEqSS2NTIiSS6WXXv4j8rGDQ4O4K/KmFo1W8o+g3TgtlOWuSwsbpgHLHOI0wiVgS6HJ1q3VE5MFbLWx0k/FjXEDAdzZQ2oNE5GcEwzbNsgfqZ5eJVvG+ohsBTeQUaZ/SE0BOBckl8/BKKnwNO9XMYLmd1ivL4YNjNt2ii6rQQFMwyEOpfYXv319YKqytVc00l6R9SsfNT+wSHxnCG/ccqL3LpkJtP2VBtdfMDD9tb9Wv0QBapYZ/KJ55wSPyFQyjOBVaZRRM1TjmBY/IVzBUG7wzI1qlc1Pni58XPCJfwXC+Z9wnEa1yn4QLa80LHpGvYLjQhaKm0SrRjRku5gWPyFfa5/f6vLgGbLRZM4Op4mICh6iLobQ3Py94RL6Cod3yfWqgVfq00FHqvOAR+QqGji7SJBqt0lRxBOZ5wSPyFQwj+BJhQKuMgqkax7zgEfluMMTbUe0H/mMVUUVgT36NP67/ihxolY7972OLAvhnSvtMFJdcJhbDuxJFFg54K6m1LlUDBX/S22f97WOLInjef/cUaZ9NikNmpjdnPJ5lz+eUU/Snc7uLZjpP8g54DQdYLWQxZAvPQ1iShMiPlkk2utvOWwIdjuL8sINLPtJzPqPzcqyfxexEOk+Pkxv17D3fh/kqeaRoFbcca3ulfbpCzqZQ7UfB4Ftt9bw2iXBKRNQMDIl983gLm+SMR+yGMNtggQSFH8gCEgU8H41W8d6xZpLDOS0JWhTvzKZ50SfZiFlkq7dkCdCopSOO5pG6BLSL5Jr6vT0qD95qJEDpEj+aGTZ02mfiiKapMF1wn7bnfJpJSBef729RzvRBdqI1gbrCZ3HT79MReX9CExgdCLteaZ/3ewOq/WhmyC+TLKuEDj7kSVznDUEVmcnOeCynFxq/EMlAcn9PZ6qJVnHcpploiJHSlfbperqbQrX/JBhwuqY1v50+icscXk1JLlP5VEkzeSA4GsLkDmLv7vEMFdEqjtc0EwUDK3ilfbqa7qdQ7T8JBn4nA69neP6Izvn0wJB1K3P4U3GSnWgmd0KftV8mjxSt4rY1hcTBwM8CPmsXFUu1VJMr7dPV6hSqfTcYvMqiumsArdK9sbMbmBc8Il/BcLZf3CsPrXKvjMvqzQseka9guMyBkobRKsmt8S/nBY/IVzCM4mlolVEwVeOYFzwiX8FQbfDOjGiVzk2dL35e8Ih8pX1+r8+La8DGhjUzmCouJnCIuhhKe/PzgkfkKxjaLd+nBlqlTwsdpc4LHpGvYOjoIk2i0SpNFUdgnhc8Il/BMIIvEQa0yiiYqnHMCx6R7waDbLXVDbayryK/hRR3DYgGpWRbbvol4b6hIN7OZEwvRKBVOnZ7xyI/aLUA/tnSPn07GO+HiY9yM/VtVVwVDOFl5CRmK8GEvwZR8KezO99Hz0Xw0QZk3dmZx6B3xRluPgafrYJIHiI/mhnePj4oI4Hrf77T4YZ6FYncdk9KtuVWjW+t1FDTB1rFCs8ndizyg8Z2wGs4wEogiyFb+ANIlVUR+XEw0K5Hjgb6K/u0DbfulnyTXagc03TG5O0WSjacN9uFKreAIYSZbbKkXZYyY0iW6ZOnhqJV3JCkn/eV9ukKOZtCtVcEQ/BXyFkLJRLzNGvouUObEufUCSWU+LqI5pvg9JAzZAsnG1CQIGEmyEWdraiHykOreMPc65X26Qo5m0K1VwQDud37p/iseCD+L+D2S8ii+OHAcGeGMAtzi7LHKaNh6rC2UCQ+i5+tr8fIQ6t4i64liPlQCPdoit5VmkmESj6elKpbrSMiD95qYaM2zNndDaFj6+ZGhwJEXhMMrLQ3GL+lb9jD/RIKhs3zEFQnMjyNvG5qKFrFjQ5act8NlOUAVijNJGYElqtbrSMiD95qYaMVweDvmjAJ3QhEXhUMpHzxZulV6JuU8jIpfE26KUHOJI0zUtDnezgJ+3VTQ9EqbnrUEtBE+vd8ZaWJ5YLmxekthGyq2anuQPapPHirA8ipLLlkNnadsE4eemawToVuWGeoB/R5e1fLJCXOqc/FyQO0iqZ6YfUkT+CZR/BomUQ63chUaTP+zfuTKTDxIdMXd1W/yNgoDbW00j5zboFq350ZcpVXWScNoFU6NdFP7LzgEfkKhn4e0iYZrdJWcwDuecEj8hUMA7gSQ0CrjIKpGse84BH5CoZqg3dmRKt0bup88fOCR+QrGM73jPskolXuk3BhrXnBI/KV9vm9Pi+uARtE1sxgqriYwCHqYijtzc8LHpGvYGi3fJ8aaJU+LXSUOi94RL6CoaOLNIlGqzRVHIF5XvCIfAXDCL5EGNAqo2CqxjEveES+Gwy4F6BaL4Ex3i+Q3Y7SKvK5+dEqHXv6E5uWYRXAP1vaZ5xjUFYH3UFFyyYlzWKIbu0LedW7BX86Wx1oo/NkF8GTG9iGZd4pKGdrmWM4Br0rjuS1nKMHhchPnRlQ0UyvrM56+6FV6ms1c6KNmisXK+yA13CApUIWQ7aw2OBpNxB5YzDoPlHaqMqn+8oEQJfrwM+fGQit4pLIRVbap+vjdArV3hgMhiXEMW2Fp6CQ8MfgVnpldZrO9gm0inPyeLrSPl0hZ1Oo9sZgSPIDOQhu68DPMyyEVnF5OqZQidGBsGu6tdI+XWktFKq9KRg2+YHS6jrws0X7JV60ivOAw3swBMpy1jZ2sVpGmEQsCXS5utU6IvLgrRY2ilFtDCmhK460/PxrRN4aDO+avPnOiWn2DQB3dx34+QNjoVVcDLoR0ERqcqFkDEd2cU5ev4Z74vQWQjbVrLTPoO+jYMA3UNBZz3FOpszPkvlJGl8Hfrobt1JNwcDrU/96MrWLBwMkx660z5xJUO27wZCrvMo6aQCt0qmJfmLnBY/IVzD085A2yWiVtpoDcM8LHpGvYBjAlRgCWmUUTNU45gWPyFcwVBu8MyNapXNT54ufFzwiX8FwvmfcJxGtcp+EC2vNCx6Rr7TP7/V5cQ3YILJmBlPFxQQOURdDaW9+XvCIfAVDu+X71ECr9Gmho9R5wSPyFQwdXaRJNFqlqeIIzPOCR+QrGEbwJcKAVhkFUzWOecEj8t1g4P3DsrGF1II/8lerKcNIYmULx9sHJ0VkeE5sLi99uFK0ioM7S+cusQuVB//rydI+w7EJrMFzDGN7+zi6brThqfbQxC52HEVo3p+2ypGSbfml/ciDlxHNEzjV9Hnwejet1bdjiPxoZuDTPkMSa74PjVi3QrYlIrJU3tjgLOxoFcdcUkKp3Gs+lMqDZwi8b1YO7dOzxrLgs4X9O4HIj4Phy1AakSR/Unn9gZyyqfjzS47T5e2XtGbik0RtEOFdxTpj+J7MsIG8v4ouaAGt4s2DbkOmrZSEQ2J8DetVrqDy4AMSXm2/yzloXGSOFEFNHCO61+8CkVcEA+2XhwPdEJf0ijtLZkGC9hdDp4HklSQY026xNvghgnM7QrndPu+hBbswDI1WcVCsUkn7DOoRfYBWnPk6Kg/e8LhluYgu8aOvzwhZYrg0NxG9CEReFQwcDh84RRwkGZrBsMs6SVq3wtFdYNeQ4CR/6oSYtNkJtIr3BZQTxhZTi6czOPtVVB68ocFeVHw1MvqZbtSd8w/kxBmANccF4RR2s7otnky5z0jk/QndyBSCJwKPoYo8eMOGvagIhrFP+6RenXMgJ0+YYaW7nRl4CqLnh3CEaFhr3SzZNP+9kyl9ZiLvT6CvsNbAkBimv3nwBq8iGKCjdHLlZhlhsk4mEHnlMokQEFx2U3+gfeMS62qG0GdtO+TTz+jkdy+R10OyKMdcmP9d2lbIyRoZQRxaxfGw0sN559EYESnN+S+i8uANjJlSSqhT0UfcSs1sjmH1OxKIfDcYOmIoiQ7P6qXbT1yOVpmum/OCR+QjBYMtxKbzhTMAo1XOkPdQGfOCR+QjBcNDzTdcY2iV4cAdAZoXPCJfwXBk50fdR6s8qs3T2pkXPCJfwXCaQ/xQEFrlh6IeX31e8Ih8pX1+r8+La8DGjjUzmCouJnCIuhhKe/PzgkfkKxjaLd+nBlqlTwsdpc4LHpGvYOjoIk2i0SpNFUdgnhc8Il/BMIIvEQa0yiiYqnHMCx6R7wYD/mzu+ylyGkp+bxcWrC6vgM5VXWWiAbRKXidZJedZH11aAP9saZ+611zOXkjsYZdGoBWw8Iv20oRNR8hTtYcxqfCclwV/gs6iPqEY00aw+JF0ETwNiOpCtNdTdiFp2lYEUe+GbXBWK2I6/QKRH84MhinkGkRozDxG4O2kMLk0zlK5MbwGgVbJ97ikqFJ5XkqX0h3wGg70N4yGWcDZwi5gI6GIvDoYcGYg3O/v77rxMGyvTw6l3CamaTjFuxPDDkbRk2+IfeYMz8gaeoFW0TL+qzp5kz3CvJted32+8fsU2BCXKrAInnrAYfAMaZ/q8OGsWwlfCfJPyOuU/n5yXvPne8g6SGM9vY5St4LWwtgxwtQfeWT/i4I/kWZD2iesIwIcM8d2yN0ou2sPCuC1TemEXnF0uGPdbB01etqnAxWj8GrPFL0l8BnA7gYt6MxAQ50NbVE2qZaKpjQwTIlPTeT9CXVo9HgKzIM3exlyKUkujU2JUZN7LBhkrMbFUsnvratGRCrg8U3mEGEwtmT8UNW8yN+8P5lyXNsjKjAP3iyHvfCO2O0toePm9s7ZJYi8+pkhTNf3zgz8bRI/jFM/Je/z64O/XXBNcRt674kzPLMGRasAQ9C7uBA/gY6owAJ47YebmEuSSy1Tvxg27dOXdvC2GO+MJh96CTw3kx3tQ496oht9ILzpE6EKIYPrw/X+zxqq5Gf6W/QnVePbezjsdkAFFsGryaOhTXvkzkEjoNl+pX0+k1/f1ZcDf7pL5sMqzQseke8ukx6my9XQ2o5xkQ+sYLhI8bvNolV2GUe8OS94RL5mhlF8C60yCqZqHPOCR+QrGKoN3pkRrdK5qfPFzwseka+0z+/1eXEN2NiwZgZTxcUEDlEXQ2lvfl7wiHwFQ7vl+9RAq/RpoaPUecEj8hUMHV2kSTRapaniCMzzgkfkKxhG8CXCgFYZBVM1jnnBI/LdYJCfzS29R7be/nAvabJxQ36Rf9s99rPaJFMzolXaOoIqbat5GncB/JOlfb6F/TCkNomN/WAQw+yYx2/B9nySXD72s2qf42l2vUpQwZ8q4LhKK5j7sBTBi2VDo2rxPGC9GzzNx+A+kINURH40M/Bpn7KRlI9208SdfYD53nIdu2WEidqW1NwynskJtEpbV3b01ibofu4d8BoO9Hebg+RNXtQLRH4cDLSZkKOB/ko+Q5p5KDtVw8ucgJwAACAASURBVIGfNzruilc/Vi3sToR9r6QD1tJH5thPPsAkyJAdjJ4aiipTmgTRZ+6drmiV2EW2+bS6t1feOUJ62PAYixwSyjxsmC4jbh586AaHwTOkffrxYRwT6n+xtThbjQ6v1UTQLZstdfBWkuaHt6wBKbRbRphAeucCG5iDiw8LtcozEXl/EkeK8mm5nyHrQxJ9aMwNO+Qt59a6bgoUA1n5qUQevDWRmIYu8aPxmfiDVe9JIPKKmYGG8PdPOVLHfHEn89DjhztR4oQeZg53K9UyAB4MrFoaG22SAdHzkGgVR73tL5YIH5YYXVKgiz6TyoO3FgzVFrDxADFq2icvdagvcqZ16JUMSJysIyXW2+RSXpWTTfKEzofTHU3ITi3ngSwiCozPD1pY6RgTCZ/jIu9P2/5iifQMSwJdNlAfZeTBW1uI0Ecxu70ldLbf3jm7BJHXzAxheU8rENd1IXVTGLzzxRxFmOw1za+iloSNrRE4f8q+hfD6Z2vsEfLQKt4e9inQoDkZQu1BrsZALvpMKg/eWsBeOEi7TQT0Sv0hut/rApHXBYMh0V7RJCwPrfkDPz2Ts8iZSfMr14ITQXlVxI/L4VzqX95E+NrL4M5EoFUctyqcSoz2BEl+VLBy4HGdJAZy0WdSefDWAiIMjo/PDOE9e9Ezf8gRNhG9CES+Gwy9ACy5GQ2gVTK3xy6aFzwiX8EwipehVUbBVI1jXvCIfAVDtcE7M6JVOjd1vvh5wSPyFQzne8Z9EtEq90m4sNa84BH5CoYLXShqGq0S3ZjhYl7wiHylfX6vz4trwEabNTOYKi4mcIi6GEp78/OCR+QrGNot36cGWqVPCx2lzgseka9g6OgiTaLRKk0VR2CeFzwiX8Ewgi8RBrTKKJiqccwLHpEfBYNufriVMzPlV/T3T0r+uU29V67a9j0Y0So95AeZyc6Ik1oqgH+mtE87nlE3UuWyBWyDoRJ91H2S1cYVU/CnswH3sU4RPO+/U7fRLZV5DHp3z9nO1kY8Ie/ODHnQMSDjMSK+v64qNVD0p8r6lWx9zLQDXsOB/s6c9hn21ULSDKqSaDubzTYhal6/xbkqo9JYL8uW9ydScpLSaZqFrfXRhk/Z3ypZuO+fmS2uiUDaF6+pZ5aaq9Xr7JEHH+pyGEyf9kkTliTN0JZp2h+dBkN8PKEEvvKw0Wiv/cQZN3WucApX3p/EkaK0T1+8ZsYZUT7XoixcTBOw5IcOOaJ58KaXBChd4kcdJHE2q96TQOS7yyQAkc3MpNwadX2PEyshq60HalDiLolWcUZXJoxEoRDuUfqCOljWKCYRKqHJ8tWt1hGRB2+1sFF5JAgLJuOIiCHTPiOE/HyMvRLaSrKEziiRpHWR00Den0yrkQ9JKR82SaJkDi5n4WJzGYHl6lhxl86DtyrYaNQR40gI/TImKe5wicj3Zgae3ELymAYroYyyLq2fKUHXsmLdHQU69G9OkWgV74FpNfYhKvbXu4FR9g5QtXWrJgQG4TvVHcg+lQdvdbAXcUeQRT1rzLTPTGYmL0JpvfdGT1jZGZl7ThmcYSnINnhUFp8pdzoi70/oRgmt382wdxWycOmePR13zBHNgzcbIHIJBnxk0OdRA2oPNSagH4HI92aGfgiW5K0G0Crbu4OXzAseka9gGMXN0CqjYKrGMS94RL6CodrgnRnRKp2bOl/8vOAR+QqG8z3jPololfskXFhrXvCIfAXDhS4UNY1WiW7McDEveES+0j6/1+fFNWCjzZoZTBUXEzhEXQylvfl5wSPyFQztlu9TA63Sp4WOUucFj8hXMHR0kSbRaJWmiiMwzwseka9gGMGXCANaZRRM1TjmBY/ID4LBf8u/+5So5Kf4av2+GiNapWPf+5ijAP6Z0j7pTKRwPJJsgNHtRi3G6qP9FgRz8Bb86WzwfcxRBB9lMugutTwGvRs2L2mSw9kKSOQh8p2ZIQ85kXV8eZKY44Ym50CrdOxKH3PsgNdwoL9h/3IWQ7awoyKCaEReDoYdcH4SBm/nJs5NJqHyUGaoZsDp1kqv1e/8yf5qPLkFtIqLzug2N4JGGz5X2qfr75BCtdcFA6es8cbtDz3Qk1uRgOGYj0+blOGA9m1rIgTEFtTi1MRDwC/BgFbxDmd0u9I+XT0/p1DtdcEgbboT4250OBxaVnuY5IAlWImOYbVErZ/36BkkoFW8PzCGYJYmH2YH91bap6usjUK1l4PBda/SPRjihxswSqiULUmevpFHW3jlv2gV1wNqyWmhbDThhVP2SFWvoiKxJNDl6lrp8G8evFXDRm18tLsZYry0T3qDiH2bRMsdSUniJVBI/WR7YFcDDcuk8Ny0WyujjpcryvtTRrekGSpeaZ9n+AiqfWdmYKXbkxkdOq5Dkf368GaPwklarbyjhJ8y3tVoO7XO6NXsMtAq3pdCMFA06HczHBv63cT2bE9TuyRT5gTqlx238G0H8jiUPSoP3mokAgl89OFvWBzoSvs0zb0oceBPY2tlXvCI/GBmGNsET4UOrTJdx+YFj8hXMIzieGiVUTBV45gXPCJfwVBt8M6MaJXOTZ0vfl7wiHwFw/mecZ9EtMp9Ei6sNS94RL7SPr/X58U1YIPImhlMFRcTOERdDKW9+XnBI/IVDO2W71MDrdKnhY5S5wWPyFcwdHSRJtFolaaKIzDPCx6Rr2AYwZcIA1plFEzVOOYFj8h3g2Hzs3m8Qa9CVcnv8LS/KfeC+oStai9XRetTsaBVOgLfqvqMxgrgnynt8yeKk7qxhM93fpG97mNyK8RsVL4tce7npAr+dHZn+yi2CJ73Z77MaZ/7xopU//VBx7t9vm/nhoiNJW5L9hua/27Rn87tWh/F7oDXcKC/wfJZDNnCc/uek4bIj5ZJieMSYjkHktNzaK+kbvK2/a1UokM79lBiAcd83S25TQ2F7ZN67KQy32SrLO6L5alG13R6O9fzkcvQKo6TFf6he1J5mbrSPl09P6dQ7UfBEO205WNtJbwtztHdBZqU4P9cHmJBw0ScWZJFITX0FpVIK+HUSo3L0KLmfxAPTziSPBQuf66lR0tAq3jbrIE4pXalfbp6fk6h2o+CQT0wtGqunyMyJ0YaG2/A98gqpYZac1LRqpNP4Efq3270JgI5ppo5/PLnWnq0BLSKt20awOeoUAj3Vtqnq6yNQrWfFQyF1EGzl80LBJVLLVVIC/wU3W1JabwPJwfrt1zJZZtaLuZGqzgUU6DpxBTotwrKj6qoSK9lc3S5ulY6/JsHb9Ww0Swq4wyETvtp+fnXiPzEYNBTQPHASdWC/g2d4Us5A5HfoIGpoZzLy6sDOGSaJxZrgNPhbeksspPL87XWWyJaxdtCxQFNpGYQ8tG3ppt3WsY6J48iIUdXnF7TFd0p12mfQd9HwYBrEz7ikx3RBhUn/PkWMw+DVdw4oVkp4KUNnxyqhk1KsJ5lBeoTsrcYHqD1MXP71a0717hUUzDw4GBryl+uClS+9NX0ttI+c8ZHte8GQ67yKuukAbRKpyb6iZ0XPCJfwdDPQ9oko1Xaag7APS94RL6CYQBXYgholVEwVeOYFzwiX8FQbfDOjGiVzk2dL35e8Ih8BcP5nnGfRLTKfRIurDUveES+0j6/1+fFNWCDyJoZTBUXEzhEXQylvfl5wSPyFQztlu9TA63Sp4WOUucFj8hXMHR0kSbRaJWmiiMwzwseka9gGMGXCANaZRRM1TjmBY/Id4KhkLNXrSDZj0d7j5IPbrJIbr3wJVplOjUUwBdcSDfd2F6fsNHSyt/ePjQ7rrcqEPlOMPC+Iz9hxHbCVcMrOX2pvFrwUzKiVabrYBE8+bfuKbZEjLwDgINFtfoqA5HvBoOHA6HzfWGV8PJ99r19lWJehA2tMl2Xd8CrY4MLZR0jW9hfEYj8IBgkHN74BJ8AzHdIhm3DlNUcJjxL+AypoXJ0mw0NYZe6dJv+354RarI0mxSao5mTa/EZoZu8U+Cccd8qWsV9oK6/ppk4QZTUpVt5yVjqlyT+3IyBPHjzmLdb4kJh77P3U0x701St6EbXC0R+GAwSDjbTiSMzPCADXCmRIeBTjwV1C6j+gS1OaGRW3HxPG/M1EVTmWxH+FYKUeAMMQANkVz2eKxyt4pL3+pvRzEafOp27zsWUagtv6UdUHryJFDNGl/a8cLvZYBlys8JxacbelUDkdcGgKuWxBbvBN2j4sbkBMkvUKYPiTf9mGBQbpaRo91UCXSe17JaVI672NZ02edlftIqDSLq51cN+yUYnqS28pR9RefAm0nohJcmlsSmhOfF63fMvIr8jGGyWEIySP8VfGplfipdbn9kC/oqYhC1rTpFtErY8dsuk2QDTU3f9ZKNVvJWkm1s97JdsdZLYwlv6EZUHbyKtF1KSXBqbEzZwelEnCpE3BoMsO8NKRhIICbcWxDmH3md+EtiZBwInz6aHy6Qk0jJ1IbOxkwo7iEWruHjTYUrIykOTZt8/dbnIVfd0EtvCW/oRlQdvIg28lCSXXAi2/zXJzEDjkD7jbtMvk5xD6DN8bbZZ8NjYhsLtdUz+CMhRYjIzRArMbDEFkfenTDc11EuayepTjSWPzjYunaWZPHiTbr2QEnL86MN4zLH8XVwmoB+ByCtmhhOA0HslH/UryglwLxGBVukJoIstHgX+fMUg8v7BYIepn9+Rp5KIVunVsW62eAT4PkpB5P2DoU8fnk8qWmW63s0LHpGvYBjF8dAqo2CqxjEveES+gqHa4J0Z0Sqdmzpf/LzgEflK+/xenxfXgI0Na2YwVVxM4BB1MZT25ucFj8hXMLRbvk8NtEqfFjpKnRc8Il/B0NFFmkSjVZoqjsA8L3hEvoJhBF8iDGiVUTBV45gXPCLfCwb+iSb62Xy772tPXfAjvG0doONFbHf3tjJUCTe3JdtaT1GCVpmuQwXwz5T2GWyyu4Vwx1n1Fm1Fefvgcxd4a5Ok/CT7Y4RZq7g3bEv83lNReX+y7hux3+kSW6l8X1r13Tx42SXlI6juUMuD0btprWoQdzEi8r2ZQYX/MBhyXc+VUXPb8m2Jwnqyv2gV79pZ3T9LjiOLqDx4ZpHttWxazTLJgskWRo10uUDk7cFgKx7ae6f7D2WY122jvO1QPTvbSSqMcz6FzZi1leNjP7eiuiitu1C0ijYG6nX9RHpTV6MavJme97SmOgE5Kvrcvznw1gK1/ixpn1G6rCi/sI0eu2+Za+bfdjfMg5rl/PlOGbFubEvW5VZk8mR98koLxFkV2+8torCheei8P1l3S50Vg1A3eQLfYUvWpadqJg/emnCQXESX+NEdzROkfWIwmG1sSROXZPI/kQG1Y7Yx+6UhoYqz8hBFqMe3j+1BidbKVETen0x7qCXpl94Kq1j5U2JT5k4qyYO3xpLWk0tjU2Lg5J7aYOAxXB6TI5Pkuo5lyIy0qCYpScYYi0lkVp3O9TfvT6aoRA/YcQ6DkFVbYjM5fZSSB29tJa0nl8bmRAhwL+hGIfLWZwZxxuwyiTqQzf+kOjvfJqH9gpriVnBm2OadomaR7qa+ToLRKt6E9UgIu8RgkHf1yExbYsOKLv00Kg/exCetJ5fMxiYX9xk57RNnBraBvopHoNMJtvK2D33ovcFTr3ZP398TUvpQHULj/2JpXg3Rg1cUDJu8060os8FURMGfVL2JfqJgIAuFVWeRTeX00UkBvDaGNgLj2nqXwb9K2qcqZf0ta+DAn8oV6dH56qzaH4Df69gD7iHymmXSAyCtJu7djtEtk7PJJOhSTRUvZ0bkKxguN0cAgFYZBVM1jnnBI/IVDNUG78yIVunc1Pni5wWPyFcwnO8Z90lEq9wn4cJa84JH5Cvt83t9XlwDNoismcFUcTGBQ9TFUNqbnxc8Il/B0G75PjXQKn1a6Ch1XvCIfAVDRxdpEo1Waao4AvO84BH5CoYRfIkwoFVGwVSNY17wiHw3GGRTEW1E4k/yo7oWF/+28lMGhJ6I9cjsUPrdyvbQQm8S/MklMJ5ColVOEfhIIQXwz5T2ScEAftLqDY38EnqPzw6lzQzv79HeHvGjBH9yebav5f3JGjViv90SW6l8X1r13Tz4sA1J0xVsC1UejG+wkt2Yj3ltOyI/mhnePj5s40u+D2WFtfHnuHNl1N62fFtSxhXf+fqgjT16rhDKQTrbaCzoh1doFReVYPAbjdRZcgrN5sEzM29H/Zw/7VM0aHpMLs0/qDwc70m5NrTSsVdg2LGfOjzYSkiOz4C6maUK39WlE29GSzCoNNgnKy2+f+qtGzQUiRK7SiyE8JKpUCdDacvMb5cg2Y7Z/PkBpDl/Ajze8ZX2aSY5gUC1H88MX7Yr0u0RNmaDC8kmXD0t2jg1IROGB12dAw/lc8pl0juq1jc7NMSCTTYIQ13RdhpzuEpX4owOiWNGS6oJQkAWkEkX7RKtYoUqSmVmFRJeP8EJMdJQlk0V78LPo/LgTb7oLLp0pU5y2qebkFcRpmhTa1Ji/Ek5ziGoBHxnjNU1lVktKUGZSG/vSsVSQ5FYspJ/0sQJPTAq24TJMeQJEcvW6Qa7F9F5f9rKTJQfcp/1z6FmojZPu8iDN/HWCylJLo1NiSHTPgE0ke+QuY+9MraEsEv0G3+LDotwHqdUJzocbtsSXqyRlCRDkQFAUVKoy7fQ2E5GddKEyTQYCbHF4B3LUHl/2srcBIMkX620z4xOK4pQ7VXLJJZpG+chvRNfbGHOYQR7g6yo1DHiongkpnuPzQ41TxOl0aUEvF/rgtA6RQuXzWnk4qAmLhCbzu7aBq3ijIlMu3Q8/F4MekxjqMKwZcMSl34alQdv4pPWk0tmA2WNmfYZgxZnlSUxLy34qRkd2viF4ArhuHQfz/TlSv5c6w5nj6bwCK53TWbSYoByR3aowVWjUcEb/9LB80Vy3y4NJfofeqdzxp3VdrJ/C/6k6Zoi0yRjc7xECgousqmcbNs/LiyAV7kIW5D72pQoBr/SPlVd6++BP+0paKV97mln/x6qfXeZtC9m3T1VA2iVBsG2em2ocz7rneDPB9IsEZGvYGhWX6cKaJVOTfQTOy94RL6CoZ+HtElGq7TVHIB7XvCIfAXDAK7EENAqo2CqxjEveES+0j6/1+fFNWAhv2YGU8XFBA5RF0Npb35e8Ih8BUO75fvUQKv0aaGj1HnBI/IVDB1dpEk0WqWp4gjM84JH5CsYRvAlwoBWGQVTNY55wSPy3WCg/RTRx3e1xdsBqpW2GIsaQKsUmX5+I9kZ8XOBLKEA/snSPm1P0VZrP1Gr1TViK//FSgr+dLYW+ii8CJ7332kCpyZ25jHo3bB5KRp4z9aCy0PkRzND72BwVK9OoVU66iLviD9tcAe8hgNv25Rdl1kM2cKf4jquj8jbg0H3bEKmZbyxlCJbd2tinlpYcFHmWlh+xftP9QwU2zEa5Tced2tyDrSKd4VcJNFDbgQ1fZPCJTXD0l/tnufipumvxrKt7lD2qDz4UIPD4J3ed+IFmUGWo+bj88vexrLX4Gn3EPlRMKSPDIyY32AR0pEwoAMtveI+bXOWhMdqYRURy+kCnDUQJ3ye1v1BBaFVHKI4krwyRM8ytWgQYzizPchxLT0c1Q4X43q0lbusWLOOZ5ZE4ksXefDGnQClS/xolAx92qe5LPbKYtoUt1MCFTMHgaLxdoRsYZjYJyLy/oR9NzoQdk1TwZ56UUtQCROs89Wx4i6dB29VsFEzut3dENshdMNyWgEiP5oZzEeldeyV0PslAbOMSTJX2KndvLiqEYJNnKaE4QShVRwc9t1poSxF+0i9Li6XSSuvM5LJRwR7Q1hzj86DtxqJwOTS2JwY8LTPDGiZ8PTdEBQqmyxQSYwMj0oypQPPB5/FZ5IDEYt9//RBq2IgcR3OTOX9yRQV64GKObePe1xW79YWmSTvneq1Cs2Dt9rYi7gjyKLruWHTPnFpJ+l5uuAL53DyWMNcmgVKvbUnsrA81aduPQj0l2YhmpqcA2YMUZXxmOaekcj7E/Y9oUPWM+nClfdGeeRfEWdsi+hWmFv2qtepOg/e6mKjEgxbvwKnsYcaE9CPQOS7y6R+EJbkjQbQKpuboxfMCx6Rr2AYxc/QKqNgqsYxL3hEvoKh2uCdGdEqnZs6X/y84BH5CobzPeM+iWiV+yRcWGte8Ih8BcOFLhQ1jVaJbsxwMS94RL7SPr/X58U1YKPNmhlMFRcTOERdDKW9+XnBI/IVDO2W71MDrdKnhY5S5wWPyFcwdHSRJtFolaaKIzDPCx6Rr2AYwZcIA1plFEzVOOYFj8gPggH3VWjWQrWGFmOLBtAqLfUaeZOdEY21S+wF8M+U9kkvtX2X7Yy84yvZwlrSzL3lZicj7pU0Y72CP53dlT66LYKXHZihE7JrM9456/3Tu2HzkiY5OEMXCpHvzAwbtdHuRk1W6gFs02CPRoaViVbpCLKPknfAazjQ3zCaZjFkCzsqIohG5OVg0E44HivBxVPYB3+0NZK6Kidi8jkkItQq8TbFF88FRatEOl9pn66O8ylU+24wpMsimRo4JqJ0hU3JdtM8skhiJ/ZLRgUbGwIhwae5E5LkYLt7NQcSxUxNo1W8I6SDNEvT1hOiIGeWBYZs4Q55m6h3rrfSPiN9Rd9b7AZDsioKzmkJVirVnFgLMqk5yGM07aPXbFjchS8MxoY2tvjEu9buzEQxGLZdDn0HFexrEtUCldxMpepYcZfOg7cq2KhZ0+5uiAHTPpMexIerYgc2jK5l6znyBFoGqpULGlSZ96eM3kynNiodabJkrENDYMVdOg/eqmAvDL7dzRC9H0+9SURenhn4FEn7NumLp1dNQtMEPX9DRlICmYR2IqixhGUS8Kxc0NLvDOhGQBO50j7dpe+nqoMhzt/03xkOH6C3uaBsPX0zUpCUZhu+di4oWsVtCwGQzrf63QwPtaralfbpuquiUO27M0OVtDomNGpdjVfjQqtM1/d5wSPyFQyjOB5aZRRM1TjmBY/IHxUM1Wp9WUa0ynRKmBc8Il/BMIrjoVVGwVSNY17wiHwFQ7XBOzOiVTo3db74ecEj8pX2+b0+L64BGxvWzGCquJjAIepiKO3Nzwseka9gaLd8nxpolT4tdJQ6L3hEvoKho4s0iUarNFUcgXle8Ih8BcMIvkQY0CqjYKrGMS94RL4bDMnPxslltaZKjLirw/d6lLibymmDrX8ok8L2fjbJeSAzWqWt2bPt0tY6cxfAP1PaZ6Ll5PIOnWGVrjmlCdTkEmEMQxf8qQLfAL0rgo9SLjQRIw9Y78q21iR9oEIN97Eg8qtmho0+zt20m4hPLu9TW+daaJW2pgbo3Q54DQf6G6bnLOBsYZsi7uFG5HcFg2835Zxo7IbSuk55e5cFEFShAtWQw5cSL7fgYILEJode4hEd3AjzcGopnyeK6yJF9StKNOXGHZjZykE9kkKreLv5jls3OAkuy2MslCgnOfh6/qdLP43Kgw/iyah0tI0l0Js5ovbZ9vOc9ulH98g7M4LrYt8Cra685RAGrBI0IlX0Bi2ieKY0/jT7UTktWYR1zkdc+g5yfm7YxIZVCUEJCUaReR56kfcn7lR4Q0nIdGWdhiFG0noyqaEOHRQYlOP3TqPy4E18cAO9pkv8aJTMdNqnqdUG3VIJO9mNBnM+1jft/NsHpQqpCkRFqi+Jic/3t4+PDxpLiPpKt/KHNF9UKMtMgKnyvTrNA2oITDT18LA6jyby/gQhH3qBJaa6bcd3etqhZ3nw1lCCObk0NiUGTPuUuRW+5pE+YE9KJdKrEOhyCHrs+u6eqgCdS9j7PzgCPCIidmt0G05bnwhIJEOynB75bMGw21NV+Yl/zw0GzTA+EWBRFCK/45lBxnB4aUXmwE/7ZgA8Vx8ewrec8G0S5JSGZFPxalr3ykpzG4EUH5BIuj/Mh+oUcIqCDx0VIfGR40W1db6BVvGmDjquy6R0FNj0FOW49NOoPHgTn7SeXDIbmHPY0z5Nyzh2+kNnmDeoJ/TxAz9TFvtNQZ+oSZ495EGhrPfDPGLTBarPaKsv1a0coYo99JajkvRI4ZTVlpWYCR9L5P1JkRMWo63j8hxl5cCT9hR5OvQrD94aSlpXd7FlLnuZ98oeD01APwKR784M/SCMJ5nWqclS7rEg0SqPbfmE1uYFj8hfPRhscrpFs9MJ/tEqAq3SWvdy/nnBI/JXD4bL3cgAoFWscBZiXvCIfAXDKP6GVhkFUzWOecEj8hUM1QbvzIhW6dzU+eLnBY/IV9rn9/q8uAZsbFgzg6niYgKHqIuhtDc/L3hEvoKh3fJ9aqBV+rTQUeq84BH5CoaOLtIkGq3SVHEE5nnBI/IVDCP4EmFAq4yCqRrHvOAR+W4w0M/msB8j+VH9UFOt/LThILxNmna8hpMVD5txBv9B//Rf0Nr74rDqKLRKXY2BuArgnyztkzYc6cbVVodo5JfQ08NFbatftclh5x9vwDPc1RJ2GBv7siOpdCvvT9auEaX6Ul5iK5XvS6u+mwcftn7ZLhe1aR6M3k1rVYO4ixGRH80Mbx8f75qilO9DGUIbfxv3ptVN9XP3Gm3EbwD8tACt4rLOavcsOY4sovLgmYXGOAoHWGZkwWQLo0a6XCDy42D4MpRC2KXtkaQSSSmkU/V4pePpiOGITw0oXwn5VtNQ16cg7DVuHorTFz9sq6xk/yT77MQIagrYIs9Rwph1UabgbJVmqywteeu/pxWtogog9Lwb+CNYYQPb+yc9/ODMjZQN5Kjoc//mwFsL1PpTpH3yWuNTJgdSsVpFemol4sjca1pUQXmUIOq7kCMeSkeUKqbALQEyOX1RR35xh0x1YdAbd+SR8mAW8MMcvoV2SknenxT+VqWUBRUy/mQdYkHONrJt0MZ26rIx6XIevDGJjaJL274d0nvp5iRpn5x8ae5oak1KtpbbcqISeCIJuT5W11QmBI3N2URNUnCcWWprU66pBpCY8Ky5U/JIE5Bnt2+ZXgAAHI9JREFUXOb9ydSSqNqmZZvyMPatlrFhyRloExl58MaUtJ5cGpsSo6d9En55FRf2RGgrSQi7RJNsFzMhYJBbtUI5dG+e45/MSz6WyBnRFnlcXZyDM+f4wefjSzJKObM6moikZQ0eazvD4/fOp/L+ZFoxkNZLu8U9lRj3CSRhM+bzgZPEPHhrK2k9uTQ2J8x4XtSJQuQVzwwBBa8zSMUENCRPJlOwdVIIdq/ACU9RWjlddBG7er5m/kFbyYmgEich+ZQtD98mnZNHSp5182WeuVcfs6BVvIWtSg2G3aIg1y/9TPMJmzO77BOpPHhrIGk9uWQ2cBY1vlXvSSDy+mBg12AVE25+rKMnXxytrZNCsHeHNY7bRp+I/QFav7rF3xl0yatPsLfwCGtNAPNWdpypIz7NGrURB+T4DGC/U8ADtHbVD5rtZBq0CjRB7xHhA4jTscNh80opKME070rhinaSKog+kSyA1xZQ27JMiFbL4YlTPYPSh9t/ZNK2Gv8i8t1gaJS72H+iAbRKo5zwBUdjrTPZfwD+TBh3yELkKxjuUGCXKmiVhgZs9dpQ53zWO8GfD6RZIiJfwdCsvk4V0Cqdmugndl7wiHwFQz8PaZOMVmmrOQD3vOAR+QqGAVyJIaBVRsFUjWNe8Ih8pX1+r8+La8BCfs0MpoqLCRyiLobS3vy84BH5CoZ2y/epgVbp00JHqfOCR+QrGDq6SJNotEpTxRGY5wWPyFcwjOBLhAGtMgqmahzzgkfkFcFAP+vYj/ugnuQ3dtuNByzN5FZmq4ivj4tfINwKWPnRKlrW4e/PNZwDVQD/TGmf3G36rf+dDw9JtLBV67YkqXJ4mUhILg+q656pZGPsQa1Rbhf86Wx4bSqtbb0IHvaF+RaqPAZIGYlq1WK4jw+RH84MX3CYVNzctkvbkrjG8dXPJfCm2s/jlobjQKt0BHeChjPodsCrY9PfaDdhIqYPsKSR7SUiPwoGiQXcIan7SD0TMimhXkkmJx1gFV53oftASSWy45X3qiaX2A7hFgWxQBcknr6RrP20jalaMMlftIpDzvQ9N4JGGz5Fb2YCu+e5uKkyjYX2i8bVHcoelQcfanAYTH/aJ6tF8sfELblAt/gHo1BXo9xI7jtn5Gglc2sbtqVSeilm8B3dHgy2qddPvNTHGGiElf90wZD2PcrkSJeEoo3IBJB9IqmFG4Hu5ml1v7NP7QaDeo2JIHj40RTFodM+yRkBNKYumH+jL5oqxVHj2vwUzkV2CqjI98tyMKjnQ3gAMJ1+WdtPFwxJ303zQRfcaZon1VRoJrSO+CKWGF2qbu57RBwHg/XC8ReFjpr2qUEb/PRTMkW4G4nrWydBxen5ttL9MACoaLy0uoGzkNFCMaXVU5W+QDCEMDBblJNjE32ajVC9MtNINs3Wpql689fnBoPldecbO7UUke89MySa5Es5wFmP+qRwF8eEEq/Gtyzvk5htvStMyWX1zCCNRpJNQ68QDBwNnntHXVZl8CmmeRNIzFgImbZ3qptWDwh0qQyr4+GbyaWWaSdGTPvcQJYCXunwyZ5qjaQE620SKf25l62XXLKTw/rnjZuIBKotN5LVBi8RDKwoX3m4GuX9TpHG7OnYHqAlcCwY4F1W2+qq1v2/zcEARtaXNppFV9rnvrJf4O6BP42tgXnBI/K9ZdLY+n82dGiV6fo2L3hEvoJhFMdDq4yCqRrHvOAR+QqGaoN3ZkSrdG7qfPHzgkfkKxjO94z7JKJV7pNwYa15wSPylfb5vT4vrgEbRNbMYKq4mMAh6mIo7c3PCx6Rr2Bot3yfGmiVPi10lDoveES+gqGjizSJRqs0VRyBeV7wiHwFwwi+RBjQKqNgqsYxL3hEXhEM86R9+sYD3XBQbc3rGdEqHdHgTo3zmimAX2mfP1FxYqrkcl8y7jcrb2rdl3Hh3YI/nY2oSaXVjRfByzbOIEf3ZeYx6F3ZWlvclVyNqY4RkR/ODNOlfZIO8tqu085VXGiVjhj6qGYHvIYD/Q1bC7MYsoUdFRFEI/KjYJgv7fOxA8t51kKruFRykfc4SzM3gtoCcZu36ZtBbddqIpDSBywziNJEuFE+prWUNOIAhcqDD1wcBivtU/db21it+6vDcJFcGpvqWkYLUaZknxynfSa7m1XU8H/z/pTpe5QUkq4mQGOaeatpApI/RgkpejBOUCaoJq0Ot3bJPHirEsyt13SJHw25lfbpJ3Zu1zdmG9u6byWoTJ1+gwBjVuVP8TfvT9Jf6YDRgbBrGkRW2ud9Vka17y6TwhoJTDF22icPoxN+kcQKRqu4XcHh4UlISm3elRQ2SjYMPFbLCJOIJYEuV7daR0QevNXCRg2k3c0QumTI3Dq5CJHvBUOuCwOnfSZz8clK6y4OreKNoQ2AJlITDSVjWMYAep8gvhCA14yaEipObyGkkUPLLmVJqzuQfSoP3uoAcipLLpmNrRcGsgFfCLCBLAW64Ht7V2skJVjPnt78vUn6IiXuuOcrqjGj1WRL2icfbuaLp+nWSnl/ipQZ+3G0OFStbvM2zQTyqJAT6FbYVjeH3iXy4K0KNirB4IYiio3lQO2hxgT0IxD53szQD8GSvNUAWmV7d/CSecEj8hUMo7gZWmUUTNU45gWPyFcwVBu8MyNapXNT54ufFzwiX8FwvmfcJxGtcp+EC2vNCx6Rr2C40IWiptEq0Y0ZLuYFj8hX2uf3+ry4Bmy0WTODqeJiAoeoi6G0Nz8veES+gqHd8n1qoFX6tNBR6rzgEfkKho4u0iQardJUcQTmecEj8hUMI/gSYUCrjIKpGse84BH5bjDoPgv+7dwOOAobSKoVtRirNIBWqapwH1OyM+I+IZtaBfDPlPaJihMaSzYaWQU/0UDBn34iMle3jwWL4Hn/nZ43qWlJeQx6N2xe0iSHXCdOLEPkRzOD73fjXbX5bpyI7XVFoVU6aqGPBXfAazjQ3+BNWQzZwo6KCKIReW0w0JbCsDd4kzTomx45mqlXezxrmZU1MVrFGTLKzI2gO3mbvhl0pX26Xo1CtR8Fg221lT3YHN5yticlzlKkS+TrMVbvn1yQJBZC1ANpgBZRfIDOKHylfZ7pLy3B4MskRoCuLHRliQWVbV8/s0fPIAut4v3ZqteTY+DeSvt0lbVRqPajmeG0YHjQ81CbJkbiRqs4LnB4SBCTUsv1kRS2lfbpaqunUO0/DobsMslCKNiSl1KWy2Z36yG/ACdaxbubDwaOC000XGmfrq52CtX+82CQVzPITxHs71n72WOc5n+2w37yGmgV72pWmeHLRx9U/CuMbd6maX6lfbpanUK17waDV1lUdw2gVbo3dnYD84JH5CsYzvaLe+WhVe6VcVm9ecEj8hUMlzlQ0jBaJbk1/uW84BH5CoZRPA2tMgqmahzzgkfkKxiqDd6ZEa3Suanzxc8LHpGvtM/v9XlxDdjYsGYGU8XFBA5RF0Npb35e8Ih8BUO75fvUQKv0aaGj1HnBI/IVDB1dpEk0WqWp4gjM84JH5CsYRvAlwoBWGQVTNY55wSPy3WCgLUX20V3Z1QoKjJEQTe+oERJV5KTTmlrGgxsZrHBgAq2Shzlwjwrgnzbtk88/yibm7BspuZtcJmbHuyU6qVK6xOolnpHKC/4EEEs9KpVD1d5kETxv0Xy+tM/8GROk5X1j7N9NrITMSPOBGqrTpE7hMqpe4BmpuOhPBrLUo1K5VexP7IDXcKC/YWthFnC28LHIj5ZJvjPyl2wVJo+Mkgx1NSOcvn8yHAaThor0mf5/l/MkP8Ja7O39gyYf+qgozqQjfUDSqc5NGzmfme2Zm+zTCDlL1ib97JqAQfH3t4e0UPQnVemb7Eht1f9D8BfBq47paBtLacn7PUfNx+cX52U8BDU1gsibgmHTCffITbKC8WqwsJu/f1qV2xsfR6mnd7Eqwl3RBFa0pFMLzlSOqFISXCTZpeJYS5twpHUMXMP/KLOgVaDNoBcZEXRo1fumhKAWAA2kcnf8WwCvLQb14qU9i95udmLp0Kd9pgp1xy2eLYl9FNMlQuTSC0lPfuCnl+dWX9u7VmKEKhwd2+kkPZJuxK1v8ZvAzkTen7BfRie9gHL4wsNm2M64WXwevLVsCKUkuTQ2JQY8023jjqEPu0mGFuXaMXdEVESijjAk6LyBnCYneTgRCSbHCOPHkkBvkIeGPvnUcW59i98Ediby/lTTC+NJBuDOgFF8HrxxGEIpSS6NzQkddr2kF4XIq5dJX3LOZ3hy0FXRztmSmqGb9FwuvZAdNLxb442eGpKFUKQE0lFo2l9do1je4B6twbaioLocaxm9aELehGNCoHqEodcFWgXaEAcPCuK5dtMLVyYzmz5MkyCuE1kAr605Qi5JLrVMVU+PiOmCUCWd/heRHwWDLxv8dwZ9orvpI508+MpLk/QR1dI7k57LJRS6NLIiisq4Iy9raAFAT9/RGa/ylC1w7QVB4hc+xXlb+jDqJcGHNvhPV39BIFolYvE+h6xnxxx6gUq7Bn8RvPQEzE0F2iNzLg5b/wJknfYZOcALXhz409gamRc8It+dGcY2wJOhQ6tM17V5wSPyFQyjOB5aZRRM1TjmBY/IVzBUG7wzI1qlc1Pni58XPCJfwXC+Z9wnEa1yn4QLa80LHpGvtM/v9XlxDdggsmYGU8XFBA5RF0Npb35e8Ih8BUO75fvUQKv0aaGj1HnBI/IVDB1dpEk0WqWp4gjM84JH5CsYRvAlwoBWGQVTNY55wSPyg2CwX/5pY+nnY3easyU+3+03eyVsW3y1qaZgRKt0BJzsjDippQL4J0r7pC0kknSQ302fU2QfXXteUa7N5ygr+NPZnetjoCJ48iEbvXT/XR6D3g2bl6zW2RqI5SHynZkhDzkWtbm6q9JGyrbgcXt6t20/pgSt0rHFPgbaAa/hIEOrZF9ltmCmW/07qiASjcjLwZDVGhYqTb2kTyZv813vULIo8UuqJ2+wpnu69LLVmGe0haRQzXv2YFDlUpd4NzOLxYa4LWtad65GKhjwAq3i8FhpnG7BGpakW9vfbLrQvaqsUlT1+z3ZsG6p2uE5Dz50g8Ng7rRP9XU3THBo9a7AoG4qhvFa4donPdYJVUaCNu96nUAKQ/SIoq24uBALlCmqG+GZ/BRfCChBdtSR8S7y/sSqiI9XjZIwfA0iPZL+ugJRO7wOoe3eOgaF81pBF2l1uLVL5sFbFTVMKKBL/GjIjZv2mXUjLAw094xOfuZUbmMwwkLIShIiVU2clxP0B8FgDxBSZtKwIVS1jaNmmyGJvD9te2fdjAeRYiJukuJTEJivXq2oPHirjo06frudEgMm9yQ9YMRYFtGQOSnaj+7yGtFKEiIZNvLKioJB8vg/3yUnBBagInkrMNX2iNd5fzJdRWqRUuu4DPmwHLdaRliPsSTQ5epW64jIg7da2GjUEeNIiNjcyc1TLxF5+ZlBlzNhtRKilVDKCiS8viWatHFQF5fUfEU5LD2Jk6Aj5gxC47Dxbifa4TWySTNI4auLjUCXMy6FVnGU6EZAE7lO+3Q13U+h2veCgWM4PIjawy45Gn008ZJiRh9WyaExBTG64bO6GdUJfQD0B+iw5tdeJsHgIchi3xABVbEUQss+VUHD/kWrOEhTUTKgkhlkMODumqbXaZ+uuyoK1X4QDFXyLmD6fLdXUqG7XIDktCbRKqcJfZSgecEj8gmDgX+UxlHRX6jxKNv3aAet0kN+V5nzgkfkEwZDV6teJxytch2KO1ueFzwiX8Fwp/lPr4ZWOV14b4HzgkfkKxh6+0mtfLRKbZ1h+OYFj8hX2uf3+ry4BmxIWTODqeJiAoeoi6G0Nz8veES+gqHd8n1qoFX6tNBR6rzgEfkKho4u0iQardJUcQTmecEj8hUMI/gSYUCrjIKpGse84BH5QTDYVour0j5ptwXsO/A9HdV2moURrdIRc58f7AvgXzzt83Qzyl4o+8G5jy1PR32HwII/3SFpt0ofBRbBk/k0XcE2lOUxPF/a564h7rnJivuwrUh5Pd4jeLQ6RX86F2gfBe6A13CAKT6LIVt4bt9z0hB5eZlUAmcrJ9kqR2y5ZE4p1x2uIXtTN6didqJtuJRd3jaOhH2qAsPAGJETxceHHuWU5jQyQhlaxfGwGlFFnNqkE6U6Wnz+qqT6ad6sbeCVBLeMQBKpqWdsVOaRs1g17dYRZak8+MDKYfCEaZ+8hJcsxGAIC3gkNidCmYu7fgJPnIIYhGpKJ+xbDvtULRjMJlKCrcszRuCECkBa7XGIvD9xv1baZz8zodobZwb0J6GtJCHsEhyaUx9sDPr4yvGECcHyF5yHM9vskiaonChgCOdcTZICilZx21t3YjXyRl24d6gNkwiV/NuIUnWrdUTkwVstbBQ7YgwxMW3ap/UzIezSO7+bXmj8HAYhpdPrkraIRY5yk0cxycGTilY9IXyqifU93lXen6w7kSqkdKV9nmBFVHt5ZsinfYpzVSRzMqPlcvIyidxcS5JjQsXT5SYvYHVV7KMXddxSGcqizHsCEeMwsSeo8WQRaBUXbd2JgoG1stI+XU33U6j2vWBg/eOjVUg5j3IszVoJQZdpNqY/e2eyE22cs2/guIcmVq/0iUBRJKKM3wl9PBw7BRSt4ra1XsTBQNEAP7/sKla77w/QmlKrwveqO5Q9Kg/eamhDoYDARx8eo/xJ395lYwL6EYj8IBjuB5H0v0EQpHQ21JqeFa0yXWfmBY/IBwsGWwdN5w4/BoxW+bGwRwuYFzwi7xYMjzbH9O2hVabrzLzgEfkKhlEcD60yCqZqHPOCR+QrGKoN3pkRrdK5qfPFzwseka+0z+/1eXEN2NiwZgZTxcUEDlEXQ2lvfl7wiHwFQ7vl+9RAq/RpoaPUecEj8hUMHV2kSTRapaniCMzzgkfkKxhG8CXCgFYZBVM1jnnBI/LdYNj8bP7+KduDot/Sad/R9vfmbUm1ZonRqiPhzerG7yaZYzOjVcZGmkFXAP9EaZ/ukZnu2x5rvmcua5zbErtVQ1j1LUGhwocx6RabGnnj8+T9ybqfdKBUnrA96jIPXgY1z2XRxM48eL2b1urbB0R+NDMUt3leGgw4dfTV1eOko1WOW83703G9Thw74HnbsBy0p1sLs+CzhZ3gglhE/sBg8L2RmiFu+ylpmyIDVJ432YuKTp8qK45G6N6kJFrFuyC9pv/fIflT16/FocoFPIbKgw9tE9q3udM+w2zl6/Sbz3eQlikdTj0VFv2gkShfFK0UqssgwskSNmeaZCNc4DC+gH25l877k/Ra3EmSmeSIzlQb97Z6Ur08eBMuho0uc3417mmfOCpbN5yIB+atbZISvDSa5gHd2S4p0ebewBPOIrGSgCEG4MBmpfL+JL3Gvm9LBuhxHrwBQ/wHfkV1Bkz73I7u1rn2mQHVEei6LFCraISgSC4R2px03p+km9jZbckA/c2DN2CIvyIY7HBjE9CPQOQPe2aAJVB4rxQN7VEWKKdv+VJKZgnToxE8dOC7qfpp6pGS0Sre7tb1tyXOfRmVB29w0HaFYGD/CN8Pjjoz4NLupt8GUCfjVQp1BT7hFUhpiWZqap/tkRAfl7kSPW9tg8HlvczvDFvXD44Fp6qaz11HNAeDm5IoNvUTp31eZ5hJWz7wp7F7NS94RL67TBrbAE+GDq0yXdfmBY/IVzCM4nholVEwVeOYFzwiX8FQbfDOjGiVzk2dL35e8Ih8BcP5nnGfRLTKfRIurDUveES+0j6/1+fFNWCDyJoZTBUXEzhEXQylvfl5wSPyFQztlu9TA63Sp4WOUucFj8hXMHR0kSbRaJWmiiMwzwseka9gGMGXCANaZRRM1TjmBY/Id4Mh2VJSrZrAaNWjzRpPuJOiVTFZfrRKlmE38TBf42GlBfCvkvZZoWcMBt+bXc7YNP4K2c/HUvAn6GhJP6Vy3BK3wwMt3E0Wwcv+zCBXk1TyYPSuwI6SZ+7GdVwRkT9qZrBgQAslUPM6Spie9hKtku9kST+l8h1V5xu4v3QHvIYD/Q1ekAWcLbwfUW1NRN4YDJqWaXma6UGRbADZnZpJ3QwIdcdrlPapaylRGDT0XHn/RSOhVSImVYXrs1ZvoFJxNfo/dzQrWO1215EuRfDUEw6DZ0j7xBE9yTfQTOZguRDZ1POQk2DzXhr06XVYDXuxUyMvlCOX/fFFwZ9y+rS2RE+uLadSlRpn2C6tw3SosaloTdQRBfBaWTqhV+xHuIdbPWmmtE/QmPtoU+pmUIfODKW6pDv8RBFpKn0yIu9PTTrf6u1TDwcTOSYtIbYV+cSyeg3nwVt9a05KkktjU2LU5B70Q+xDoBtTNyNdlOsmA4nq6Ln/5v2pSedbvVl1IZJLe6jYVmzUdR68CbF2pSS5NDYndLj0kl4UIm96ZhCdwVGfnO/WkLpJ2qdvk3hepA5HdV1H3JDeCylvvbQxily0CmCKdU5jU4veTKVCJJcWDLxwMWPcofACeO2HtSsFySUXgsmHfSEArlY4mfPO1E2X478z6JPhTR8NIZXRcgDvep5TI8z0t+hP5Cb0sVTYFr2pSg+Cgd9Ioc3c8Y1FEXzW+7VH5hS8/jCTU1fltTgPsB8i350ZHoBlNaEaQKto2TR/5wWPyFcwjOJwaJVRMFXjmBc8Il/BUG3wzoxolc5NnS9+XvCIfAXD+Z5xn0S0yn0SLqw1L3hEvoLhQheKmkarRDdmuJgXPCJfaZ/f6/PiGrDRZs0MpoqLCRyiLobS3vy84BH5CoZ2y/epgVbp00JHqfOCR+QrGDq6SJNotEpTxRGY5wWPyFcwjOBLhAGtMgqmahzzgkfk+8GQ7JdKLnOqym07yfHFZdHv8w/8LT5Gce0VWiWP5D7d5mWdXFoA/0xpn8l759PLnEJLBiuViwy8u3OSJ7LlGp+6rOBP0KdS90vlvg9v/9wZaOJesgie99/JeX18jIHsQtKN5VFzlv4i6UCa5BDxnH+ByB81M+wYDG0mnS0xl8rPV9EFEtEq+eZL3S+VbxWbl3tC6Q54DQf6GxICsoCzhSdAOxCByNuDgUC/695VDV/dSKn7T2kU0AQdWvboxkveEKnMnmGYKkLXY01CDno9+m20SoRV1dWuW1C7aFhsx5Z5+/jks2J0UaqtuFEiEAcXRfBUj8Ng+rTPdF3EPkpd863vnJrARbzpNpOj5GbYJChYDBgRdJ5eh8Q6L3bKc+4O7DX67YI//Uy3pich2C3JDEjQcG18dy6oCuBV59IJveLWbfv2zU+RHTrtsxQMYbZTxYEmXas00tjc8PFlPKQX/GQXkTozNAkxXc9J5P3J9IZrnnq1rLTPI2dAte8vk9AUZddHrkA3pnSiBLd6o5Cjbg9+H63iUFEzd+jWqguRXJqqk5Hbm6+l8uCttrUrJcmlsTmho6GX9KIQ+X4wyNQQksNpCRROLiwvk8JTErHqquidnpu8/6x4vZeeYkjmedG8ULQKWF78VFNtaR5t0a2pXYjk0oKBFy5msJX2CfqPSJ6S3/gj2iKFvukDtDi1rEFp8XNXaqJX5/WTPtJRsbYTjgPVJEaOGb0XjBihnvCiEAyunLt0qxo7CIaV9kkeczAzZJzKRpfMvVV0vwaKwXC/yMfVnBc8Il/B8DiP2W8JrbLPOeDdecEj8vZgGNAUTwEJrTJdh+YFj8hXMIzieGiVUTBV45gXPCJfwVBt8M6MaJXOTZ0vfl7wiHylfX6vzytrAAcGmhnWZ2lgaSB8tboUsTSwNLCCYfnA0oBrYC2TXBeLenENrGB4cQdY3XcN/H/g6HSSg8XPqwAAAABJRU5ErkJggg==)"
      ],
      "metadata": {
        "id": "RcDDE5b48SCf"
      }
    },
    {
      "cell_type": "markdown",
      "source": [
        "- DimProduct"
      ],
      "metadata": {
        "id": "brXphsLB7vox"
      }
    },
    {
      "cell_type": "markdown",
      "source": [
        "![image.png](data:image/png;base64,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)"
      ],
      "metadata": {
        "id": "8nJ6NEx28ZYH"
      }
    },
    {
      "cell_type": "markdown",
      "source": [
        "\n",
        "**Explicação dos Campos**\n",
        "\n",
        "1. **`COLUMN_NAME`**: Nome da coluna na tabela.\n",
        "2. **`DATA_TYPE`**: Tipo de dado da coluna (ex.: `int`, `varchar`, etc.).\n",
        "3. **`IS_NULLABLE`**: Indica se a coluna permite valores nulos (`YES` ou `NO`).\n",
        "4. **`NullCount`**: Conta a quantidade de valores nulos em cada coluna da tabela especificada.\n",
        "\n",
        "\n"
      ],
      "metadata": {
        "id": "6JphJfl19zUI"
      }
    },
    {
      "cell_type": "markdown",
      "source": [
        "Mesmo que uma coluna esteja configurada como **`IS_NULLABLE = YES`**, permitindo valores nulos, isso não significa que ela necessariamente tenha valores nulos armazenados. A configuração indica apenas que o banco de dados aceita entradas nulas para aquela coluna, mas o conteúdo real da tabela depende dos dados inseridos. Por isso, é importante verificar diretamente o número de valores nulos para ter uma visão clara da integridade dos dados."
      ],
      "metadata": {
        "id": "1Z1gmlGmAFxA"
      }
    },
    {
      "cell_type": "markdown",
      "source": [
        "#### **2\\.3 Dados Faltantes**"
      ],
      "metadata": {
        "id": "V2mGhAAYBfAV"
      }
    },
    {
      "cell_type": "markdown",
      "source": [
        "Para garantir a qualidade dos dados em nossas análises, vamos iniciar a verificação de valores nulos nas colunas do tipo `varchar` (texto). Concentraremos nossos esforços nas colunas que serão utilizadas como critério de filtragem, agrupamento ou cálculo nas próximas etapas, a fim de evitar resultados imprecisos."
      ],
      "metadata": {
        "id": "Mpgi7ie_BomI"
      }
    },
    {
      "cell_type": "markdown",
      "source": [
        "- FactOnlineSales"
      ],
      "metadata": {
        "id": "fpTKztpoBmRR"
      }
    },
    {
      "cell_type": "markdown",
      "source": [
        ">A tabela `FactOnlineSales`  possui restrições de integridade em algumas colunas, garantindo a presença de dados nesses campos.\n"
      ],
      "metadata": {
        "id": "5GYrhN59cG_k"
      }
    },
    {
      "cell_type": "markdown",
      "source": [
        "- DimCustomer"
      ],
      "metadata": {
        "id": "aBcJCCn9BmRS"
      }
    },
    {
      "cell_type": "markdown",
      "source": [
        "```sql\n",
        "SELECT COUNT(*) FROM DimCustomer WHERE FirstName IS NULL\n"
      ],
      "metadata": {
        "id": "vBVYQdioPxMA"
      }
    },
    {
      "cell_type": "markdown",
      "source": [
        ">Resultado: 385\n",
        ">\n",
        ">A coluna de `FirstName` pode-se encontrar o primeiro nome do cliente, mas encontramos 385 valores nulos. Não só nela, mas se fizer uma consulta mais aprofunda, pode ser enccontrado os mesmo resultados para as colunas de `LastName`, `BirthDate`, `Gender` e `EmailAddress`, no qual são informações essenciais para as nossas consultas.\n",
        "\n",
        "\n"
      ],
      "metadata": {
        "id": "vUW9GFnQP6v5"
      }
    },
    {
      "cell_type": "markdown",
      "source": [
        "```sql\n",
        "SELECT * FROM DimCustomer WHERE FirstName IS NULL\n"
      ],
      "metadata": {
        "id": "Qkx6pelsRgN6"
      }
    },
    {
      "cell_type": "markdown",
      "source": [
        ">Ao analisar os valores nulos nas colunas `LastName`, `BirthDate`, `Gender` e `EmailAddress`, observamos que a maioria está concentrada em registros onde o `CustomerType` é 'Company'. Essa situação é esperada, pois a Contoso atende tanto empresas quanto pessoas físicas. Essa informação é fundamental para nossas próximas análises."
      ],
      "metadata": {
        "id": "lo0nm7PBRm_Z"
      }
    },
    {
      "cell_type": "markdown",
      "source": [
        "```sql\n",
        "SELECT * FROM DimCustomer WHERE CustomerType = 'Person'\n"
      ],
      "metadata": {
        "id": "0eNaO05-UpUr"
      }
    },
    {
      "cell_type": "markdown",
      "source": [
        "\n",
        ">Ao filtrar os dados para clientes do tipo 'Person', constatamos que a coluna `CompanyName` não possui valor para esses registros."
      ],
      "metadata": {
        "id": "S4i8UQq5UsmE"
      }
    },
    {
      "cell_type": "markdown",
      "source": [
        "![image.png](data:image/png;base64,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)"
      ],
      "metadata": {
        "id": "vpKAj6sLVGQ3"
      }
    },
    {
      "cell_type": "markdown",
      "source": [
        ">A Contoso possui uma base de clientes diversificada, incluindo tanto pessoas físicas quanto empresas. Isso nos permite realizar análises abrangentes sobre os diferentes perfis de consumidores.\n",
        "\n",
        "---"
      ],
      "metadata": {
        "id": "QupQU-fGWGqi"
      }
    },
    {
      "cell_type": "markdown",
      "source": [
        "- DimProduct"
      ],
      "metadata": {
        "id": "_jAQ_PgOBmRS"
      }
    },
    {
      "cell_type": "markdown",
      "source": [
        "```sql\n",
        "SELECT COUNT(DISTINCT ProductName) FROM DimProduct\n"
      ],
      "metadata": {
        "id": "3ozuwOmiEoJr"
      }
    },
    {
      "cell_type": "markdown",
      "source": [
        ">Resultado: 2517\n",
        ">\n",
        ">A quantidade de produtos registrados corresponde ao número de nomes de produtos únicos encontrados na base de dados. É fundamental que não haja valores nulos no campo 'Nome do Produto', pois essa informação é essencial para identificar cada item de forma individual.\n",
        "\n",
        "---\n",
        "\n",
        "\n",
        "\n"
      ],
      "metadata": {
        "id": "Jo0coq4jEwFi"
      }
    },
    {
      "cell_type": "markdown",
      "source": [
        "```sql\n",
        "SELECT DISTINCT BrandName FROM DimProduct\n"
      ],
      "metadata": {
        "id": "eW3O3e1xIcpk"
      }
    },
    {
      "cell_type": "markdown",
      "source": [
        "![image.png](data:image/png;base64,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)\n",
        "\n",
        "\n",
        "\n"
      ],
      "metadata": {
        "id": "A4ql_BsDIq6K"
      }
    },
    {
      "cell_type": "markdown",
      "source": [
        ">Neste ponto, já é possível identificar as marcas presentes no catálogo de produtos comercializados pela Contoso, sem a presença de valores nulos.\n",
        "\n",
        "---"
      ],
      "metadata": {
        "id": "UrJa7rXhJCOT"
      }
    },
    {
      "cell_type": "markdown",
      "source": [
        "### 3\\. Análise de dados"
      ],
      "metadata": {
        "id": "QYY-tzSEIuYu"
      }
    },
    {
      "cell_type": "markdown",
      "source": [
        "\n",
        "Após a exploração inicial dos dados, passamos à etapa de análise para extrair insights acionáveis que auxiliem na tomada de decisão. Nesta etapa, focaremos em três pilares:\n",
        "- Comportamento dos clientes\n",
        "- Performance dos produtos\n",
        "- Tendências e padrões de vendas\n",
        "\n",
        "Essas análises serão realizadas com base nas tabelas de Clientes, Vendas Online e Produtos.\n"
      ],
      "metadata": {
        "id": "ijp7wyFo2hUz"
      }
    },
    {
      "cell_type": "markdown",
      "source": [
        "\n",
        "#### **3\\.1 Análise do Comportamento dos Clientes**\n",
        "\n",
        "**Pergunta:** Quais são os clientes mais valiosos e qual o ticket médio por compra?\n",
        "\n",
        "***Passo 1: Extração dos Dados***\n",
        "\n",
        "Utilizamos as tabelas de `DimCustomer` e `FactOnlineSales` para calcular:\n",
        "- Total gasto por cliente\n",
        "- Frequência de compras\n",
        "- Ticket médio\n",
        "\n",
        "***Passo 2: Visualização***\n",
        "\n",
        "[Insira o gráfico aqui, como um bar chart mostrando os clientes mais valiosos.]\n",
        "\n",
        "***Passo 3: Interpretação***\n",
        "\n",
        "Os dados mostram que os clientes do grupo X possuem maior frequência de compras, com um ticket médio de Y. Esse grupo pode ser prioritário em campanhas de marketing.\n"
      ],
      "metadata": {
        "id": "ZFmFp_o0CCwI"
      }
    },
    {
      "cell_type": "markdown",
      "source": [
        "- De primeiro momento vamos entender as vendas registradas de quais anos"
      ],
      "metadata": {
        "id": "fUo38Jhkx4_i"
      }
    },
    {
      "cell_type": "markdown",
      "source": [
        "```sql\n",
        "SELECT\n",
        "\tDISTINCT\n",
        "\tYEAR(DateKey) AS 'YEAR'\n",
        "FROM\n",
        "\tFactOnlineSales\n"
      ],
      "metadata": {
        "id": "2pmTQuCJyHrU"
      }
    },
    {
      "cell_type": "markdown",
      "source": [
        "![image.png](data:image/png;base64,iVBORw0KGgoAAAANSUhEUgAAADEAAABNCAIAAACAHhvxAAAEEUlEQVRoBe1aTWrrMBDWoZIsfJcSutFBAoEsfYpAad7qgc+QhSEH0LrQTcHkAn6MfkYjjWVJTUr8Skyo5E/SzKdPY1mZRozLu8T7n79L+4jlyPTx8WHIPDnNLsr/pJPqWtkqMh2475RqGxFcsnN9OilE44fEPRvf041IlWmdwCja6aTxp9qG+KVGO9lIKX1j2FN1MjWQGjH1NKdxdKygtM5CT8ScakGIzpOKe3bSz5CMm6rOcTKsGtl43WNPzqShBLNwSpHqOI530wkcOq2sc7ill11cS0l394rSjo3saHS6uUyW8zpRJ3p4OHtnMWRqSNGeqmuJ1m5UsrwHJ1QJvDgurrSeK8JpvAOnyLu9jdCxglQ9JxolsCPBuvhtCZWKOcX3yZUbszrNDP2xppxOP+Z4xvCT04w4pGnZOgkhhmFYwl+UTHx+XZfwEcKfeGHbWQKnYRh+k0795dyHa82RbwVDkU7H7ca8Tlb7i1lcjWxWQqy2p0nkvLdD3Hvo9VjMryCe3l7F9nAGi5fdWry8XT/7w2qNyGbXTyGUQX9A6iXxWqQTGjrvNyAVsER5NEuOEE7HreZNEDQ4WSnQyduyOllmGjd1jnhnXtQw+LzZGK/QCUJELxlnwBHkdN5vYLnTDHhTqU7g1cbQlTPgiPN0ellXRLcZVaQTKmQ98ejhCFlZx69UrQKd+sNKhHP1IXLZrWeeO9das3CfX9e8Tset22J0abao7P4E2vSn3d4+nlVSFeiUmiXftTmSGjuL53WqmuJdOt+g0+xcbyH31KlM2kCnhRx8g3jC091jK4FOj6WC3n8ZJ6VUlOPiCM69plKkUydtag6zJxppGiEwp8gR1ZphTZg9zrMr4ARpI5PJcVlEn7RxNVcGCTGhk4XKJYzzZGyPAk7ElnVNklu2yhHPsiYXpn1VcbI6EXc2T8gRIhikzTGtTyaYrFZwAkY6oDgDjoBDQOGqYzSOpZy0fZsf5Aw4golWL1hSl7ihiBMqZEfz6GHIBMvYdfK+gJN72rwN79DVXOlV8U8bH+8tTdbynOCfTeQyWxTfjRIIjKwNqDynyakAyHdtjiQHzzXcwGnO7E1tT05l8i1ep2ExFwrqs60IPaSy+LV7iCrc6Q068R2SI9xhAVLESb839FvC/ecw8Sbhp+FvvFpKzirwzq8/++I7GM6+dSeoIp1Qb/v6J15slSH+oKCPClWkqjjZU0fkr2nhNyz4lcbztpBq7a9KcGqZSgUnPNlxBhwZR/iViDmpyIofqgDdUk7g1UnBGXCESoGhRcGZehEnVMgaYtFDvy6RRtP9B86ZcNqPHhwvi6u5Mjj76qcVHrto+IxEuimv081n39qjb3E8TcyN79ocmRiWh/I65W3cu8eTU5miS9fpH+vNA21zZHzcAAAAAElFTkSuQmCC)"
      ],
      "metadata": {
        "id": "hXdotyFMyaaQ"
      }
    },
    {
      "cell_type": "markdown",
      "source": [
        "> Ao analisarmos os resultados desta consulta, conseguimos determinar os anos exatos que estão incluídos em nossa base de dados de vendas. Essa informação é essencial para calcular a frequência de compra dos clientes, ou seja, quantas vezes cada cliente realizou uma compra em um determinado período.\n",
        "\n",
        "---"
      ],
      "metadata": {
        "id": "0kPCHvtx0Gy0"
      }
    },
    {
      "cell_type": "markdown",
      "source": [
        "Para realizar o cálculo, utilizamos as tabelas `DimCustomer` e `FactOnlineSales`. No entanto, é necessário filtrar os dados por tipo de cliente (pessoa física ou jurídica). Essa filtragem é crucial, pois empresas tendem a realizar compras de maior valor, o que pode distorcer nossa análise, gerando **outliers** indesejados:\n",
        "\n",
        "- Total gasto por cliente\n",
        "- Frequência de compras\n",
        "- Ticket médio"
      ],
      "metadata": {
        "id": "GJrL5iUo26IP"
      }
    },
    {
      "cell_type": "markdown",
      "source": [
        "```sql\n",
        "\n",
        "SELECT\n",
        "\tf.CustomerKey,\n",
        "\tSUM(SalesAmount) AS 'RECEITA_TOTAL',\n",
        "\tCOUNT(OnlineSalesKey) AS 'FREQUÊNCIA_COMPRA',\n",
        "\tSUM(SalesAmount) / COUNT(OnlineSalesKey) AS 'TICKET_MEDIO'\n",
        "FROM\n",
        "\tFactOnlineSales AS f\n",
        "INNER JOIN DimCustomer AS c\n",
        "\tON f.CustomerKey = c.CustomerKey\n",
        "WHERE CustomerType = 'Person'\n",
        "GROUP BY f.CustomerKey\n",
        "ORDER BY RECEITA_TOTAL\n"
      ],
      "metadata": {
        "id": "kuOc_X4S6jAH"
      }
    },
    {
      "cell_type": "markdown",
      "source": [
        ">O próximo passo envolve a importação dos dados extraídos do ***SQL Server*** para a linguagem Python, utilizando a biblioteca ***Pandas***. Clonnaremos um repositório do GitHub onde os dados já estão armazenados. Em seguida, realizaremos uma análise da qualidade dos dados para garantir a confiabilidade das próximas etapas da análise."
      ],
      "metadata": {
        "id": "FnAoGzRHPZ_o"
      }
    },
    {
      "cell_type": "markdown",
      "source": [
        "##### 3\\.1\\.1 Clonando o Repositório"
      ],
      "metadata": {
        "id": "qAXcsJMRR9rw"
      }
    },
    {
      "cell_type": "markdown",
      "source": [
        "Nesse momento teremos que trazer a base de dados para o colab para que possamos tratar e trabalhar esses dados nos seguintes passos:\n",
        "- Clonar a base de dados `resultado_query_freq_ticket_receita.csv`,dentro do repositório do git hub\n",
        "- Acessar a pasta onde está a bade de dados\n",
        "- Baixar a base de dados compilada\n",
        "- Verificar e acessar a base de dados"
      ],
      "metadata": {
        "id": "NsQPi-BMSGr5"
      }
    },
    {
      "cell_type": "code",
      "source": [
        "# Clone o repositório\n",
        "# Se você tiver usando o colab você verificar que em ARQUIVOS o clone do repositório\n",
        "!git clone https://github.com/thiagonoobre/Projeto_Analise_de_Vendas.git\n"
      ],
      "metadata": {
        "id": "DQDZlg52AFaE",
        "colab": {
          "base_uri": "https://localhost:8080/"
        },
        "outputId": "11028fae-3d9f-443b-b15a-45009efc7057"
      },
      "execution_count": null,
      "outputs": [
        {
          "output_type": "stream",
          "name": "stdout",
          "text": [
            "fatal: destination path 'Projeto_Analise_de_Vendas' already exists and is not an empty directory.\n"
          ]
        }
      ]
    },
    {
      "cell_type": "code",
      "source": [
        "# Acesse a pasta com o código\n",
        "%cd /content/Projeto_Analise_de_Vendas/arquivos_csv\n",
        "!ls  # verifica os arquivos do projeto"
      ],
      "metadata": {
        "colab": {
          "base_uri": "https://localhost:8080/"
        },
        "id": "k7VXKsPdS7jx",
        "outputId": "366a4468-be74-4067-915f-fe436d38e4c5"
      },
      "execution_count": null,
      "outputs": [
        {
          "output_type": "stream",
          "name": "stdout",
          "text": [
            "/content/Projeto_Analise_de_Vendas/arquivos_csv\n",
            "Projeto_Analise_de_Vendas  resultado_query_freq_ticket_receita.csv\n"
          ]
        }
      ]
    },
    {
      "cell_type": "markdown",
      "source": [
        "##### 3\\.1\\.2 Coleta"
      ],
      "metadata": {
        "id": "G67gWMY4Tm9A"
      }
    },
    {
      "cell_type": "markdown",
      "source": [
        "Iniciaremos a análise exploratória acessando os dados do repositório"
      ],
      "metadata": {
        "id": "WZuu4L-ZT2Mj"
      }
    },
    {
      "cell_type": "code",
      "source": [
        "import pandas as pd\n",
        "import numpy as np\n",
        "import seaborn as sns\n",
        "import matplotlib.pyplot as plt\n",
        "from cycler import cycler"
      ],
      "metadata": {
        "id": "lV6d-r0UUCtA"
      },
      "execution_count": null,
      "outputs": []
    },
    {
      "cell_type": "code",
      "source": [
        "# Para ajudar a achar o caminho do arquivo\n",
        "# você pode selecionar o arquivo desejado clicar com botão direito\n",
        "# e copiar o caminho\n",
        "\n",
        "df = pd.read_csv('/content/Projeto_Analise_de_Vendas/arquivos_csv/resultado_query_freq_ticket_receita.csv', sep=';')\n"
      ],
      "metadata": {
        "id": "nBC0gpJPUMW1"
      },
      "execution_count": null,
      "outputs": []
    },
    {
      "cell_type": "code",
      "source": [
        "df.head()"
      ],
      "metadata": {
        "colab": {
          "base_uri": "https://localhost:8080/",
          "height": 206
        },
        "id": "F6zs9GEOUb8F",
        "outputId": "20754b36-e2ba-40b1-8971-1405c3b29b67"
      },
      "execution_count": null,
      "outputs": [
        {
          "output_type": "execute_result",
          "data": {
            "text/plain": [
              "   18365  14082,8619  140  100,5918\n",
              "0  17466  14950,5401  142  105,2854\n",
              "1  17547  15338,1488  142  108,0151\n",
              "2  11436  15357,3821  141  108,9176\n",
              "3  13695  15567,4579  139  111,9961\n",
              "4   9044  15569,8372  147  105,9172"
            ],
            "text/html": [
              "\n",
              "  <div id=\"df-b5e3ce62-b6f4-4315-9535-1a83eb1bd248\" class=\"colab-df-container\">\n",
              "    <div>\n",
              "<style scoped>\n",
              "    .dataframe tbody tr th:only-of-type {\n",
              "        vertical-align: middle;\n",
              "    }\n",
              "\n",
              "    .dataframe tbody tr th {\n",
              "        vertical-align: top;\n",
              "    }\n",
              "\n",
              "    .dataframe thead th {\n",
              "        text-align: right;\n",
              "    }\n",
              "</style>\n",
              "<table border=\"1\" class=\"dataframe\">\n",
              "  <thead>\n",
              "    <tr style=\"text-align: right;\">\n",
              "      <th></th>\n",
              "      <th>18365</th>\n",
              "      <th>14082,8619</th>\n",
              "      <th>140</th>\n",
              "      <th>100,5918</th>\n",
              "    </tr>\n",
              "  </thead>\n",
              "  <tbody>\n",
              "    <tr>\n",
              "      <th>0</th>\n",
              "      <td>17466</td>\n",
              "      <td>14950,5401</td>\n",
              "      <td>142</td>\n",
              "      <td>105,2854</td>\n",
              "    </tr>\n",
              "    <tr>\n",
              "      <th>1</th>\n",
              "      <td>17547</td>\n",
              "      <td>15338,1488</td>\n",
              "      <td>142</td>\n",
              "      <td>108,0151</td>\n",
              "    </tr>\n",
              "    <tr>\n",
              "      <th>2</th>\n",
              "      <td>11436</td>\n",
              "      <td>15357,3821</td>\n",
              "      <td>141</td>\n",
              "      <td>108,9176</td>\n",
              "    </tr>\n",
              "    <tr>\n",
              "      <th>3</th>\n",
              "      <td>13695</td>\n",
              "      <td>15567,4579</td>\n",
              "      <td>139</td>\n",
              "      <td>111,9961</td>\n",
              "    </tr>\n",
              "    <tr>\n",
              "      <th>4</th>\n",
              "      <td>9044</td>\n",
              "      <td>15569,8372</td>\n",
              "      <td>147</td>\n",
              "      <td>105,9172</td>\n",
              "    </tr>\n",
              "  </tbody>\n",
              "</table>\n",
              "</div>\n",
              "    <div class=\"colab-df-buttons\">\n",
              "\n",
              "  <div class=\"colab-df-container\">\n",
              "    <button class=\"colab-df-convert\" onclick=\"convertToInteractive('df-b5e3ce62-b6f4-4315-9535-1a83eb1bd248')\"\n",
              "            title=\"Convert this dataframe to an interactive table.\"\n",
              "            style=\"display:none;\">\n",
              "\n",
              "  <svg xmlns=\"http://www.w3.org/2000/svg\" height=\"24px\" viewBox=\"0 -960 960 960\">\n",
              "    <path d=\"M120-120v-720h720v720H120Zm60-500h600v-160H180v160Zm220 220h160v-160H400v160Zm0 220h160v-160H400v160ZM180-400h160v-160H180v160Zm440 0h160v-160H620v160ZM180-180h160v-160H180v160Zm440 0h160v-160H620v160Z\"/>\n",
              "  </svg>\n",
              "    </button>\n",
              "\n",
              "  <style>\n",
              "    .colab-df-container {\n",
              "      display:flex;\n",
              "      gap: 12px;\n",
              "    }\n",
              "\n",
              "    .colab-df-convert {\n",
              "      background-color: #E8F0FE;\n",
              "      border: none;\n",
              "      border-radius: 50%;\n",
              "      cursor: pointer;\n",
              "      display: none;\n",
              "      fill: #1967D2;\n",
              "      height: 32px;\n",
              "      padding: 0 0 0 0;\n",
              "      width: 32px;\n",
              "    }\n",
              "\n",
              "    .colab-df-convert:hover {\n",
              "      background-color: #E2EBFA;\n",
              "      box-shadow: 0px 1px 2px rgba(60, 64, 67, 0.3), 0px 1px 3px 1px rgba(60, 64, 67, 0.15);\n",
              "      fill: #174EA6;\n",
              "    }\n",
              "\n",
              "    .colab-df-buttons div {\n",
              "      margin-bottom: 4px;\n",
              "    }\n",
              "\n",
              "    [theme=dark] .colab-df-convert {\n",
              "      background-color: #3B4455;\n",
              "      fill: #D2E3FC;\n",
              "    }\n",
              "\n",
              "    [theme=dark] .colab-df-convert:hover {\n",
              "      background-color: #434B5C;\n",
              "      box-shadow: 0px 1px 3px 1px rgba(0, 0, 0, 0.15);\n",
              "      filter: drop-shadow(0px 1px 2px rgba(0, 0, 0, 0.3));\n",
              "      fill: #FFFFFF;\n",
              "    }\n",
              "  </style>\n",
              "\n",
              "    <script>\n",
              "      const buttonEl =\n",
              "        document.querySelector('#df-b5e3ce62-b6f4-4315-9535-1a83eb1bd248 button.colab-df-convert');\n",
              "      buttonEl.style.display =\n",
              "        google.colab.kernel.accessAllowed ? 'block' : 'none';\n",
              "\n",
              "      async function convertToInteractive(key) {\n",
              "        const element = document.querySelector('#df-b5e3ce62-b6f4-4315-9535-1a83eb1bd248');\n",
              "        const dataTable =\n",
              "          await google.colab.kernel.invokeFunction('convertToInteractive',\n",
              "                                                    [key], {});\n",
              "        if (!dataTable) return;\n",
              "\n",
              "        const docLinkHtml = 'Like what you see? Visit the ' +\n",
              "          '<a target=\"_blank\" href=https://colab.research.google.com/notebooks/data_table.ipynb>data table notebook</a>'\n",
              "          + ' to learn more about interactive tables.';\n",
              "        element.innerHTML = '';\n",
              "        dataTable['output_type'] = 'display_data';\n",
              "        await google.colab.output.renderOutput(dataTable, element);\n",
              "        const docLink = document.createElement('div');\n",
              "        docLink.innerHTML = docLinkHtml;\n",
              "        element.appendChild(docLink);\n",
              "      }\n",
              "    </script>\n",
              "  </div>\n",
              "\n",
              "\n",
              "<div id=\"df-37c1cad4-0143-4adc-807a-3c6de9bc6379\">\n",
              "  <button class=\"colab-df-quickchart\" onclick=\"quickchart('df-37c1cad4-0143-4adc-807a-3c6de9bc6379')\"\n",
              "            title=\"Suggest charts\"\n",
              "            style=\"display:none;\">\n",
              "\n",
              "<svg xmlns=\"http://www.w3.org/2000/svg\" height=\"24px\"viewBox=\"0 0 24 24\"\n",
              "     width=\"24px\">\n",
              "    <g>\n",
              "        <path d=\"M19 3H5c-1.1 0-2 .9-2 2v14c0 1.1.9 2 2 2h14c1.1 0 2-.9 2-2V5c0-1.1-.9-2-2-2zM9 17H7v-7h2v7zm4 0h-2V7h2v10zm4 0h-2v-4h2v4z\"/>\n",
              "    </g>\n",
              "</svg>\n",
              "  </button>\n",
              "\n",
              "<style>\n",
              "  .colab-df-quickchart {\n",
              "      --bg-color: #E8F0FE;\n",
              "      --fill-color: #1967D2;\n",
              "      --hover-bg-color: #E2EBFA;\n",
              "      --hover-fill-color: #174EA6;\n",
              "      --disabled-fill-color: #AAA;\n",
              "      --disabled-bg-color: #DDD;\n",
              "  }\n",
              "\n",
              "  [theme=dark] .colab-df-quickchart {\n",
              "      --bg-color: #3B4455;\n",
              "      --fill-color: #D2E3FC;\n",
              "      --hover-bg-color: #434B5C;\n",
              "      --hover-fill-color: #FFFFFF;\n",
              "      --disabled-bg-color: #3B4455;\n",
              "      --disabled-fill-color: #666;\n",
              "  }\n",
              "\n",
              "  .colab-df-quickchart {\n",
              "    background-color: var(--bg-color);\n",
              "    border: none;\n",
              "    border-radius: 50%;\n",
              "    cursor: pointer;\n",
              "    display: none;\n",
              "    fill: var(--fill-color);\n",
              "    height: 32px;\n",
              "    padding: 0;\n",
              "    width: 32px;\n",
              "  }\n",
              "\n",
              "  .colab-df-quickchart:hover {\n",
              "    background-color: var(--hover-bg-color);\n",
              "    box-shadow: 0 1px 2px rgba(60, 64, 67, 0.3), 0 1px 3px 1px rgba(60, 64, 67, 0.15);\n",
              "    fill: var(--button-hover-fill-color);\n",
              "  }\n",
              "\n",
              "  .colab-df-quickchart-complete:disabled,\n",
              "  .colab-df-quickchart-complete:disabled:hover {\n",
              "    background-color: var(--disabled-bg-color);\n",
              "    fill: var(--disabled-fill-color);\n",
              "    box-shadow: none;\n",
              "  }\n",
              "\n",
              "  .colab-df-spinner {\n",
              "    border: 2px solid var(--fill-color);\n",
              "    border-color: transparent;\n",
              "    border-bottom-color: var(--fill-color);\n",
              "    animation:\n",
              "      spin 1s steps(1) infinite;\n",
              "  }\n",
              "\n",
              "  @keyframes spin {\n",
              "    0% {\n",
              "      border-color: transparent;\n",
              "      border-bottom-color: var(--fill-color);\n",
              "      border-left-color: var(--fill-color);\n",
              "    }\n",
              "    20% {\n",
              "      border-color: transparent;\n",
              "      border-left-color: var(--fill-color);\n",
              "      border-top-color: var(--fill-color);\n",
              "    }\n",
              "    30% {\n",
              "      border-color: transparent;\n",
              "      border-left-color: var(--fill-color);\n",
              "      border-top-color: var(--fill-color);\n",
              "      border-right-color: var(--fill-color);\n",
              "    }\n",
              "    40% {\n",
              "      border-color: transparent;\n",
              "      border-right-color: var(--fill-color);\n",
              "      border-top-color: var(--fill-color);\n",
              "    }\n",
              "    60% {\n",
              "      border-color: transparent;\n",
              "      border-right-color: var(--fill-color);\n",
              "    }\n",
              "    80% {\n",
              "      border-color: transparent;\n",
              "      border-right-color: var(--fill-color);\n",
              "      border-bottom-color: var(--fill-color);\n",
              "    }\n",
              "    90% {\n",
              "      border-color: transparent;\n",
              "      border-bottom-color: var(--fill-color);\n",
              "    }\n",
              "  }\n",
              "</style>\n",
              "\n",
              "  <script>\n",
              "    async function quickchart(key) {\n",
              "      const quickchartButtonEl =\n",
              "        document.querySelector('#' + key + ' button');\n",
              "      quickchartButtonEl.disabled = true;  // To prevent multiple clicks.\n",
              "      quickchartButtonEl.classList.add('colab-df-spinner');\n",
              "      try {\n",
              "        const charts = await google.colab.kernel.invokeFunction(\n",
              "            'suggestCharts', [key], {});\n",
              "      } catch (error) {\n",
              "        console.error('Error during call to suggestCharts:', error);\n",
              "      }\n",
              "      quickchartButtonEl.classList.remove('colab-df-spinner');\n",
              "      quickchartButtonEl.classList.add('colab-df-quickchart-complete');\n",
              "    }\n",
              "    (() => {\n",
              "      let quickchartButtonEl =\n",
              "        document.querySelector('#df-37c1cad4-0143-4adc-807a-3c6de9bc6379 button');\n",
              "      quickchartButtonEl.style.display =\n",
              "        google.colab.kernel.accessAllowed ? 'block' : 'none';\n",
              "    })();\n",
              "  </script>\n",
              "</div>\n",
              "\n",
              "    </div>\n",
              "  </div>\n"
            ],
            "application/vnd.google.colaboratory.intrinsic+json": {
              "type": "dataframe",
              "variable_name": "df",
              "summary": "{\n  \"name\": \"df\",\n  \"rows\": 18483,\n  \"fields\": [\n    {\n      \"column\": \"18365\",\n      \"properties\": {\n        \"dtype\": \"number\",\n        \"std\": 5335,\n        \"min\": 1,\n        \"max\": 18484,\n        \"num_unique_values\": 18483,\n        \"samples\": [\n          6997,\n          18182,\n          12954\n        ],\n        \"semantic_type\": \"\",\n        \"description\": \"\"\n      }\n    },\n    {\n      \"column\": \"14082,8619\",\n      \"properties\": {\n        \"dtype\": \"string\",\n        \"num_unique_values\": 18476,\n        \"samples\": [\n          \"36061,963\",\n          \"40996,083\",\n          \"33799,126\"\n        ],\n        \"semantic_type\": \"\",\n        \"description\": \"\"\n      }\n    },\n    {\n      \"column\": \"140\",\n      \"properties\": {\n        \"dtype\": \"number\",\n        \"std\": 59,\n        \"min\": 69,\n        \"max\": 379,\n        \"num_unique_values\": 284,\n        \"samples\": [\n          145,\n          243,\n          246\n        ],\n        \"semantic_type\": \"\",\n        \"description\": \"\"\n      }\n    },\n    {\n      \"column\": \"100,5918\",\n      \"properties\": {\n        \"dtype\": \"string\",\n        \"num_unique_values\": 18354,\n        \"samples\": [\n          \"302,3044\",\n          \"328,2888\",\n          \"298,8611\"\n        ],\n        \"semantic_type\": \"\",\n        \"description\": \"\"\n      }\n    }\n  ]\n}"
            }
          },
          "metadata": {},
          "execution_count": 77
        }
      ]
    },
    {
      "cell_type": "markdown",
      "source": [
        "##### 3\\.1\\.3 Wrangling"
      ],
      "metadata": {
        "id": "qTaT92FcaBV0"
      }
    },
    {
      "cell_type": "markdown",
      "source": [
        " Ao analisar a base de dados importada, notamos a ausência de uma linha de cabeçalho, o que indica que os nomes das colunas não estão explicitamente definidos. No entanto, de acordo com a consulta SQL realizada, sabemos que as colunas estão ordenadas da seguinte forma:\n",
        "\n",
        "- `Id cliente`\n",
        "- `receita total`\n",
        "- `Frequência de Compra`\n",
        "- `Ticket Médio`"
      ],
      "metadata": {
        "id": "HFib0FXBVNuB"
      }
    },
    {
      "cell_type": "code",
      "source": [
        "# Inserindo o cabeçalho nas colunas\n",
        "# Nome das colunas\n",
        "columns = ['IdCliente', 'ReceitaTotal', 'FrequenciaCompra', 'TicketMedio']\n",
        "\n",
        "# header=None, faz com que o pandas entenda que os dados não tem Cabeçalho\n",
        "revenue_df = pd.read_csv('/content/Projeto_Analise_de_Vendas/arquivos_csv/resultado_query_freq_ticket_receita.csv', sep=';', header=None)\n",
        "\n",
        "# renomeia as colunas\n",
        "revenue_df.columns = columns"
      ],
      "metadata": {
        "id": "ILkY-orvWgSI"
      },
      "execution_count": null,
      "outputs": []
    },
    {
      "cell_type": "code",
      "source": [
        "# não perdemos os dados que estavam no cabeçalho\n",
        "revenue_df.head()\n"
      ],
      "metadata": {
        "colab": {
          "base_uri": "https://localhost:8080/",
          "height": 206
        },
        "id": "DmNwvY5aXWBW",
        "outputId": "a2c9f641-4c1c-4e1a-b59a-13b44028d633"
      },
      "execution_count": null,
      "outputs": [
        {
          "output_type": "execute_result",
          "data": {
            "text/plain": [
              "   IdCliente ReceitaTotal  FrequenciaCompra TicketMedio\n",
              "0      18365   14082,8619               140    100,5918\n",
              "1      17466   14950,5401               142    105,2854\n",
              "2      17547   15338,1488               142    108,0151\n",
              "3      11436   15357,3821               141    108,9176\n",
              "4      13695   15567,4579               139    111,9961"
            ],
            "text/html": [
              "\n",
              "  <div id=\"df-ceb1fe8f-a99c-4a97-b545-e086e934cb31\" class=\"colab-df-container\">\n",
              "    <div>\n",
              "<style scoped>\n",
              "    .dataframe tbody tr th:only-of-type {\n",
              "        vertical-align: middle;\n",
              "    }\n",
              "\n",
              "    .dataframe tbody tr th {\n",
              "        vertical-align: top;\n",
              "    }\n",
              "\n",
              "    .dataframe thead th {\n",
              "        text-align: right;\n",
              "    }\n",
              "</style>\n",
              "<table border=\"1\" class=\"dataframe\">\n",
              "  <thead>\n",
              "    <tr style=\"text-align: right;\">\n",
              "      <th></th>\n",
              "      <th>IdCliente</th>\n",
              "      <th>ReceitaTotal</th>\n",
              "      <th>FrequenciaCompra</th>\n",
              "      <th>TicketMedio</th>\n",
              "    </tr>\n",
              "  </thead>\n",
              "  <tbody>\n",
              "    <tr>\n",
              "      <th>0</th>\n",
              "      <td>18365</td>\n",
              "      <td>14082,8619</td>\n",
              "      <td>140</td>\n",
              "      <td>100,5918</td>\n",
              "    </tr>\n",
              "    <tr>\n",
              "      <th>1</th>\n",
              "      <td>17466</td>\n",
              "      <td>14950,5401</td>\n",
              "      <td>142</td>\n",
              "      <td>105,2854</td>\n",
              "    </tr>\n",
              "    <tr>\n",
              "      <th>2</th>\n",
              "      <td>17547</td>\n",
              "      <td>15338,1488</td>\n",
              "      <td>142</td>\n",
              "      <td>108,0151</td>\n",
              "    </tr>\n",
              "    <tr>\n",
              "      <th>3</th>\n",
              "      <td>11436</td>\n",
              "      <td>15357,3821</td>\n",
              "      <td>141</td>\n",
              "      <td>108,9176</td>\n",
              "    </tr>\n",
              "    <tr>\n",
              "      <th>4</th>\n",
              "      <td>13695</td>\n",
              "      <td>15567,4579</td>\n",
              "      <td>139</td>\n",
              "      <td>111,9961</td>\n",
              "    </tr>\n",
              "  </tbody>\n",
              "</table>\n",
              "</div>\n",
              "    <div class=\"colab-df-buttons\">\n",
              "\n",
              "  <div class=\"colab-df-container\">\n",
              "    <button class=\"colab-df-convert\" onclick=\"convertToInteractive('df-ceb1fe8f-a99c-4a97-b545-e086e934cb31')\"\n",
              "            title=\"Convert this dataframe to an interactive table.\"\n",
              "            style=\"display:none;\">\n",
              "\n",
              "  <svg xmlns=\"http://www.w3.org/2000/svg\" height=\"24px\" viewBox=\"0 -960 960 960\">\n",
              "    <path d=\"M120-120v-720h720v720H120Zm60-500h600v-160H180v160Zm220 220h160v-160H400v160Zm0 220h160v-160H400v160ZM180-400h160v-160H180v160Zm440 0h160v-160H620v160ZM180-180h160v-160H180v160Zm440 0h160v-160H620v160Z\"/>\n",
              "  </svg>\n",
              "    </button>\n",
              "\n",
              "  <style>\n",
              "    .colab-df-container {\n",
              "      display:flex;\n",
              "      gap: 12px;\n",
              "    }\n",
              "\n",
              "    .colab-df-convert {\n",
              "      background-color: #E8F0FE;\n",
              "      border: none;\n",
              "      border-radius: 50%;\n",
              "      cursor: pointer;\n",
              "      display: none;\n",
              "      fill: #1967D2;\n",
              "      height: 32px;\n",
              "      padding: 0 0 0 0;\n",
              "      width: 32px;\n",
              "    }\n",
              "\n",
              "    .colab-df-convert:hover {\n",
              "      background-color: #E2EBFA;\n",
              "      box-shadow: 0px 1px 2px rgba(60, 64, 67, 0.3), 0px 1px 3px 1px rgba(60, 64, 67, 0.15);\n",
              "      fill: #174EA6;\n",
              "    }\n",
              "\n",
              "    .colab-df-buttons div {\n",
              "      margin-bottom: 4px;\n",
              "    }\n",
              "\n",
              "    [theme=dark] .colab-df-convert {\n",
              "      background-color: #3B4455;\n",
              "      fill: #D2E3FC;\n",
              "    }\n",
              "\n",
              "    [theme=dark] .colab-df-convert:hover {\n",
              "      background-color: #434B5C;\n",
              "      box-shadow: 0px 1px 3px 1px rgba(0, 0, 0, 0.15);\n",
              "      filter: drop-shadow(0px 1px 2px rgba(0, 0, 0, 0.3));\n",
              "      fill: #FFFFFF;\n",
              "    }\n",
              "  </style>\n",
              "\n",
              "    <script>\n",
              "      const buttonEl =\n",
              "        document.querySelector('#df-ceb1fe8f-a99c-4a97-b545-e086e934cb31 button.colab-df-convert');\n",
              "      buttonEl.style.display =\n",
              "        google.colab.kernel.accessAllowed ? 'block' : 'none';\n",
              "\n",
              "      async function convertToInteractive(key) {\n",
              "        const element = document.querySelector('#df-ceb1fe8f-a99c-4a97-b545-e086e934cb31');\n",
              "        const dataTable =\n",
              "          await google.colab.kernel.invokeFunction('convertToInteractive',\n",
              "                                                    [key], {});\n",
              "        if (!dataTable) return;\n",
              "\n",
              "        const docLinkHtml = 'Like what you see? Visit the ' +\n",
              "          '<a target=\"_blank\" href=https://colab.research.google.com/notebooks/data_table.ipynb>data table notebook</a>'\n",
              "          + ' to learn more about interactive tables.';\n",
              "        element.innerHTML = '';\n",
              "        dataTable['output_type'] = 'display_data';\n",
              "        await google.colab.output.renderOutput(dataTable, element);\n",
              "        const docLink = document.createElement('div');\n",
              "        docLink.innerHTML = docLinkHtml;\n",
              "        element.appendChild(docLink);\n",
              "      }\n",
              "    </script>\n",
              "  </div>\n",
              "\n",
              "\n",
              "<div id=\"df-e44055ac-0b9c-4bbc-8cc5-2e17c38631d8\">\n",
              "  <button class=\"colab-df-quickchart\" onclick=\"quickchart('df-e44055ac-0b9c-4bbc-8cc5-2e17c38631d8')\"\n",
              "            title=\"Suggest charts\"\n",
              "            style=\"display:none;\">\n",
              "\n",
              "<svg xmlns=\"http://www.w3.org/2000/svg\" height=\"24px\"viewBox=\"0 0 24 24\"\n",
              "     width=\"24px\">\n",
              "    <g>\n",
              "        <path d=\"M19 3H5c-1.1 0-2 .9-2 2v14c0 1.1.9 2 2 2h14c1.1 0 2-.9 2-2V5c0-1.1-.9-2-2-2zM9 17H7v-7h2v7zm4 0h-2V7h2v10zm4 0h-2v-4h2v4z\"/>\n",
              "    </g>\n",
              "</svg>\n",
              "  </button>\n",
              "\n",
              "<style>\n",
              "  .colab-df-quickchart {\n",
              "      --bg-color: #E8F0FE;\n",
              "      --fill-color: #1967D2;\n",
              "      --hover-bg-color: #E2EBFA;\n",
              "      --hover-fill-color: #174EA6;\n",
              "      --disabled-fill-color: #AAA;\n",
              "      --disabled-bg-color: #DDD;\n",
              "  }\n",
              "\n",
              "  [theme=dark] .colab-df-quickchart {\n",
              "      --bg-color: #3B4455;\n",
              "      --fill-color: #D2E3FC;\n",
              "      --hover-bg-color: #434B5C;\n",
              "      --hover-fill-color: #FFFFFF;\n",
              "      --disabled-bg-color: #3B4455;\n",
              "      --disabled-fill-color: #666;\n",
              "  }\n",
              "\n",
              "  .colab-df-quickchart {\n",
              "    background-color: var(--bg-color);\n",
              "    border: none;\n",
              "    border-radius: 50%;\n",
              "    cursor: pointer;\n",
              "    display: none;\n",
              "    fill: var(--fill-color);\n",
              "    height: 32px;\n",
              "    padding: 0;\n",
              "    width: 32px;\n",
              "  }\n",
              "\n",
              "  .colab-df-quickchart:hover {\n",
              "    background-color: var(--hover-bg-color);\n",
              "    box-shadow: 0 1px 2px rgba(60, 64, 67, 0.3), 0 1px 3px 1px rgba(60, 64, 67, 0.15);\n",
              "    fill: var(--button-hover-fill-color);\n",
              "  }\n",
              "\n",
              "  .colab-df-quickchart-complete:disabled,\n",
              "  .colab-df-quickchart-complete:disabled:hover {\n",
              "    background-color: var(--disabled-bg-color);\n",
              "    fill: var(--disabled-fill-color);\n",
              "    box-shadow: none;\n",
              "  }\n",
              "\n",
              "  .colab-df-spinner {\n",
              "    border: 2px solid var(--fill-color);\n",
              "    border-color: transparent;\n",
              "    border-bottom-color: var(--fill-color);\n",
              "    animation:\n",
              "      spin 1s steps(1) infinite;\n",
              "  }\n",
              "\n",
              "  @keyframes spin {\n",
              "    0% {\n",
              "      border-color: transparent;\n",
              "      border-bottom-color: var(--fill-color);\n",
              "      border-left-color: var(--fill-color);\n",
              "    }\n",
              "    20% {\n",
              "      border-color: transparent;\n",
              "      border-left-color: var(--fill-color);\n",
              "      border-top-color: var(--fill-color);\n",
              "    }\n",
              "    30% {\n",
              "      border-color: transparent;\n",
              "      border-left-color: var(--fill-color);\n",
              "      border-top-color: var(--fill-color);\n",
              "      border-right-color: var(--fill-color);\n",
              "    }\n",
              "    40% {\n",
              "      border-color: transparent;\n",
              "      border-right-color: var(--fill-color);\n",
              "      border-top-color: var(--fill-color);\n",
              "    }\n",
              "    60% {\n",
              "      border-color: transparent;\n",
              "      border-right-color: var(--fill-color);\n",
              "    }\n",
              "    80% {\n",
              "      border-color: transparent;\n",
              "      border-right-color: var(--fill-color);\n",
              "      border-bottom-color: var(--fill-color);\n",
              "    }\n",
              "    90% {\n",
              "      border-color: transparent;\n",
              "      border-bottom-color: var(--fill-color);\n",
              "    }\n",
              "  }\n",
              "</style>\n",
              "\n",
              "  <script>\n",
              "    async function quickchart(key) {\n",
              "      const quickchartButtonEl =\n",
              "        document.querySelector('#' + key + ' button');\n",
              "      quickchartButtonEl.disabled = true;  // To prevent multiple clicks.\n",
              "      quickchartButtonEl.classList.add('colab-df-spinner');\n",
              "      try {\n",
              "        const charts = await google.colab.kernel.invokeFunction(\n",
              "            'suggestCharts', [key], {});\n",
              "      } catch (error) {\n",
              "        console.error('Error during call to suggestCharts:', error);\n",
              "      }\n",
              "      quickchartButtonEl.classList.remove('colab-df-spinner');\n",
              "      quickchartButtonEl.classList.add('colab-df-quickchart-complete');\n",
              "    }\n",
              "    (() => {\n",
              "      let quickchartButtonEl =\n",
              "        document.querySelector('#df-e44055ac-0b9c-4bbc-8cc5-2e17c38631d8 button');\n",
              "      quickchartButtonEl.style.display =\n",
              "        google.colab.kernel.accessAllowed ? 'block' : 'none';\n",
              "    })();\n",
              "  </script>\n",
              "</div>\n",
              "\n",
              "    </div>\n",
              "  </div>\n"
            ],
            "application/vnd.google.colaboratory.intrinsic+json": {
              "type": "dataframe",
              "variable_name": "revenue_df",
              "summary": "{\n  \"name\": \"revenue_df\",\n  \"rows\": 18484,\n  \"fields\": [\n    {\n      \"column\": \"IdCliente\",\n      \"properties\": {\n        \"dtype\": \"number\",\n        \"std\": 5336,\n        \"min\": 1,\n        \"max\": 18484,\n        \"num_unique_values\": 18484,\n        \"samples\": [\n          14536,\n          15653,\n          11469\n        ],\n        \"semantic_type\": \"\",\n        \"description\": \"\"\n      }\n    },\n    {\n      \"column\": \"ReceitaTotal\",\n      \"properties\": {\n        \"dtype\": \"string\",\n        \"num_unique_values\": 18477,\n        \"samples\": [\n          \"36061,963\",\n          \"59557,1055\",\n          \"33799,126\"\n        ],\n        \"semantic_type\": \"\",\n        \"description\": \"\"\n      }\n    },\n    {\n      \"column\": \"FrequenciaCompra\",\n      \"properties\": {\n        \"dtype\": \"number\",\n        \"std\": 59,\n        \"min\": 69,\n        \"max\": 379,\n        \"num_unique_values\": 284,\n        \"samples\": [\n          145,\n          243,\n          246\n        ],\n        \"semantic_type\": \"\",\n        \"description\": \"\"\n      }\n    },\n    {\n      \"column\": \"TicketMedio\",\n      \"properties\": {\n        \"dtype\": \"string\",\n        \"num_unique_values\": 18355,\n        \"samples\": [\n          \"146,1678\",\n          \"266,0045\",\n          \"151,6563\"\n        ],\n        \"semantic_type\": \"\",\n        \"description\": \"\"\n      }\n    }\n  ]\n}"
            }
          },
          "metadata": {},
          "execution_count": 79
        }
      ]
    },
    {
      "cell_type": "markdown",
      "source": [
        "##### 3\\.1\\.4 Estrutura"
      ],
      "metadata": {
        "id": "vQA1d9_oaRDf"
      }
    },
    {
      "cell_type": "code",
      "source": [
        "# Quantidade de linhas e colunas\n",
        "revenue_df.shape"
      ],
      "metadata": {
        "colab": {
          "base_uri": "https://localhost:8080/"
        },
        "id": "NwWapeoJaU9i",
        "outputId": "84156502-3a7f-4cb8-bf78-5c8eaa30b6a9"
      },
      "execution_count": null,
      "outputs": [
        {
          "output_type": "execute_result",
          "data": {
            "text/plain": [
              "(18484, 4)"
            ]
          },
          "metadata": {},
          "execution_count": 80
        }
      ]
    },
    {
      "cell_type": "code",
      "source": [
        "# Consistencia dos dados\n",
        "revenue_df.info()"
      ],
      "metadata": {
        "colab": {
          "base_uri": "https://localhost:8080/"
        },
        "id": "m4cpzqQTa-uj",
        "outputId": "b5268b17-a7af-4bf7-c191-5cb54aca8cc0"
      },
      "execution_count": null,
      "outputs": [
        {
          "output_type": "stream",
          "name": "stdout",
          "text": [
            "<class 'pandas.core.frame.DataFrame'>\n",
            "RangeIndex: 18484 entries, 0 to 18483\n",
            "Data columns (total 4 columns):\n",
            " #   Column            Non-Null Count  Dtype \n",
            "---  ------            --------------  ----- \n",
            " 0   IdCliente         18484 non-null  int64 \n",
            " 1   ReceitaTotal      18484 non-null  object\n",
            " 2   FrequenciaCompra  18484 non-null  int64 \n",
            " 3   TicketMedio       18484 non-null  object\n",
            "dtypes: int64(2), object(2)\n",
            "memory usage: 577.8+ KB\n"
          ]
        }
      ]
    },
    {
      "cell_type": "markdown",
      "source": [
        "Analisando a coluna `ReceitaTotal` e  `TicketMedio`, pode-se verificar que o tipo de dado é *Object*. Será nescessario tranformar esses dados em *Float*. Outra questão é que para transformação para decimal será preciso troca a virgula por ponto."
      ],
      "metadata": {
        "id": "yw7UvqGbI91z"
      }
    },
    {
      "cell_type": "code",
      "source": [
        "# Coluna ReceitaTotal\n",
        "revenue_df.ReceitaTotal = revenue_df.ReceitaTotal.str.replace(',', '.').astype(float).round(2)\n",
        "\n",
        "# Coluna TicketMedio\n",
        "revenue_df.TicketMedio = revenue_df.TicketMedio.str.replace(',', '.').astype(float).round(2)\n"
      ],
      "metadata": {
        "id": "5yoiYtGuGt37"
      },
      "execution_count": null,
      "outputs": []
    },
    {
      "cell_type": "code",
      "source": [
        "# Verificando o tipo de dado\n",
        "revenue_df.info()"
      ],
      "metadata": {
        "colab": {
          "base_uri": "https://localhost:8080/"
        },
        "id": "h1alLB0vKSbz",
        "outputId": "adc3910b-d7f8-4d3a-ec08-dc824a5f64dc"
      },
      "execution_count": null,
      "outputs": [
        {
          "output_type": "stream",
          "name": "stdout",
          "text": [
            "<class 'pandas.core.frame.DataFrame'>\n",
            "RangeIndex: 18484 entries, 0 to 18483\n",
            "Data columns (total 4 columns):\n",
            " #   Column            Non-Null Count  Dtype  \n",
            "---  ------            --------------  -----  \n",
            " 0   IdCliente         18484 non-null  int64  \n",
            " 1   ReceitaTotal      18484 non-null  float64\n",
            " 2   FrequenciaCompra  18484 non-null  int64  \n",
            " 3   TicketMedio       18484 non-null  float64\n",
            "dtypes: float64(2), int64(2)\n",
            "memory usage: 577.8 KB\n"
          ]
        }
      ]
    },
    {
      "cell_type": "code",
      "source": [
        "revenue_df.head()"
      ],
      "metadata": {
        "colab": {
          "base_uri": "https://localhost:8080/",
          "height": 206
        },
        "id": "Oj9Vi5E5KccU",
        "outputId": "5dca9fc5-e4fe-4811-e2ab-f787d713af3c"
      },
      "execution_count": null,
      "outputs": [
        {
          "output_type": "execute_result",
          "data": {
            "text/plain": [
              "   IdCliente  ReceitaTotal  FrequenciaCompra  TicketMedio\n",
              "0      18365      14082.86               140       100.59\n",
              "1      17466      14950.54               142       105.29\n",
              "2      17547      15338.15               142       108.02\n",
              "3      11436      15357.38               141       108.92\n",
              "4      13695      15567.46               139       112.00"
            ],
            "text/html": [
              "\n",
              "  <div id=\"df-d6ab314e-79c9-4061-9d86-10d65f0d7a69\" class=\"colab-df-container\">\n",
              "    <div>\n",
              "<style scoped>\n",
              "    .dataframe tbody tr th:only-of-type {\n",
              "        vertical-align: middle;\n",
              "    }\n",
              "\n",
              "    .dataframe tbody tr th {\n",
              "        vertical-align: top;\n",
              "    }\n",
              "\n",
              "    .dataframe thead th {\n",
              "        text-align: right;\n",
              "    }\n",
              "</style>\n",
              "<table border=\"1\" class=\"dataframe\">\n",
              "  <thead>\n",
              "    <tr style=\"text-align: right;\">\n",
              "      <th></th>\n",
              "      <th>IdCliente</th>\n",
              "      <th>ReceitaTotal</th>\n",
              "      <th>FrequenciaCompra</th>\n",
              "      <th>TicketMedio</th>\n",
              "    </tr>\n",
              "  </thead>\n",
              "  <tbody>\n",
              "    <tr>\n",
              "      <th>0</th>\n",
              "      <td>18365</td>\n",
              "      <td>14082.86</td>\n",
              "      <td>140</td>\n",
              "      <td>100.59</td>\n",
              "    </tr>\n",
              "    <tr>\n",
              "      <th>1</th>\n",
              "      <td>17466</td>\n",
              "      <td>14950.54</td>\n",
              "      <td>142</td>\n",
              "      <td>105.29</td>\n",
              "    </tr>\n",
              "    <tr>\n",
              "      <th>2</th>\n",
              "      <td>17547</td>\n",
              "      <td>15338.15</td>\n",
              "      <td>142</td>\n",
              "      <td>108.02</td>\n",
              "    </tr>\n",
              "    <tr>\n",
              "      <th>3</th>\n",
              "      <td>11436</td>\n",
              "      <td>15357.38</td>\n",
              "      <td>141</td>\n",
              "      <td>108.92</td>\n",
              "    </tr>\n",
              "    <tr>\n",
              "      <th>4</th>\n",
              "      <td>13695</td>\n",
              "      <td>15567.46</td>\n",
              "      <td>139</td>\n",
              "      <td>112.00</td>\n",
              "    </tr>\n",
              "  </tbody>\n",
              "</table>\n",
              "</div>\n",
              "    <div class=\"colab-df-buttons\">\n",
              "\n",
              "  <div class=\"colab-df-container\">\n",
              "    <button class=\"colab-df-convert\" onclick=\"convertToInteractive('df-d6ab314e-79c9-4061-9d86-10d65f0d7a69')\"\n",
              "            title=\"Convert this dataframe to an interactive table.\"\n",
              "            style=\"display:none;\">\n",
              "\n",
              "  <svg xmlns=\"http://www.w3.org/2000/svg\" height=\"24px\" viewBox=\"0 -960 960 960\">\n",
              "    <path d=\"M120-120v-720h720v720H120Zm60-500h600v-160H180v160Zm220 220h160v-160H400v160Zm0 220h160v-160H400v160ZM180-400h160v-160H180v160Zm440 0h160v-160H620v160ZM180-180h160v-160H180v160Zm440 0h160v-160H620v160Z\"/>\n",
              "  </svg>\n",
              "    </button>\n",
              "\n",
              "  <style>\n",
              "    .colab-df-container {\n",
              "      display:flex;\n",
              "      gap: 12px;\n",
              "    }\n",
              "\n",
              "    .colab-df-convert {\n",
              "      background-color: #E8F0FE;\n",
              "      border: none;\n",
              "      border-radius: 50%;\n",
              "      cursor: pointer;\n",
              "      display: none;\n",
              "      fill: #1967D2;\n",
              "      height: 32px;\n",
              "      padding: 0 0 0 0;\n",
              "      width: 32px;\n",
              "    }\n",
              "\n",
              "    .colab-df-convert:hover {\n",
              "      background-color: #E2EBFA;\n",
              "      box-shadow: 0px 1px 2px rgba(60, 64, 67, 0.3), 0px 1px 3px 1px rgba(60, 64, 67, 0.15);\n",
              "      fill: #174EA6;\n",
              "    }\n",
              "\n",
              "    .colab-df-buttons div {\n",
              "      margin-bottom: 4px;\n",
              "    }\n",
              "\n",
              "    [theme=dark] .colab-df-convert {\n",
              "      background-color: #3B4455;\n",
              "      fill: #D2E3FC;\n",
              "    }\n",
              "\n",
              "    [theme=dark] .colab-df-convert:hover {\n",
              "      background-color: #434B5C;\n",
              "      box-shadow: 0px 1px 3px 1px rgba(0, 0, 0, 0.15);\n",
              "      filter: drop-shadow(0px 1px 2px rgba(0, 0, 0, 0.3));\n",
              "      fill: #FFFFFF;\n",
              "    }\n",
              "  </style>\n",
              "\n",
              "    <script>\n",
              "      const buttonEl =\n",
              "        document.querySelector('#df-d6ab314e-79c9-4061-9d86-10d65f0d7a69 button.colab-df-convert');\n",
              "      buttonEl.style.display =\n",
              "        google.colab.kernel.accessAllowed ? 'block' : 'none';\n",
              "\n",
              "      async function convertToInteractive(key) {\n",
              "        const element = document.querySelector('#df-d6ab314e-79c9-4061-9d86-10d65f0d7a69');\n",
              "        const dataTable =\n",
              "          await google.colab.kernel.invokeFunction('convertToInteractive',\n",
              "                                                    [key], {});\n",
              "        if (!dataTable) return;\n",
              "\n",
              "        const docLinkHtml = 'Like what you see? Visit the ' +\n",
              "          '<a target=\"_blank\" href=https://colab.research.google.com/notebooks/data_table.ipynb>data table notebook</a>'\n",
              "          + ' to learn more about interactive tables.';\n",
              "        element.innerHTML = '';\n",
              "        dataTable['output_type'] = 'display_data';\n",
              "        await google.colab.output.renderOutput(dataTable, element);\n",
              "        const docLink = document.createElement('div');\n",
              "        docLink.innerHTML = docLinkHtml;\n",
              "        element.appendChild(docLink);\n",
              "      }\n",
              "    </script>\n",
              "  </div>\n",
              "\n",
              "\n",
              "<div id=\"df-03c15ddf-4d48-4e6f-babe-abde64a0479c\">\n",
              "  <button class=\"colab-df-quickchart\" onclick=\"quickchart('df-03c15ddf-4d48-4e6f-babe-abde64a0479c')\"\n",
              "            title=\"Suggest charts\"\n",
              "            style=\"display:none;\">\n",
              "\n",
              "<svg xmlns=\"http://www.w3.org/2000/svg\" height=\"24px\"viewBox=\"0 0 24 24\"\n",
              "     width=\"24px\">\n",
              "    <g>\n",
              "        <path d=\"M19 3H5c-1.1 0-2 .9-2 2v14c0 1.1.9 2 2 2h14c1.1 0 2-.9 2-2V5c0-1.1-.9-2-2-2zM9 17H7v-7h2v7zm4 0h-2V7h2v10zm4 0h-2v-4h2v4z\"/>\n",
              "    </g>\n",
              "</svg>\n",
              "  </button>\n",
              "\n",
              "<style>\n",
              "  .colab-df-quickchart {\n",
              "      --bg-color: #E8F0FE;\n",
              "      --fill-color: #1967D2;\n",
              "      --hover-bg-color: #E2EBFA;\n",
              "      --hover-fill-color: #174EA6;\n",
              "      --disabled-fill-color: #AAA;\n",
              "      --disabled-bg-color: #DDD;\n",
              "  }\n",
              "\n",
              "  [theme=dark] .colab-df-quickchart {\n",
              "      --bg-color: #3B4455;\n",
              "      --fill-color: #D2E3FC;\n",
              "      --hover-bg-color: #434B5C;\n",
              "      --hover-fill-color: #FFFFFF;\n",
              "      --disabled-bg-color: #3B4455;\n",
              "      --disabled-fill-color: #666;\n",
              "  }\n",
              "\n",
              "  .colab-df-quickchart {\n",
              "    background-color: var(--bg-color);\n",
              "    border: none;\n",
              "    border-radius: 50%;\n",
              "    cursor: pointer;\n",
              "    display: none;\n",
              "    fill: var(--fill-color);\n",
              "    height: 32px;\n",
              "    padding: 0;\n",
              "    width: 32px;\n",
              "  }\n",
              "\n",
              "  .colab-df-quickchart:hover {\n",
              "    background-color: var(--hover-bg-color);\n",
              "    box-shadow: 0 1px 2px rgba(60, 64, 67, 0.3), 0 1px 3px 1px rgba(60, 64, 67, 0.15);\n",
              "    fill: var(--button-hover-fill-color);\n",
              "  }\n",
              "\n",
              "  .colab-df-quickchart-complete:disabled,\n",
              "  .colab-df-quickchart-complete:disabled:hover {\n",
              "    background-color: var(--disabled-bg-color);\n",
              "    fill: var(--disabled-fill-color);\n",
              "    box-shadow: none;\n",
              "  }\n",
              "\n",
              "  .colab-df-spinner {\n",
              "    border: 2px solid var(--fill-color);\n",
              "    border-color: transparent;\n",
              "    border-bottom-color: var(--fill-color);\n",
              "    animation:\n",
              "      spin 1s steps(1) infinite;\n",
              "  }\n",
              "\n",
              "  @keyframes spin {\n",
              "    0% {\n",
              "      border-color: transparent;\n",
              "      border-bottom-color: var(--fill-color);\n",
              "      border-left-color: var(--fill-color);\n",
              "    }\n",
              "    20% {\n",
              "      border-color: transparent;\n",
              "      border-left-color: var(--fill-color);\n",
              "      border-top-color: var(--fill-color);\n",
              "    }\n",
              "    30% {\n",
              "      border-color: transparent;\n",
              "      border-left-color: var(--fill-color);\n",
              "      border-top-color: var(--fill-color);\n",
              "      border-right-color: var(--fill-color);\n",
              "    }\n",
              "    40% {\n",
              "      border-color: transparent;\n",
              "      border-right-color: var(--fill-color);\n",
              "      border-top-color: var(--fill-color);\n",
              "    }\n",
              "    60% {\n",
              "      border-color: transparent;\n",
              "      border-right-color: var(--fill-color);\n",
              "    }\n",
              "    80% {\n",
              "      border-color: transparent;\n",
              "      border-right-color: var(--fill-color);\n",
              "      border-bottom-color: var(--fill-color);\n",
              "    }\n",
              "    90% {\n",
              "      border-color: transparent;\n",
              "      border-bottom-color: var(--fill-color);\n",
              "    }\n",
              "  }\n",
              "</style>\n",
              "\n",
              "  <script>\n",
              "    async function quickchart(key) {\n",
              "      const quickchartButtonEl =\n",
              "        document.querySelector('#' + key + ' button');\n",
              "      quickchartButtonEl.disabled = true;  // To prevent multiple clicks.\n",
              "      quickchartButtonEl.classList.add('colab-df-spinner');\n",
              "      try {\n",
              "        const charts = await google.colab.kernel.invokeFunction(\n",
              "            'suggestCharts', [key], {});\n",
              "      } catch (error) {\n",
              "        console.error('Error during call to suggestCharts:', error);\n",
              "      }\n",
              "      quickchartButtonEl.classList.remove('colab-df-spinner');\n",
              "      quickchartButtonEl.classList.add('colab-df-quickchart-complete');\n",
              "    }\n",
              "    (() => {\n",
              "      let quickchartButtonEl =\n",
              "        document.querySelector('#df-03c15ddf-4d48-4e6f-babe-abde64a0479c button');\n",
              "      quickchartButtonEl.style.display =\n",
              "        google.colab.kernel.accessAllowed ? 'block' : 'none';\n",
              "    })();\n",
              "  </script>\n",
              "</div>\n",
              "\n",
              "    </div>\n",
              "  </div>\n"
            ],
            "application/vnd.google.colaboratory.intrinsic+json": {
              "type": "dataframe",
              "variable_name": "revenue_df",
              "summary": "{\n  \"name\": \"revenue_df\",\n  \"rows\": 18484,\n  \"fields\": [\n    {\n      \"column\": \"IdCliente\",\n      \"properties\": {\n        \"dtype\": \"number\",\n        \"std\": 5336,\n        \"min\": 1,\n        \"max\": 18484,\n        \"num_unique_values\": 18484,\n        \"samples\": [\n          14536,\n          15653,\n          11469\n        ],\n        \"semantic_type\": \"\",\n        \"description\": \"\"\n      }\n    },\n    {\n      \"column\": \"ReceitaTotal\",\n      \"properties\": {\n        \"dtype\": \"number\",\n        \"std\": 12827.674357332926,\n        \"min\": 14082.86,\n        \"max\": 85363.95,\n        \"num_unique_values\": 18416,\n        \"samples\": [\n          28781.34,\n          33646.26,\n          33896.36\n        ],\n        \"semantic_type\": \"\",\n        \"description\": \"\"\n      }\n    },\n    {\n      \"column\": \"FrequenciaCompra\",\n      \"properties\": {\n        \"dtype\": \"number\",\n        \"std\": 59,\n        \"min\": 69,\n        \"max\": 379,\n        \"num_unique_values\": 284,\n        \"samples\": [\n          145,\n          243,\n          246\n        ],\n        \"semantic_type\": \"\",\n        \"description\": \"\"\n      }\n    },\n    {\n      \"column\": \"TicketMedio\",\n      \"properties\": {\n        \"dtype\": \"number\",\n        \"std\": 76.7784115430503,\n        \"min\": 100.59,\n        \"max\": 432.14,\n        \"num_unique_values\": 10815,\n        \"samples\": [\n          146.84,\n          244.01,\n          321.02\n        ],\n        \"semantic_type\": \"\",\n        \"description\": \"\"\n      }\n    }\n  ]\n}"
            }
          },
          "metadata": {},
          "execution_count": 84
        }
      ]
    },
    {
      "cell_type": "markdown",
      "source": [
        "##### 3\\.1\\.5 Análise"
      ],
      "metadata": {
        "id": "m7vSSb2XSisj"
      }
    },
    {
      "cell_type": "code",
      "source": [
        "revenue_df.drop('IdCliente', axis=1).describe(include=[np.number]).T"
      ],
      "metadata": {
        "colab": {
          "base_uri": "https://localhost:8080/",
          "height": 143
        },
        "id": "uAeuFoOiWbzi",
        "outputId": "10fa5654-3628-43b9-e903-8b9a2220f608"
      },
      "execution_count": null,
      "outputs": [
        {
          "output_type": "execute_result",
          "data": {
            "text/plain": [
              "                    count          mean           std       min         25%  \\\n",
              "ReceitaTotal      18484.0  37099.852967  12827.674357  14082.86  29513.5975   \n",
              "FrequenciaCompra  18484.0    153.224032     59.989425     69.00    105.0000   \n",
              "TicketMedio       18484.0    260.474471     76.778412    100.59    165.4875   \n",
              "\n",
              "                       50%         75%       max  \n",
              "ReceitaTotal      33292.11  38475.9925  85363.95  \n",
              "FrequenciaCompra    123.00    196.0000    379.00  \n",
              "TicketMedio         294.45    320.7300    432.14  "
            ],
            "text/html": [
              "\n",
              "  <div id=\"df-e116bd98-bdcd-42d5-8404-dbb2336a1252\" class=\"colab-df-container\">\n",
              "    <div>\n",
              "<style scoped>\n",
              "    .dataframe tbody tr th:only-of-type {\n",
              "        vertical-align: middle;\n",
              "    }\n",
              "\n",
              "    .dataframe tbody tr th {\n",
              "        vertical-align: top;\n",
              "    }\n",
              "\n",
              "    .dataframe thead th {\n",
              "        text-align: right;\n",
              "    }\n",
              "</style>\n",
              "<table border=\"1\" class=\"dataframe\">\n",
              "  <thead>\n",
              "    <tr style=\"text-align: right;\">\n",
              "      <th></th>\n",
              "      <th>count</th>\n",
              "      <th>mean</th>\n",
              "      <th>std</th>\n",
              "      <th>min</th>\n",
              "      <th>25%</th>\n",
              "      <th>50%</th>\n",
              "      <th>75%</th>\n",
              "      <th>max</th>\n",
              "    </tr>\n",
              "  </thead>\n",
              "  <tbody>\n",
              "    <tr>\n",
              "      <th>ReceitaTotal</th>\n",
              "      <td>18484.0</td>\n",
              "      <td>37099.852967</td>\n",
              "      <td>12827.674357</td>\n",
              "      <td>14082.86</td>\n",
              "      <td>29513.5975</td>\n",
              "      <td>33292.11</td>\n",
              "      <td>38475.9925</td>\n",
              "      <td>85363.95</td>\n",
              "    </tr>\n",
              "    <tr>\n",
              "      <th>FrequenciaCompra</th>\n",
              "      <td>18484.0</td>\n",
              "      <td>153.224032</td>\n",
              "      <td>59.989425</td>\n",
              "      <td>69.00</td>\n",
              "      <td>105.0000</td>\n",
              "      <td>123.00</td>\n",
              "      <td>196.0000</td>\n",
              "      <td>379.00</td>\n",
              "    </tr>\n",
              "    <tr>\n",
              "      <th>TicketMedio</th>\n",
              "      <td>18484.0</td>\n",
              "      <td>260.474471</td>\n",
              "      <td>76.778412</td>\n",
              "      <td>100.59</td>\n",
              "      <td>165.4875</td>\n",
              "      <td>294.45</td>\n",
              "      <td>320.7300</td>\n",
              "      <td>432.14</td>\n",
              "    </tr>\n",
              "  </tbody>\n",
              "</table>\n",
              "</div>\n",
              "    <div class=\"colab-df-buttons\">\n",
              "\n",
              "  <div class=\"colab-df-container\">\n",
              "    <button class=\"colab-df-convert\" onclick=\"convertToInteractive('df-e116bd98-bdcd-42d5-8404-dbb2336a1252')\"\n",
              "            title=\"Convert this dataframe to an interactive table.\"\n",
              "            style=\"display:none;\">\n",
              "\n",
              "  <svg xmlns=\"http://www.w3.org/2000/svg\" height=\"24px\" viewBox=\"0 -960 960 960\">\n",
              "    <path d=\"M120-120v-720h720v720H120Zm60-500h600v-160H180v160Zm220 220h160v-160H400v160Zm0 220h160v-160H400v160ZM180-400h160v-160H180v160Zm440 0h160v-160H620v160ZM180-180h160v-160H180v160Zm440 0h160v-160H620v160Z\"/>\n",
              "  </svg>\n",
              "    </button>\n",
              "\n",
              "  <style>\n",
              "    .colab-df-container {\n",
              "      display:flex;\n",
              "      gap: 12px;\n",
              "    }\n",
              "\n",
              "    .colab-df-convert {\n",
              "      background-color: #E8F0FE;\n",
              "      border: none;\n",
              "      border-radius: 50%;\n",
              "      cursor: pointer;\n",
              "      display: none;\n",
              "      fill: #1967D2;\n",
              "      height: 32px;\n",
              "      padding: 0 0 0 0;\n",
              "      width: 32px;\n",
              "    }\n",
              "\n",
              "    .colab-df-convert:hover {\n",
              "      background-color: #E2EBFA;\n",
              "      box-shadow: 0px 1px 2px rgba(60, 64, 67, 0.3), 0px 1px 3px 1px rgba(60, 64, 67, 0.15);\n",
              "      fill: #174EA6;\n",
              "    }\n",
              "\n",
              "    .colab-df-buttons div {\n",
              "      margin-bottom: 4px;\n",
              "    }\n",
              "\n",
              "    [theme=dark] .colab-df-convert {\n",
              "      background-color: #3B4455;\n",
              "      fill: #D2E3FC;\n",
              "    }\n",
              "\n",
              "    [theme=dark] .colab-df-convert:hover {\n",
              "      background-color: #434B5C;\n",
              "      box-shadow: 0px 1px 3px 1px rgba(0, 0, 0, 0.15);\n",
              "      filter: drop-shadow(0px 1px 2px rgba(0, 0, 0, 0.3));\n",
              "      fill: #FFFFFF;\n",
              "    }\n",
              "  </style>\n",
              "\n",
              "    <script>\n",
              "      const buttonEl =\n",
              "        document.querySelector('#df-e116bd98-bdcd-42d5-8404-dbb2336a1252 button.colab-df-convert');\n",
              "      buttonEl.style.display =\n",
              "        google.colab.kernel.accessAllowed ? 'block' : 'none';\n",
              "\n",
              "      async function convertToInteractive(key) {\n",
              "        const element = document.querySelector('#df-e116bd98-bdcd-42d5-8404-dbb2336a1252');\n",
              "        const dataTable =\n",
              "          await google.colab.kernel.invokeFunction('convertToInteractive',\n",
              "                                                    [key], {});\n",
              "        if (!dataTable) return;\n",
              "\n",
              "        const docLinkHtml = 'Like what you see? Visit the ' +\n",
              "          '<a target=\"_blank\" href=https://colab.research.google.com/notebooks/data_table.ipynb>data table notebook</a>'\n",
              "          + ' to learn more about interactive tables.';\n",
              "        element.innerHTML = '';\n",
              "        dataTable['output_type'] = 'display_data';\n",
              "        await google.colab.output.renderOutput(dataTable, element);\n",
              "        const docLink = document.createElement('div');\n",
              "        docLink.innerHTML = docLinkHtml;\n",
              "        element.appendChild(docLink);\n",
              "      }\n",
              "    </script>\n",
              "  </div>\n",
              "\n",
              "\n",
              "<div id=\"df-aea1e9ac-1f6c-447c-8b7d-627cdbfd3711\">\n",
              "  <button class=\"colab-df-quickchart\" onclick=\"quickchart('df-aea1e9ac-1f6c-447c-8b7d-627cdbfd3711')\"\n",
              "            title=\"Suggest charts\"\n",
              "            style=\"display:none;\">\n",
              "\n",
              "<svg xmlns=\"http://www.w3.org/2000/svg\" height=\"24px\"viewBox=\"0 0 24 24\"\n",
              "     width=\"24px\">\n",
              "    <g>\n",
              "        <path d=\"M19 3H5c-1.1 0-2 .9-2 2v14c0 1.1.9 2 2 2h14c1.1 0 2-.9 2-2V5c0-1.1-.9-2-2-2zM9 17H7v-7h2v7zm4 0h-2V7h2v10zm4 0h-2v-4h2v4z\"/>\n",
              "    </g>\n",
              "</svg>\n",
              "  </button>\n",
              "\n",
              "<style>\n",
              "  .colab-df-quickchart {\n",
              "      --bg-color: #E8F0FE;\n",
              "      --fill-color: #1967D2;\n",
              "      --hover-bg-color: #E2EBFA;\n",
              "      --hover-fill-color: #174EA6;\n",
              "      --disabled-fill-color: #AAA;\n",
              "      --disabled-bg-color: #DDD;\n",
              "  }\n",
              "\n",
              "  [theme=dark] .colab-df-quickchart {\n",
              "      --bg-color: #3B4455;\n",
              "      --fill-color: #D2E3FC;\n",
              "      --hover-bg-color: #434B5C;\n",
              "      --hover-fill-color: #FFFFFF;\n",
              "      --disabled-bg-color: #3B4455;\n",
              "      --disabled-fill-color: #666;\n",
              "  }\n",
              "\n",
              "  .colab-df-quickchart {\n",
              "    background-color: var(--bg-color);\n",
              "    border: none;\n",
              "    border-radius: 50%;\n",
              "    cursor: pointer;\n",
              "    display: none;\n",
              "    fill: var(--fill-color);\n",
              "    height: 32px;\n",
              "    padding: 0;\n",
              "    width: 32px;\n",
              "  }\n",
              "\n",
              "  .colab-df-quickchart:hover {\n",
              "    background-color: var(--hover-bg-color);\n",
              "    box-shadow: 0 1px 2px rgba(60, 64, 67, 0.3), 0 1px 3px 1px rgba(60, 64, 67, 0.15);\n",
              "    fill: var(--button-hover-fill-color);\n",
              "  }\n",
              "\n",
              "  .colab-df-quickchart-complete:disabled,\n",
              "  .colab-df-quickchart-complete:disabled:hover {\n",
              "    background-color: var(--disabled-bg-color);\n",
              "    fill: var(--disabled-fill-color);\n",
              "    box-shadow: none;\n",
              "  }\n",
              "\n",
              "  .colab-df-spinner {\n",
              "    border: 2px solid var(--fill-color);\n",
              "    border-color: transparent;\n",
              "    border-bottom-color: var(--fill-color);\n",
              "    animation:\n",
              "      spin 1s steps(1) infinite;\n",
              "  }\n",
              "\n",
              "  @keyframes spin {\n",
              "    0% {\n",
              "      border-color: transparent;\n",
              "      border-bottom-color: var(--fill-color);\n",
              "      border-left-color: var(--fill-color);\n",
              "    }\n",
              "    20% {\n",
              "      border-color: transparent;\n",
              "      border-left-color: var(--fill-color);\n",
              "      border-top-color: var(--fill-color);\n",
              "    }\n",
              "    30% {\n",
              "      border-color: transparent;\n",
              "      border-left-color: var(--fill-color);\n",
              "      border-top-color: var(--fill-color);\n",
              "      border-right-color: var(--fill-color);\n",
              "    }\n",
              "    40% {\n",
              "      border-color: transparent;\n",
              "      border-right-color: var(--fill-color);\n",
              "      border-top-color: var(--fill-color);\n",
              "    }\n",
              "    60% {\n",
              "      border-color: transparent;\n",
              "      border-right-color: var(--fill-color);\n",
              "    }\n",
              "    80% {\n",
              "      border-color: transparent;\n",
              "      border-right-color: var(--fill-color);\n",
              "      border-bottom-color: var(--fill-color);\n",
              "    }\n",
              "    90% {\n",
              "      border-color: transparent;\n",
              "      border-bottom-color: var(--fill-color);\n",
              "    }\n",
              "  }\n",
              "</style>\n",
              "\n",
              "  <script>\n",
              "    async function quickchart(key) {\n",
              "      const quickchartButtonEl =\n",
              "        document.querySelector('#' + key + ' button');\n",
              "      quickchartButtonEl.disabled = true;  // To prevent multiple clicks.\n",
              "      quickchartButtonEl.classList.add('colab-df-spinner');\n",
              "      try {\n",
              "        const charts = await google.colab.kernel.invokeFunction(\n",
              "            'suggestCharts', [key], {});\n",
              "      } catch (error) {\n",
              "        console.error('Error during call to suggestCharts:', error);\n",
              "      }\n",
              "      quickchartButtonEl.classList.remove('colab-df-spinner');\n",
              "      quickchartButtonEl.classList.add('colab-df-quickchart-complete');\n",
              "    }\n",
              "    (() => {\n",
              "      let quickchartButtonEl =\n",
              "        document.querySelector('#df-aea1e9ac-1f6c-447c-8b7d-627cdbfd3711 button');\n",
              "      quickchartButtonEl.style.display =\n",
              "        google.colab.kernel.accessAllowed ? 'block' : 'none';\n",
              "    })();\n",
              "  </script>\n",
              "</div>\n",
              "\n",
              "    </div>\n",
              "  </div>\n"
            ],
            "application/vnd.google.colaboratory.intrinsic+json": {
              "type": "dataframe",
              "summary": "{\n  \"name\": \"revenue_df\",\n  \"rows\": 3,\n  \"fields\": [\n    {\n      \"column\": \"count\",\n      \"properties\": {\n        \"dtype\": \"number\",\n        \"std\": 0.0,\n        \"min\": 18484.0,\n        \"max\": 18484.0,\n        \"num_unique_values\": 1,\n        \"samples\": [\n          18484.0\n        ],\n        \"semantic_type\": \"\",\n        \"description\": \"\"\n      }\n    },\n    {\n      \"column\": \"mean\",\n      \"properties\": {\n        \"dtype\": \"number\",\n        \"std\": 21300.253129600867,\n        \"min\": 153.2240315948929,\n        \"max\": 37099.852966890285,\n        \"num_unique_values\": 3,\n        \"samples\": [\n          37099.852966890285\n        ],\n        \"semantic_type\": \"\",\n        \"description\": \"\"\n      }\n    },\n    {\n      \"column\": \"std\",\n      \"properties\": {\n        \"dtype\": \"number\",\n        \"std\": 7366.584552559809,\n        \"min\": 59.98942506547846,\n        \"max\": 12827.674357332926,\n        \"num_unique_values\": 3,\n        \"samples\": [\n          12827.674357332926\n        ],\n        \"semantic_type\": \"\",\n        \"description\": \"\"\n      }\n    },\n    {\n      \"column\": \"min\",\n      \"properties\": {\n        \"dtype\": \"number\",\n        \"std\": 8081.802030700414,\n        \"min\": 69.0,\n        \"max\": 14082.86,\n        \"num_unique_values\": 3,\n        \"samples\": [\n          14082.86\n        ],\n        \"semantic_type\": \"\",\n        \"description\": \"\"\n      }\n    },\n    {\n      \"column\": \"25%\",\n      \"properties\": {\n        \"dtype\": \"number\",\n        \"std\": 16961.627409276716,\n        \"min\": 105.0,\n        \"max\": 29513.5975,\n        \"num_unique_values\": 3,\n        \"samples\": [\n          29513.5975\n        ],\n        \"semantic_type\": \"\",\n        \"description\": \"\"\n      }\n    },\n    {\n      \"column\": \"50%\",\n      \"properties\": {\n        \"dtype\": \"number\",\n        \"std\": 19100.89360374797,\n        \"min\": 123.0,\n        \"max\": 33292.11,\n        \"num_unique_values\": 3,\n        \"samples\": [\n          33292.11\n        ],\n        \"semantic_type\": \"\",\n        \"description\": \"\"\n      }\n    },\n    {\n      \"column\": \"75%\",\n      \"properties\": {\n        \"dtype\": \"number\",\n        \"std\": 22065.04565980948,\n        \"min\": 196.0,\n        \"max\": 38475.9925,\n        \"num_unique_values\": 3,\n        \"samples\": [\n          38475.9925\n        ],\n        \"semantic_type\": \"\",\n        \"description\": \"\"\n      }\n    },\n    {\n      \"column\": \"max\",\n      \"properties\": {\n        \"dtype\": \"number\",\n        \"std\": 49050.750759185124,\n        \"min\": 379.0,\n        \"max\": 85363.95,\n        \"num_unique_values\": 3,\n        \"samples\": [\n          85363.95\n        ],\n        \"semantic_type\": \"\",\n        \"description\": \"\"\n      }\n    }\n  ]\n}"
            }
          },
          "metadata": {},
          "execution_count": 91
        }
      ]
    },
    {
      "cell_type": "markdown",
      "source": [
        "- Vamos indentificar se a nossa base de dados possui *outliers*, ja que eles serão importante para a tomada de decisão e insight."
      ],
      "metadata": {
        "id": "o3Oc3nH4jyO9"
      }
    },
    {
      "cell_type": "code",
      "source": [
        "# Criar o Boxplot da Receita total\n",
        "plt.figure(figsize=(7, 8))\n",
        "sns.boxplot(data=revenue_df['ReceitaTotal'], orient='v', palette= 'Set2')\n",
        "plt.title('Distribuição da Receita Total por Cliente', fontsize=12)\n",
        "plt.xlabel('Receita Total', fontsize=12)\n",
        "plt.show()"
      ],
      "metadata": {
        "colab": {
          "base_uri": "https://localhost:8080/",
          "height": 816
        },
        "id": "PAch4g7Wjusg",
        "outputId": "4a84e563-5821-4b98-a12e-d6b260e4464c"
      },
      "execution_count": null,
      "outputs": [
        {
          "output_type": "stream",
          "name": "stderr",
          "text": [
            "<ipython-input-105-a09cffdf820f>:3: FutureWarning: \n",
            "\n",
            "Passing `palette` without assigning `hue` is deprecated and will be removed in v0.14.0. Assign the `x` variable to `hue` and set `legend=False` for the same effect.\n",
            "\n",
            "  sns.boxplot(data=revenue_df['ReceitaTotal'], orient='v', palette= 'Set2')\n"
          ]
        },
        {
          "output_type": "display_data",
          "data": {
            "text/plain": [
              "<Figure size 700x800 with 1 Axes>"
            ],
            "image/png": "[encoded data removed]"
          },
          "metadata": {}
        }
      ]
    },
    {
      "cell_type": "code",
      "source": [
        "# Criar o Boxplot da Frequencia de Compra\n",
        "plt.figure(figsize=(7, 8))\n",
        "sns.boxplot(data=revenue_df['FrequenciaCompra'], orient='v', palette= 'Set2')\n",
        "plt.title('Distribuição da Frequencia de Compra por Cliente', fontsize=12)\n",
        "plt.xlabel('Frequencia de Compra', fontsize=12)\n",
        "plt.show()"
      ],
      "metadata": {
        "colab": {
          "base_uri": "https://localhost:8080/",
          "height": 815
        },
        "id": "8Hv5wVkvogU-",
        "outputId": "17daab66-67b4-41d5-9dca-944d59ca6d6c"
      },
      "execution_count": null,
      "outputs": [
        {
          "output_type": "stream",
          "name": "stderr",
          "text": [
            "<ipython-input-106-a9c39aa34bfe>:3: FutureWarning: \n",
            "\n",
            "Passing `palette` without assigning `hue` is deprecated and will be removed in v0.14.0. Assign the `x` variable to `hue` and set `legend=False` for the same effect.\n",
            "\n",
            "  sns.boxplot(data=revenue_df['FrequenciaCompra'], orient='v', palette= 'Set2')\n"
          ]
        },
        {
          "output_type": "display_data",
          "data": {
            "text/plain": [
              "<Figure size 700x800 with 1 Axes>"
            ],
            "image/png": "[encoded data removed]"
          },
          "metadata": {}
        }
      ]
    },
    {
      "cell_type": "markdown",
      "source": [
        "Vamos está analisando os cliente mais engajados com a nossa marca e os menos engajados, para isso vamos está ultilizando metodos estatiticos para encontrar os *outliers* superiores e inferiores."
      ],
      "metadata": {
        "id": "RNeZOhVig5fd"
      }
    },
    {
      "cell_type": "code",
      "source": [
        "# Calcular os limites com base na Receita total\n",
        "Q1_receita = revenue_df['ReceitaTotal'].quantile(0.25)\n",
        "Q3_receita = revenue_df['ReceitaTotal'].quantile(0.75)\n",
        "IQR_receita = Q3_receita - Q1_receita\n",
        "\n",
        "# Calcular os limites com base na Frequência de Compra\n",
        "Q1_freq = revenue_df['FrequenciaCompra'].quantile(0.25)\n",
        "Q3_freq = revenue_df['FrequenciaCompra'].quantile(0.75)\n",
        "IQR_freq = Q3_freq - Q1_freq\n",
        "\n",
        "\n",
        "# Limites\n",
        "Limite_inferior_receita = Q1_receita - 1.5 * IQR_receita\n",
        "Limite_superior_receita = Q3_receita + 1.5 * IQR_receita\n",
        "\n",
        "Limite_inferior_freq = Q1_freq - 1.5 * IQR_freq\n",
        "Limite_superior_freq = Q3_freq + 1.5 * IQR_freq\n",
        "\n"
      ],
      "metadata": {
        "id": "ugIlqTNnhWJQ"
      },
      "execution_count": null,
      "outputs": []
    }
  ]
}